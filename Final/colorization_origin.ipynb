{
 "cells": [
  {
   "cell_type": "code",
   "execution_count": 1,
   "metadata": {},
   "outputs": [],
   "source": [
    "\"\"\"\n",
    "    Import package\n",
    "\"\"\"\n",
    "import os\n",
    "import numpy as np\n",
    "import cv2\n",
    "import torch\n",
    "import torch.nn as nn\n",
    "import torchvision.transforms as transforms\n",
    "import pandas as pd\n",
    "from torch.utils.data import DataLoader, Dataset\n",
    "import time\n",
    "import pandas\n",
    "from torchsummary import summary\n",
    "import torch.nn.functional as F\n",
    "import matplotlib.pyplot as plt\n",
    "from tqdm import tqdm"
   ]
  },
  {
   "cell_type": "code",
   "execution_count": 2,
   "metadata": {},
   "outputs": [],
   "source": [
    "\"\"\"\n",
    "    Read Image\n",
    "\"\"\"\n",
    "def readfile(path, label=None, imgRow=256, imgCol=256, datasize=10000):\n",
    "    # label 是 csv file 在 ./ 下的名稱，有提供則回傳 y\n",
    "    image_dir = sorted(os.listdir(path))\n",
    "    i = 0\n",
    "    count = 0\n",
    "    eachFolder = datasize // 1000 #so each folder 10 or 100 images\n",
    "    x = np.zeros((datasize, imgRow, imgCol, 1), dtype=np.uint8)\n",
    "    y = np.zeros((datasize, imgRow, imgCol, 2), dtype=np.uint8)\n",
    "    \n",
    "    \n",
    "    for folders in tqdm(image_dir):\n",
    "        imgPath = os.path.join(path, folders)\n",
    "        for file in os.listdir(imgPath):\n",
    "            img = cv2.imread(os.path.join(imgPath, file))\n",
    "            #plt.imshow(img)\n",
    "            #plt.show()\n",
    "            #return\n",
    "            \n",
    "            # 0≤L≤100 , −127≤a≤127, −127≤b≤127\n",
    "            # 8-bit images: L←L∗255/100,a←a+128,b←b+128\n",
    "            img = cv2.resize(img,(imgCol, imgRow))\n",
    "            lab_image = cv2.cvtColor(img, cv2.COLOR_BGR2LAB) \n",
    "            l_channel, a_channel, b_channel = cv2.split(lab_image)\n",
    "            x[i, :, :, 0] = l_channel # (x, y)\n",
    "            y[i, :, :, 0] = a_channel\n",
    "            y[i, :, :, 1] = b_channel\n",
    "            i += 1\n",
    "            count += 1\n",
    "            if(count == eachFolder):\n",
    "                count = 0\n",
    "                break\n",
    "    return x, y\n",
    "    \n",
    "def valAndTest(path, label=None, imgRow=256, imgCol=256, datasize=2000):\n",
    "    # label 是 csv file 在 ./ 下的名稱，有提供則回傳 y\n",
    "    image_dir = sorted(os.listdir(path))\n",
    "    i = 0\n",
    "    j = 0\n",
    "    count = 0\n",
    "    eachFolder = datasize // 1000 #so each folder 10 or 100 images\n",
    "    xVal = np.zeros((datasize, imgRow, imgCol, 1), dtype=np.uint8)\n",
    "    yVal = np.zeros((datasize, imgRow, imgCol, 2), dtype=np.uint8)\n",
    "    xTest= np.zeros((datasize, imgRow, imgCol, 1), dtype=np.uint8)\n",
    "    yTest= np.zeros((datasize, imgRow, imgCol, 2), dtype=np.uint8)\n",
    "    \n",
    "    for file in image_dir:\n",
    "        img = cv2.imread(os.path.join(path, file))\n",
    "        img = cv2.resize(img,(imgCol, imgRow))\n",
    "        lab_image = cv2.cvtColor(img, cv2.COLOR_BGR2LAB) \n",
    "        l_channel, a_channel, b_channel = cv2.split(lab_image)\n",
    "        \n",
    "        if(count < datasize): # val\n",
    "            xVal[i, :, :, 0] = l_channel\n",
    "            yVal[i, :, :, 0] = a_channel\n",
    "            yVal[i, :, :, 1] = b_channel\n",
    "            i += 1\n",
    "        else: # test\n",
    "            xTest[j, :, :, 0] = l_channel\n",
    "            yTest[j, :, :, 0] = a_channel\n",
    "            yTest[j, :, :, 1] = b_channel\n",
    "            j += 1\n",
    "        count += 1\n",
    "        \n",
    "        if(count == datasize*2):\n",
    "            break\n",
    "    \n",
    "            \n",
    "    return xVal, yVal, xTest, yTest\n"
   ]
  },
  {
   "cell_type": "code",
   "execution_count": 3,
   "metadata": {},
   "outputs": [
    {
     "name": "stderr",
     "output_type": "stream",
     "text": [
      "\r",
      "  0%|                                                                                         | 0/1000 [00:00<?, ?it/s]"
     ]
    },
    {
     "name": "stdout",
     "output_type": "stream",
     "text": [
      "Reading data\n"
     ]
    },
    {
     "name": "stderr",
     "output_type": "stream",
     "text": [
      "100%|██████████████████████████████████████████████████████████████████████████████| 1000/1000 [09:27<00:00,  1.76it/s]\n"
     ]
    },
    {
     "name": "stdout",
     "output_type": "stream",
     "text": [
      "Size of training data = 100000\n",
      "Size of validation data = 5000\n",
      "Size of testing data = 5000\n"
     ]
    }
   ],
   "source": [
    "\n",
    "#分別將 training set、validation set、testing set 用 readfile 函式讀進來\n",
    "workspace_dir = 'D:\\Downloads\\ILSVRC\\Data\\CLS-LOC'\n",
    "print(\"Reading data\")\n",
    "#train_x, train_y = readfile(os.path.join(workspace_dir, \"train\"), \"train\", imgRow=256, imgCol=256)\n",
    "train_x, train_y = readfile(os.path.join(workspace_dir, \"train\"), \"train\", imgRow=256, imgCol=256, datasize=100000)\n",
    "print(\"Size of training data = {}\".format(len(train_x)))"
   ]
  },
  {
   "cell_type": "code",
   "execution_count": null,
   "metadata": {},
   "outputs": [],
   "source": [
    "L = train_x[101]\n",
    "realAB = train_y[101]\n",
    "realImg = (np.concatenate((L, realAB), axis=2)).astype(np.uint8)\n",
    "# opencv 用 datatype 判斷圖片\n",
    "realImg = cv2.cvtColor(realImg, cv2.COLOR_LAB2RGB)\n",
    "plt.imshow(realImg)\n",
    "plt.show()\n",
    "\n",
    "L = train_x[99000]\n",
    "realAB = train_y[99000]\n",
    "realImg = (np.concatenate((L, realAB), axis=2)).astype(np.uint8)\n",
    "# opencv 用 datatype 判斷圖片\n",
    "realImg = cv2.cvtColor(realImg, cv2.COLOR_LAB2RGB)\n",
    "plt.imshow(realImg)\n",
    "plt.show()"
   ]
  },
  {
   "cell_type": "code",
   "execution_count": 3,
   "metadata": {},
   "outputs": [
    {
     "name": "stdout",
     "output_type": "stream",
     "text": [
      "Size of validation data = 5000\n",
      "Size of testing data = 5000\n"
     ]
    }
   ],
   "source": [
    "workspace_dir = 'D:\\Downloads\\ILSVRC\\Data\\CLS-LOC'\n",
    "#val_x, val_y, test_x, test_y = valAndTest(os.path.join(workspace_dir, \"val\"), \"dev\", imgRow=256, imgCol=256)\n",
    "val_x, val_y, test_x, test_y = valAndTest(os.path.join(workspace_dir, \"val\"), \"dev\", imgRow=256, imgCol=256, datasize=5000)\n",
    "print(\"Size of validation data = {}\".format(len(val_x)))\n",
    "print(\"Size of testing data = {}\".format(len(test_x)))"
   ]
  },
  {
   "cell_type": "code",
   "execution_count": 4,
   "metadata": {
    "scrolled": true
   },
   "outputs": [
    {
     "data": {
      "image/png": "[encoded data removed]",
      "text/plain": [
       "<Figure size 432x288 with 1 Axes>"
      ]
     },
     "metadata": {
      "needs_background": "light"
     },
     "output_type": "display_data"
    },
    {
     "data": {
      "image/png": "[encoded data removed]",
      "text/plain": [
       "<Figure size 432x288 with 1 Axes>"
      ]
     },
     "metadata": {
      "needs_background": "light"
     },
     "output_type": "display_data"
    }
   ],
   "source": [
    "L = val_x[4999]\n",
    "realAB = val_y[4999]\n",
    "realImg = (np.concatenate((L, realAB), axis=2)).astype(np.uint8)\n",
    "# opencv 用 datatype 判斷圖片\n",
    "realImg = cv2.cvtColor(realImg, cv2.COLOR_LAB2RGB)\n",
    "plt.imshow(realImg)\n",
    "plt.show()\n",
    "\n",
    "L = test_x[4999]\n",
    "realAB = test_y[4999]\n",
    "realImg = (np.concatenate((L, realAB), axis=2)).astype(np.uint8)\n",
    "# opencv 用 datatype 判斷圖片\n",
    "realImg = cv2.cvtColor(realImg, cv2.COLOR_LAB2RGB)\n",
    "plt.imshow(realImg)\n",
    "plt.show()"
   ]
  },
  {
   "cell_type": "code",
   "execution_count": 5,
   "metadata": {},
   "outputs": [
    {
     "data": {
      "text/plain": [
       "'\\ntrain_transform = transforms.Compose([\\n    transforms.ToPILImage(),\\n    transforms.RandomChoice([transforms.RandomResizedCrop(fineSize, interpolation=1),\\n                            transforms.RandomResizedCrop(fineSize, interpolation=2),\\n                            transforms.RandomResizedCrop(fineSize, interpolation=3)]),\\n    transforms.RandomHorizontalFlip(), #隨機將圖片水平翻轉\\n    transforms.RandomVerticalFlip(), #隨機將圖片垂直翻轉\\n    transforms.ToTensor(), #將圖片轉成 Tensor，並把數值normalize到[0,1](data normalization)\\n])\\n#testing & val 時不需做 data augmentation\\nval_transform = transforms.Compose([\\n    transforms.ToPILImage(),\\n    transforms.RandomChoice([transforms.RandomResizedCrop(fineSize, interpolation=1),\\n                            transforms.RandomResizedCrop(fineSize, interpolation=2),\\n                            transforms.RandomResizedCrop(fineSize, interpolation=3)]),\\n    transforms.ToTensor(),\\n])\\n'"
      ]
     },
     "execution_count": 5,
     "metadata": {},
     "output_type": "execute_result"
    }
   ],
   "source": [
    "import torchvision.transforms.functional as TF\n",
    "import random\n",
    "\n",
    "fineSize = 176 # 因為 /4 = 44\n",
    "\n",
    "class ImgDataset(Dataset):\n",
    "    def __init__(self, x, y):\n",
    "        self.x = x\n",
    "        self.y = y\n",
    "    \n",
    "    def transform(self, image, mask):\n",
    "        #transforms.ToPILImage(),\n",
    "        toPIL = transforms.ToPILImage()\n",
    "        image = toPIL(image)\n",
    "        mask = toPIL(mask)\n",
    "\n",
    "        # Random crop\n",
    "        i, j, h, w = transforms.RandomCrop.get_params(\n",
    "            image, output_size=(fineSize, fineSize))\n",
    "        image = TF.crop(image, i, j, h, w)\n",
    "        mask = TF.crop(mask, i, j, h, w)\n",
    "\n",
    "        # Random horizontal flipping\n",
    "        if random.random() > 0.5:\n",
    "            image = TF.hflip(image)\n",
    "            mask = TF.hflip(mask)\n",
    "\n",
    "        # Transform to tensor\n",
    "        image = TF.to_tensor(image)\n",
    "        mask = TF.to_tensor(mask)\n",
    "        return image, mask\n",
    "    \n",
    "    def __len__(self):\n",
    "        return len(self.x)\n",
    "    \n",
    "    def __getitem__(self, index):\n",
    "        X, Y = self.transform(self.x[index], self.y[index])\n",
    "        return X, Y\n",
    "\n",
    "\"\"\"\n",
    "train_transform = transforms.Compose([\n",
    "    transforms.ToPILImage(),\n",
    "    transforms.RandomChoice([transforms.RandomResizedCrop(fineSize, interpolation=1),\n",
    "                            transforms.RandomResizedCrop(fineSize, interpolation=2),\n",
    "                            transforms.RandomResizedCrop(fineSize, interpolation=3)]),\n",
    "    transforms.RandomHorizontalFlip(), #隨機將圖片水平翻轉\n",
    "    transforms.RandomVerticalFlip(), #隨機將圖片垂直翻轉\n",
    "    transforms.ToTensor(), #將圖片轉成 Tensor，並把數值normalize到[0,1](data normalization)\n",
    "])\n",
    "#testing & val 時不需做 data augmentation\n",
    "val_transform = transforms.Compose([\n",
    "    transforms.ToPILImage(),\n",
    "    transforms.RandomChoice([transforms.RandomResizedCrop(fineSize, interpolation=1),\n",
    "                            transforms.RandomResizedCrop(fineSize, interpolation=2),\n",
    "                            transforms.RandomResizedCrop(fineSize, interpolation=3)]),\n",
    "    transforms.ToTensor(),\n",
    "])\n",
    "\"\"\"\n",
    "#會有 X 與 Y transform 不一致的問題\n",
    "#https://discuss.pytorch.org/t/torchvision-transfors-how-to-perform-identical-transform-on-both-image-and-target/10606/6"
   ]
  },
  {
   "cell_type": "code",
   "execution_count": 6,
   "metadata": {},
   "outputs": [],
   "source": [
    "train_set = ImgDataset(train_x, train_y)\n",
    "val_set = ImgDataset(val_x, val_y)\n",
    "\n",
    "batch_size = 16\n",
    "train_loader = DataLoader(train_set, batch_size=batch_size, shuffle=True)\n",
    "#num_workers= ? #如果 load data 特別處理，可能有 preprocessing。幫助平行化\n",
    "val_loader = DataLoader(val_set, batch_size=batch_size, shuffle=False) #windows 只能 run 0\n",
    "#https://github.com/pytorch/pytorch/issues/2341"
   ]
  },
  {
   "cell_type": "code",
   "execution_count": 5,
   "metadata": {},
   "outputs": [],
   "source": [
    "\"\"\"\n",
    "    Model\n",
    "\"\"\"\n",
    "# input 維度 [3, 176, 176]\n",
    "# nn.Conv2d(in_channels, out_channels, kernel_size, stride=1, padding=0, dilation=1, groups=1, bias=True, padding_mode='zeros')\n",
    "# nn.MaxPool2d(kernel_size, stride, padding)\n",
    "# nn.ReLU(inplace=False) #true 可以些微降低記憶體使用量 (如果不會造成問題的話)\n",
    "# nn.LeakyReLU\n",
    "# nn.ConvTranspose2d(in_channels, out_channels, kernel_size, stride=1, padding=0, output_padding=0, groups=1, bias=True, dilation=1, padding_mode='zeros')\n",
    "# nn.BatchNorm2d(channels)\n",
    "# nn.functional.interpolate(input, size=None, scale_factor=None, mode='nearest', align_corners=None, recompute_scale_factor=None)\n",
    "\n",
    "# Resnet, ResNeXt\n",
    "#https://github.com/pytorch/vision/blob/master/torchvision/models/resnet.py\n",
    "def conv3x3(in_planes, out_planes, stride=1, groups=1, dilation=1):\n",
    "    \"\"\"3x3 convolution with padding\"\"\"\n",
    "    return nn.Conv2d(in_planes, out_planes, kernel_size=3, stride=stride,\n",
    "                     padding=dilation, groups=groups, bias=True, dilation=dilation)\n",
    "    #In a large model, removing the bias inputs makes very little difference \n",
    "    #https://stackoverflow.com/questions/51959507/does-bias-in-the-convolutional-layer-really-make-a-difference-to-the-test-accura\n",
    "\n",
    "\n",
    "def conv1x1(in_planes, out_planes, stride=1):\n",
    "    \"\"\"1x1 convolution\"\"\"\n",
    "    return nn.Conv2d(in_planes, out_planes, kernel_size=1, stride=stride, bias=True)\n",
    "    \n",
    "    \n",
    "  \n",
    "\"\"\"\n",
    "    (0): BasicBlock(\n",
    "      (conv1): Conv2d(64, 64, kernel_size=(3, 3), stride=(1, 1), padding=(1, 1), bias=False)\n",
    "      (bn1): BatchNorm2d(64, eps=1e-05, momentum=0.1, affine=True, track_running_stats=True)\n",
    "      (relu): ReLU(inplace=True)\n",
    "      (conv2): Conv2d(64, 64, kernel_size=(3, 3), stride=(1, 1), padding=(1, 1), bias=False)\n",
    "      (bn2): BatchNorm2d(64, eps=1e-05, momentum=0.1, affine=True, track_running_stats=True)\n",
    "    )\n",
    "    ...\n",
    "    之後需要增加 channel 的時候再對 input 做 1x1 conv \n",
    "    (0): BasicBlock(\n",
    "      (conv1): Conv2d(64, 128, kernel_size=(3, 3), stride=(2, 2), padding=(1, 1), bias=False)\n",
    "      (bn1): BatchNorm2d(128, eps=1e-05, momentum=0.1, affine=True, track_running_stats=True)\n",
    "      (relu): ReLU(inplace=True)\n",
    "      (conv2): Conv2d(128, 128, kernel_size=(3, 3), stride=(1, 1), padding=(1, 1), bias=False)\n",
    "      (bn2): BatchNorm2d(128, eps=1e-05, momentum=0.1, affine=True, track_running_stats=True)\n",
    "      (downsample): Sequential(\n",
    "        (0): Conv2d(64, 128, kernel_size=(1, 1), stride=(2, 2), bias=False)\n",
    "        (1): BatchNorm2d(128, eps=1e-05, momentum=0.1, affine=True, track_running_stats=True)\n",
    "      )\n",
    "    )\n",
    "\"\"\"\n",
    "# pre-activation (resnet v2)\n",
    "# ResnetBlock(64, 128, downsample=True) -> 128\n",
    "# ResnetBlock(128, 128, isThree=True) -> 128\n",
    "class ResnetBlock(nn.Module):\n",
    "    expansion = 1\n",
    "\n",
    "    def __init__(self, inplanes, planes, stride=1, norm_layer=None, downsample=False, isThree=False):\n",
    "        super(ResnetBlock, self).__init__()\n",
    "        if norm_layer is None:\n",
    "            norm_layer = nn.BatchNorm2d\n",
    "            \n",
    "        self.bn1 = norm_layer(inplanes) #64\n",
    "        self.conv1 = conv3x3(inplanes, planes, stride) #64 -> 128\n",
    "        self.bn2 = norm_layer(planes)\n",
    "        self.conv2 = conv3x3(planes, planes) #128 -> 128\n",
    "        self.bn3 = norm_layer(planes)\n",
    "        self.conv3 = conv3x3(planes, planes)\n",
    "        self.relu = nn.ReLU(inplace=True)\n",
    "        self.down = conv1x1(inplanes, planes) #64->128\n",
    "        \n",
    "        self.downsample = downsample\n",
    "        self.isThree = isThree\n",
    "        self.stride = stride\n",
    "\n",
    "    def forward(self, x):\n",
    "        identity = x\n",
    "\n",
    "        out = self.bn1(x)\n",
    "        out = self.relu(out)\n",
    "        out = self.conv1(out)\n",
    "\n",
    "        out = self.bn2(out)\n",
    "        out = self.relu(out)\n",
    "        out = self.conv2(out)\n",
    "        \n",
    "        if(self.isThree):\n",
    "            out = self.bn3(out)\n",
    "            out = self.relu(out)\n",
    "            out = self.conv3(out)\n",
    "        \n",
    "        if self.downsample:\n",
    "            identity = self.down(x)\n",
    "\n",
    "        out += identity\n",
    "\n",
    "        return out\n",
    "\n",
    "\"\"\"\n",
    "(0)Bottleneck(\n",
    "    (conv1): Conv2d(64, 128, kernel_size=(1, 1), stride=(1, 1), bias=False)\n",
    "    (bn1): BatchNorm2d(128, eps=1e-05, momentum=0.1, affine=True, track_running_stats=True)\n",
    "    (conv2): Conv2d(128, 128, kernel_size=(3, 3), stride=(1, 1), padding=(1, 1), groups=32, bias=False)\n",
    "    (bn2): BatchNorm2d(128, eps=1e-05, momentum=0.1, affine=True, track_running_stats=True)\n",
    "    (conv3): Conv2d(128, 256, kernel_size=(1, 1), stride=(1, 1), bias=False)\n",
    "    (bn3): BatchNorm2d(256, eps=1e-05, momentum=0.1, affine=True, track_running_stats=True)\n",
    "    (relu): ReLU(inplace=True)\n",
    "    (downsample): Sequential(\n",
    "        (0): Conv2d(64, 256, kernel_size=(1, 1), stride=(1, 1), bias=False)\n",
    "        (1): BatchNorm2d(256, eps=1e-05, momentum=0.1, affine=True, track_running_stats=True)\n",
    "    )\n",
    ")\n",
    "之後正常\n",
    "(1): Bottleneck(\n",
    "    (conv1): Conv2d(256, 128, kernel_size=(1, 1), stride=(1, 1), bias=False)\n",
    "    (bn1): BatchNorm2d(128, eps=1e-05, momentum=0.1, affine=True, track_running_stats=True)\n",
    "    (conv2): Conv2d(128, 128, kernel_size=(3, 3), stride=(1, 1), padding=(1, 1), groups=32, bias=False)\n",
    "    (bn2): BatchNorm2d(128, eps=1e-05, momentum=0.1, affine=True, track_running_stats=True)\n",
    "    (conv3): Conv2d(128, 256, kernel_size=(1, 1), stride=(1, 1), bias=False)\n",
    "    (bn3): BatchNorm2d(256, eps=1e-05, momentum=0.1, affine=True, track_running_stats=True)\n",
    "    (relu): ReLU(inplace=True)\n",
    ")\n",
    "\n",
    "\"\"\"\n",
    "#ResNextBlock(64, 64, downsample=True) -> 128\n",
    "#ResNextBlock(128, 64) -> 128\n",
    "\n",
    "class ResNextBlock(nn.Module):\n",
    "    expansion = 4\n",
    "\n",
    "    def __init__(self, inplanes, planes, stride=1, groups=32, dilation=1, norm_layer=None, downsample=False):\n",
    "        super(ResNextBlock, self).__init__()\n",
    "        if norm_layer is None:\n",
    "            norm_layer = nn.BatchNorm2d\n",
    "        width = planes\n",
    "        # Both self.conv2 and self.downsample layers downsample the input when stride != 1\n",
    "        self.conv1 = conv1x1(inplanes, width) #64->64\n",
    "        self.bn1 = norm_layer(width)\n",
    "        self.conv2 = conv3x3(width, width, stride, groups, dilation) #64->64\n",
    "        self.bn2 = norm_layer(width)\n",
    "        self.conv3 = conv1x1(width, width * 2) #64->128\n",
    "        self.bn3 = norm_layer(width * 2)\n",
    "        self.relu = nn.ReLU(inplace=True)\n",
    "        self.down = conv1x1(inplanes, width * 2) #64->128\n",
    "        \n",
    "        self.downsample = downsample\n",
    "        self.stride = stride\n",
    "\n",
    "    def forward(self, x):\n",
    "        identity = x\n",
    "\n",
    "        out = self.conv1(x)\n",
    "        out = self.bn1(out)\n",
    "        out = self.relu(out)\n",
    "\n",
    "        out = self.conv2(out)\n",
    "        out = self.bn2(out)\n",
    "        out = self.relu(out)\n",
    "\n",
    "        out = self.conv3(out)\n",
    "        out = self.bn3(out)\n",
    "        \n",
    "        if self.downsample:\n",
    "            identity = self.down(x)\n",
    "\n",
    "        out += identity\n",
    "        out = self.relu(out)\n",
    "\n",
    "        return out\n",
    "    \n"
   ]
  },
  {
   "cell_type": "code",
   "execution_count": 6,
   "metadata": {},
   "outputs": [],
   "source": [
    "class Unet(nn.Module):\n",
    "    def __init__(self, in_channels, out_channels, classification=True):\n",
    "        super(Unet, self).__init__()\n",
    "        self.classification = classification\n",
    "        \n",
    "        self.conv1 = nn.Sequential(\n",
    "            conv3x3(in_channels, 64), # 4 -> raw 1 channel + rgb userinput 3 channels\n",
    "            nn.ReLU(inplace=True),\n",
    "            conv3x3(64, 64),\n",
    "            nn.ReLU(inplace=True),\n",
    "            nn.BatchNorm2d(64),\n",
    "        )\n",
    "        #downsampling\n",
    "        self.conv2 = nn.Sequential(\n",
    "            conv3x3(64, 128),\n",
    "            nn.ReLU(inplace=True),\n",
    "            conv3x3(128, 128),\n",
    "            nn.ReLU(inplace=True),\n",
    "            nn.BatchNorm2d(128),\n",
    "        )\n",
    "        #downsampling\n",
    "        self.conv3 = nn.Sequential(\n",
    "            conv3x3(128, 256),\n",
    "            nn.ReLU(inplace=True),\n",
    "            conv3x3(256, 256),\n",
    "            nn.ReLU(inplace=True),\n",
    "            conv3x3(256, 256),\n",
    "            nn.ReLU(inplace=True),\n",
    "            nn.BatchNorm2d(256),\n",
    "        )\n",
    "         #downsampling\n",
    "        self.conv4 = nn.Sequential(\n",
    "            conv3x3(256, 512),\n",
    "            nn.ReLU(inplace=True),\n",
    "            conv3x3(512, 512),\n",
    "            nn.ReLU(inplace=True),\n",
    "            conv3x3(512, 512),\n",
    "            nn.ReLU(inplace=True),\n",
    "            nn.BatchNorm2d(512),\n",
    "        )\n",
    "        \n",
    "        self.conv5 = nn.Sequential(\n",
    "            conv3x3(512, 512),\n",
    "            nn.ReLU(inplace=True),\n",
    "            conv3x3(512, 512),\n",
    "            nn.ReLU(inplace=True),\n",
    "            conv3x3(512, 512),\n",
    "            nn.ReLU(inplace=True),\n",
    "            nn.BatchNorm2d(512),\n",
    "        )\n",
    "        \n",
    "        self.conv6 = nn.Sequential(\n",
    "            conv3x3(512, 512),\n",
    "            nn.ReLU(inplace=True),\n",
    "            conv3x3(512, 512),\n",
    "            nn.ReLU(inplace=True),\n",
    "            conv3x3(512, 512),\n",
    "            nn.ReLU(inplace=True),\n",
    "            nn.BatchNorm2d(512),\n",
    "        )\n",
    "        \n",
    "        self.conv7 = nn.Sequential(\n",
    "            conv3x3(512, 512),\n",
    "            nn.ReLU(inplace=True),\n",
    "            conv3x3(512, 512),\n",
    "            nn.ReLU(inplace=True),\n",
    "            conv3x3(512, 512),\n",
    "            nn.ReLU(inplace=True),\n",
    "            nn.BatchNorm2d(512),\n",
    "        )\n",
    "        #upsampling\n",
    "        self.up8 = nn.ConvTranspose2d(512, 256, kernel_size=4, stride=2, padding=1, bias=True)\n",
    "        \n",
    "        self.conv3to8 = conv3x3(256, 256)\n",
    "        self.conv8 = nn.Sequential(\n",
    "            nn.ReLU(inplace=True),\n",
    "            conv3x3(256, 256),\n",
    "            nn.ReLU(inplace=True),\n",
    "            conv3x3(256, 256),\n",
    "            nn.ReLU(inplace=True),\n",
    "            nn.BatchNorm2d(256),\n",
    "        )\n",
    "        #upsampling\n",
    "        self.up9 = nn.ConvTranspose2d(256, 128, kernel_size=4, stride=2, padding=1, bias=True)\n",
    "        \n",
    "        self.conv2to9 = conv3x3(128, 128)\n",
    "        self.conv9 = nn.Sequential(\n",
    "            nn.ReLU(inplace=True),\n",
    "            conv3x3(128, 128),\n",
    "            nn.ReLU(inplace=True),\n",
    "            nn.BatchNorm2d(128),\n",
    "        )\n",
    "        #upsampling\n",
    "        self.up10 = nn.ConvTranspose2d(128, 128, kernel_size=4, stride=2, padding=1, bias=True)\n",
    "        \n",
    "        self.conv1to10 = conv3x3(64, 128)\n",
    "        self.conv10 = nn.Sequential(\n",
    "            nn.ReLU(inplace=True),\n",
    "            conv3x3(128, 128),\n",
    "            nn.LeakyReLU(negative_slope=.2),\n",
    "        )\n",
    "        \n",
    "        # classification output\n",
    "        self.model_class= nn.Conv2d(256, 529, kernel_size=1, padding=0, dilation=1, stride=1, bias=True)\n",
    "        \n",
    "        # regression output\n",
    "        self.model_out = nn.Sequential(\n",
    "            nn.Conv2d(128, 2, kernel_size=1, padding=0, dilation=1, stride=1, bias=True),\n",
    "            nn.Sigmoid(), # 0~1\n",
    "        )\n",
    "        \n",
    "        \n",
    "    def forward(self, x):\n",
    "        conv1_2 = self.conv1(x) #176\n",
    "        conv2_2 = self.conv2(conv1_2[:,:,::2,::2])\n",
    "        conv3_3 = self.conv3(conv2_2[:,:,::2,::2])\n",
    "        \n",
    "        conv4_3 = self.conv4(conv3_3[:,:,::2,::2])\n",
    "        conv5_3 = self.conv5(conv4_3)\n",
    "        conv6_3 = self.conv6(conv5_3)\n",
    "        conv7_3 = self.conv7(conv6_3)\n",
    "        \n",
    "        conv8_up = self.up8(conv7_3) + self.conv3to8(conv3_3)\n",
    "        conv8_3 = self.conv8(conv8_up)\n",
    "        \n",
    "        \"\"\"\n",
    "        conv9_up = self.up9(conv8_3) + self.conv2to9(conv2_2)\n",
    "        conv9_3 = self.conv9(conv9_up)\n",
    "        \n",
    "        conv10_up = self.up10(conv9_3) + self.conv1to10(conv1_2)\n",
    "        conv10_2 = self.conv10(conv10_up)dewwwwwwwwwwwww\n",
    "        out_reg = self.model_out(conv10_2)\n",
    "        \"\"\"\n",
    "        if(self.classification):\n",
    "            out_class = self.model_class(conv8_3)\n",
    "\n",
    "            conv9_up = self.up9(conv8_3.detach()) + self.conv2to9(conv2_2.detach())\n",
    "            conv9_3 = self.conv9(conv9_up)\n",
    "            conv10_up = self.up10(conv9_3) + self.conv1to10(conv1_2.detach())\n",
    "            conv10_2 = self.conv10(conv10_up)\n",
    "            out_reg = self.model_out(conv10_2)\n",
    "        else:\n",
    "            out_class = self.model_class(conv8_3.detach())\n",
    "\n",
    "            conv9_up = self.up9(conv8_3) + self.conv2to9(conv2_2)\n",
    "            conv9_3 = self.conv9(conv9_up)\n",
    "            conv10_up = self.up10(conv9_3) + self.conv1to10(conv1_2)\n",
    "            conv10_2 = self.conv10(conv10_up)\n",
    "            out_reg = self.model_out(conv10_2)\n",
    "\n",
    "        return (out_class, out_reg)"
   ]
  },
  {
   "cell_type": "code",
   "execution_count": 7,
   "metadata": {
    "scrolled": true
   },
   "outputs": [
    {
     "name": "stdout",
     "output_type": "stream",
     "text": [
      "----------------------------------------------------------------\n",
      "        Layer (type)               Output Shape         Param #\n",
      "================================================================\n",
      "            Conv2d-1         [-1, 64, 176, 176]             640\n",
      "              ReLU-2         [-1, 64, 176, 176]               0\n",
      "            Conv2d-3         [-1, 64, 176, 176]          36,928\n",
      "              ReLU-4         [-1, 64, 176, 176]               0\n",
      "       BatchNorm2d-5         [-1, 64, 176, 176]             128\n",
      "            Conv2d-6          [-1, 128, 88, 88]          73,856\n",
      "              ReLU-7          [-1, 128, 88, 88]               0\n",
      "            Conv2d-8          [-1, 128, 88, 88]         147,584\n",
      "              ReLU-9          [-1, 128, 88, 88]               0\n",
      "      BatchNorm2d-10          [-1, 128, 88, 88]             256\n",
      "           Conv2d-11          [-1, 256, 44, 44]         295,168\n",
      "             ReLU-12          [-1, 256, 44, 44]               0\n",
      "           Conv2d-13          [-1, 256, 44, 44]         590,080\n",
      "             ReLU-14          [-1, 256, 44, 44]               0\n",
      "           Conv2d-15          [-1, 256, 44, 44]         590,080\n",
      "             ReLU-16          [-1, 256, 44, 44]               0\n",
      "      BatchNorm2d-17          [-1, 256, 44, 44]             512\n",
      "           Conv2d-18          [-1, 512, 22, 22]       1,180,160\n",
      "             ReLU-19          [-1, 512, 22, 22]               0\n",
      "           Conv2d-20          [-1, 512, 22, 22]       2,359,808\n",
      "             ReLU-21          [-1, 512, 22, 22]               0\n",
      "           Conv2d-22          [-1, 512, 22, 22]       2,359,808\n",
      "             ReLU-23          [-1, 512, 22, 22]               0\n",
      "      BatchNorm2d-24          [-1, 512, 22, 22]           1,024\n",
      "           Conv2d-25          [-1, 512, 22, 22]       2,359,808\n",
      "             ReLU-26          [-1, 512, 22, 22]               0\n",
      "           Conv2d-27          [-1, 512, 22, 22]       2,359,808\n",
      "             ReLU-28          [-1, 512, 22, 22]               0\n",
      "           Conv2d-29          [-1, 512, 22, 22]       2,359,808\n",
      "             ReLU-30          [-1, 512, 22, 22]               0\n",
      "      BatchNorm2d-31          [-1, 512, 22, 22]           1,024\n",
      "           Conv2d-32          [-1, 512, 22, 22]       2,359,808\n",
      "             ReLU-33          [-1, 512, 22, 22]               0\n",
      "           Conv2d-34          [-1, 512, 22, 22]       2,359,808\n",
      "             ReLU-35          [-1, 512, 22, 22]               0\n",
      "           Conv2d-36          [-1, 512, 22, 22]       2,359,808\n",
      "             ReLU-37          [-1, 512, 22, 22]               0\n",
      "      BatchNorm2d-38          [-1, 512, 22, 22]           1,024\n",
      "           Conv2d-39          [-1, 512, 22, 22]       2,359,808\n",
      "             ReLU-40          [-1, 512, 22, 22]               0\n",
      "           Conv2d-41          [-1, 512, 22, 22]       2,359,808\n",
      "             ReLU-42          [-1, 512, 22, 22]               0\n",
      "           Conv2d-43          [-1, 512, 22, 22]       2,359,808\n",
      "             ReLU-44          [-1, 512, 22, 22]               0\n",
      "      BatchNorm2d-45          [-1, 512, 22, 22]           1,024\n",
      "  ConvTranspose2d-46          [-1, 256, 44, 44]       2,097,408\n",
      "           Conv2d-47          [-1, 256, 44, 44]         590,080\n",
      "             ReLU-48          [-1, 256, 44, 44]               0\n",
      "           Conv2d-49          [-1, 256, 44, 44]         590,080\n",
      "             ReLU-50          [-1, 256, 44, 44]               0\n",
      "           Conv2d-51          [-1, 256, 44, 44]         590,080\n",
      "             ReLU-52          [-1, 256, 44, 44]               0\n",
      "      BatchNorm2d-53          [-1, 256, 44, 44]             512\n",
      "           Conv2d-54          [-1, 529, 44, 44]         135,953\n",
      "  ConvTranspose2d-55          [-1, 128, 88, 88]         524,416\n",
      "           Conv2d-56          [-1, 128, 88, 88]         147,584\n",
      "             ReLU-57          [-1, 128, 88, 88]               0\n",
      "           Conv2d-58          [-1, 128, 88, 88]         147,584\n",
      "             ReLU-59          [-1, 128, 88, 88]               0\n",
      "      BatchNorm2d-60          [-1, 128, 88, 88]             256\n",
      "  ConvTranspose2d-61        [-1, 128, 176, 176]         262,272\n",
      "           Conv2d-62        [-1, 128, 176, 176]          73,856\n",
      "             ReLU-63        [-1, 128, 176, 176]               0\n",
      "           Conv2d-64        [-1, 128, 176, 176]         147,584\n",
      "        LeakyReLU-65        [-1, 128, 176, 176]               0\n",
      "           Conv2d-66          [-1, 2, 176, 176]             258\n",
      "          Sigmoid-67          [-1, 2, 176, 176]               0\n",
      "================================================================\n",
      "Total params: 34,185,299\n",
      "Trainable params: 34,185,299\n",
      "Non-trainable params: 0\n",
      "----------------------------------------------------------------\n",
      "Input size (MB): 0.12\n",
      "Forward/backward pass size (MB): 428.48\n",
      "Params size (MB): 130.41\n",
      "Estimated Total Size (MB): 559.00\n",
      "----------------------------------------------------------------\n",
      "None\n"
     ]
    }
   ],
   "source": [
    "model = Unet(in_channels=1, out_channels=2).cuda()\n",
    "print( summary(model, (1, 176, 176)) )"
   ]
  },
  {
   "cell_type": "code",
   "execution_count": 8,
   "metadata": {},
   "outputs": [],
   "source": [
    "\"\"\"\n",
    "    Utility\n",
    "\"\"\"\n",
    "def calculate_psnr_np(img1, img2): # for uint8 image\n",
    "    SE_map = (1.*img1-img2)**2\n",
    "    cur_MSE = np.mean(SE_map)\n",
    "    return 20*np.log10(255./np.sqrt(cur_MSE))\n",
    "\n",
    "\n",
    "def calculate_psnr_torch(img1, img2):\n",
    "    SE_map = (1.*img1-img2)**2\n",
    "    cur_MSE = torch.mean(SE_map)\n",
    "    return 20*torch.log10(1./torch.sqrt(cur_MSE))\n",
    "\n",
    "# the ab space is divided into 10 × 10 bins, Q = 313\n",
    "def encode_ab_ind(data_ab, ab_norm=220, ab_quant=10):\n",
    "    # Encode ab value into an index\n",
    "    # INPUTS\n",
    "    #   data_ab   Nx2xHxW \\in [0,1]\n",
    "    # OUTPUTS\n",
    "    #   data_q    Nx1xHxW \\in [0,Q)\n",
    "    \n",
    "    #no need ab max, because origin [-1, 1] need shift to [0,~]\n",
    "    \n",
    "    #變回 -110~110 -> 0~220 -> 0~22 (共 23) 所以才有 23*23 = 529\n",
    "    #A = 2*110/10 + 1 = 23\n",
    "    \n",
    "    data_ab_rs = torch.round((data_ab*ab_norm)/ab_quant) # normalized bin number\n",
    "    #opt.A = 2 * opt.ab_max / opt.ab_quant + 1\n",
    "    data_q = data_ab_rs[:,[0],:,:]* (ab_norm / ab_quant + 1)  + data_ab_rs[:,[1],:,:]\n",
    "    return data_q\n",
    "\n",
    "\n",
    "def decode_ind_ab(data_q, opt):\n",
    "    # Decode index into ab value\n",
    "    # INPUTS\n",
    "    #   data_q      Nx1xHxW \\in [0,Q)\n",
    "    # OUTPUTS\n",
    "    #   data_ab     Nx2xHxW \\in [-1,1]\n",
    "\n",
    "    data_a = data_q/opt.A\n",
    "    data_b = data_q - data_a*opt.A\n",
    "    data_ab = torch.cat((data_a,data_b),dim=1)\n",
    "\n",
    "    if(data_q.is_cuda):\n",
    "        type_out = torch.cuda.FloatTensor\n",
    "    else:\n",
    "        type_out = torch.FloatTensor\n",
    "    data_ab = ((data_ab.type(type_out)*opt.ab_quant) - opt.ab_max)/opt.ab_norm\n",
    "\n",
    "    return data_ab\n"
   ]
  },
  {
   "cell_type": "code",
   "execution_count": 11,
   "metadata": {
    "scrolled": true
   },
   "outputs": [
    {
     "name": "stderr",
     "output_type": "stream",
     "text": [
      "  0%|                                                                                         | 0/6250 [00:00<?, ?it/s]C:\\Users\\tomsan\\Miniconda3\\envs\\testJ\\lib\\site-packages\\ipykernel_launcher.py:98: DeprecationWarning: elementwise comparison failed; this will raise an error in the future.\n",
      "100%|██████████████████████████████████████████████████████████████████████████████| 6250/6250 [37:40<00:00,  2.76it/s]\n",
      "C:\\Users\\tomsan\\Miniconda3\\envs\\testJ\\lib\\site-packages\\ipykernel_launcher.py:126: DeprecationWarning: elementwise comparison failed; this will raise an error in the future.\n",
      "  0%|                                                                                         | 0/6250 [00:00<?, ?it/s]"
     ]
    },
    {
     "name": "stdout",
     "output_type": "stream",
     "text": [
      "[001/100] 2303.94 sec(s) Train Acc: 0.000000 Loss: 0.194636 | Val Acc: 0.000000 loss: 0.169108 | time to load: 2260.30\n"
     ]
    },
    {
     "name": "stderr",
     "output_type": "stream",
     "text": [
      "100%|██████████████████████████████████████████████████████████████████████████████| 6250/6250 [37:32<00:00,  2.77it/s]\n",
      "  0%|                                                                                         | 0/6250 [00:00<?, ?it/s]"
     ]
    },
    {
     "name": "stdout",
     "output_type": "stream",
     "text": [
      "[002/100] 2295.91 sec(s) Train Acc: 0.000000 Loss: 0.168906 | Val Acc: 0.000000 loss: 0.167164 | time to load: 2252.28\n"
     ]
    },
    {
     "name": "stderr",
     "output_type": "stream",
     "text": [
      "100%|██████████████████████████████████████████████████████████████████████████████| 6250/6250 [37:38<00:00,  2.77it/s]\n",
      "  0%|                                                                                         | 0/6250 [00:00<?, ?it/s]"
     ]
    },
    {
     "name": "stdout",
     "output_type": "stream",
     "text": [
      "[003/100] 2301.64 sec(s) Train Acc: 0.000000 Loss: 0.167195 | Val Acc: 0.000000 loss: 0.165921 | time to load: 2257.96\n"
     ]
    },
    {
     "name": "stderr",
     "output_type": "stream",
     "text": [
      "100%|██████████████████████████████████████████████████████████████████████████████| 6250/6250 [37:38<00:00,  2.77it/s]\n",
      "  0%|                                                                                         | 0/6250 [00:00<?, ?it/s]"
     ]
    },
    {
     "name": "stdout",
     "output_type": "stream",
     "text": [
      "[004/100] 2301.68 sec(s) Train Acc: 0.000000 Loss: 0.166037 | Val Acc: 0.000000 loss: 0.164644 | time to load: 2257.98\n"
     ]
    },
    {
     "name": "stderr",
     "output_type": "stream",
     "text": [
      "100%|██████████████████████████████████████████████████████████████████████████████| 6250/6250 [37:36<00:00,  2.77it/s]\n",
      "  0%|                                                                                         | 0/6250 [00:00<?, ?it/s]"
     ]
    },
    {
     "name": "stdout",
     "output_type": "stream",
     "text": [
      "[005/100] 2300.01 sec(s) Train Acc: 0.000000 Loss: 0.165034 | Val Acc: 0.000000 loss: 0.163015 | time to load: 2256.38\n"
     ]
    },
    {
     "name": "stderr",
     "output_type": "stream",
     "text": [
      "100%|██████████████████████████████████████████████████████████████████████████████| 6250/6250 [37:32<00:00,  2.77it/s]\n",
      "  0%|                                                                                         | 0/6250 [00:00<?, ?it/s]"
     ]
    },
    {
     "name": "stdout",
     "output_type": "stream",
     "text": [
      "[006/100] 2296.01 sec(s) Train Acc: 0.000000 Loss: 0.164124 | Val Acc: 0.000000 loss: 0.162268 | time to load: 2252.36\n"
     ]
    },
    {
     "name": "stderr",
     "output_type": "stream",
     "text": [
      "100%|██████████████████████████████████████████████████████████████████████████████| 6250/6250 [37:33<00:00,  2.77it/s]\n",
      "  0%|                                                                                         | 0/6250 [00:00<?, ?it/s]"
     ]
    },
    {
     "name": "stdout",
     "output_type": "stream",
     "text": [
      "[007/100] 2297.09 sec(s) Train Acc: 0.000000 Loss: 0.163499 | Val Acc: 0.000000 loss: 0.161713 | time to load: 2253.44\n"
     ]
    },
    {
     "name": "stderr",
     "output_type": "stream",
     "text": [
      "100%|██████████████████████████████████████████████████████████████████████████████| 6250/6250 [37:36<00:00,  2.77it/s]\n",
      "  0%|                                                                                         | 0/6250 [00:00<?, ?it/s]"
     ]
    },
    {
     "name": "stdout",
     "output_type": "stream",
     "text": [
      "[008/100] 2300.48 sec(s) Train Acc: 0.000000 Loss: 0.162833 | Val Acc: 0.000000 loss: 0.161559 | time to load: 2256.16\n"
     ]
    },
    {
     "name": "stderr",
     "output_type": "stream",
     "text": [
      "100%|██████████████████████████████████████████████████████████████████████████████| 6250/6250 [38:30<00:00,  2.70it/s]\n",
      "  0%|                                                                                         | 0/6250 [00:00<?, ?it/s]"
     ]
    },
    {
     "name": "stdout",
     "output_type": "stream",
     "text": [
      "[009/100] 2354.88 sec(s) Train Acc: 0.000000 Loss: 0.162292 | Val Acc: 0.000000 loss: 0.160718 | time to load: 2310.18\n"
     ]
    },
    {
     "name": "stderr",
     "output_type": "stream",
     "text": [
      "100%|██████████████████████████████████████████████████████████████████████████████| 6250/6250 [38:14<00:00,  2.72it/s]\n",
      "  0%|                                                                                         | 0/6250 [00:00<?, ?it/s]"
     ]
    },
    {
     "name": "stdout",
     "output_type": "stream",
     "text": [
      "[010/100] 2338.67 sec(s) Train Acc: 0.000000 Loss: 0.161732 | Val Acc: 0.000000 loss: 0.160260 | time to load: 2294.50\n"
     ]
    },
    {
     "name": "stderr",
     "output_type": "stream",
     "text": [
      "100%|██████████████████████████████████████████████████████████████████████████████| 6250/6250 [38:03<00:00,  2.74it/s]\n",
      "  0%|                                                                                         | 0/6250 [00:00<?, ?it/s]"
     ]
    },
    {
     "name": "stdout",
     "output_type": "stream",
     "text": [
      "[011/100] 2326.73 sec(s) Train Acc: 0.000000 Loss: 0.161241 | Val Acc: 0.000000 loss: 0.160007 | time to load: 2282.85\n"
     ]
    },
    {
     "name": "stderr",
     "output_type": "stream",
     "text": [
      "100%|██████████████████████████████████████████████████████████████████████████████| 6250/6250 [37:43<00:00,  2.76it/s]\n",
      "  0%|                                                                                         | 0/6250 [00:00<?, ?it/s]"
     ]
    },
    {
     "name": "stdout",
     "output_type": "stream",
     "text": [
      "[012/100] 2306.96 sec(s) Train Acc: 0.000000 Loss: 0.160799 | Val Acc: 0.000000 loss: 0.159072 | time to load: 2263.09\n"
     ]
    },
    {
     "name": "stderr",
     "output_type": "stream",
     "text": [
      "100%|██████████████████████████████████████████████████████████████████████████████| 6250/6250 [37:39<00:00,  2.77it/s]\n",
      "  0%|                                                                                         | 0/6250 [00:00<?, ?it/s]"
     ]
    },
    {
     "name": "stdout",
     "output_type": "stream",
     "text": [
      "[013/100] 2302.48 sec(s) Train Acc: 0.000000 Loss: 0.160359 | Val Acc: 0.000000 loss: 0.158846 | time to load: 2258.68\n"
     ]
    },
    {
     "name": "stderr",
     "output_type": "stream",
     "text": [
      "100%|██████████████████████████████████████████████████████████████████████████████| 6250/6250 [37:36<00:00,  2.77it/s]\n",
      "  0%|                                                                                         | 0/6250 [00:00<?, ?it/s]"
     ]
    },
    {
     "name": "stdout",
     "output_type": "stream",
     "text": [
      "[014/100] 2299.91 sec(s) Train Acc: 0.000000 Loss: 0.159903 | Val Acc: 0.000000 loss: 0.158971 | time to load: 2256.10\n"
     ]
    },
    {
     "name": "stderr",
     "output_type": "stream",
     "text": [
      "100%|██████████████████████████████████████████████████████████████████████████████| 6250/6250 [37:36<00:00,  2.77it/s]\n",
      "  0%|                                                                                         | 0/6250 [00:00<?, ?it/s]"
     ]
    },
    {
     "name": "stdout",
     "output_type": "stream",
     "text": [
      "[015/100] 2300.30 sec(s) Train Acc: 0.000000 Loss: 0.159513 | Val Acc: 0.000000 loss: 0.157970 | time to load: 2256.52\n"
     ]
    },
    {
     "name": "stderr",
     "output_type": "stream",
     "text": [
      "100%|██████████████████████████████████████████████████████████████████████████████| 6250/6250 [37:38<00:00,  2.77it/s]\n",
      "  0%|                                                                                         | 0/6250 [00:00<?, ?it/s]"
     ]
    },
    {
     "name": "stdout",
     "output_type": "stream",
     "text": [
      "[016/100] 2301.80 sec(s) Train Acc: 0.000000 Loss: 0.159198 | Val Acc: 0.000000 loss: 0.158561 | time to load: 2257.96\n"
     ]
    },
    {
     "name": "stderr",
     "output_type": "stream",
     "text": [
      "100%|██████████████████████████████████████████████████████████████████████████████| 6250/6250 [37:36<00:00,  2.77it/s]\n",
      "  0%|                                                                                         | 0/6250 [00:00<?, ?it/s]"
     ]
    },
    {
     "name": "stdout",
     "output_type": "stream",
     "text": [
      "[017/100] 2300.22 sec(s) Train Acc: 0.000000 Loss: 0.158789 | Val Acc: 0.000000 loss: 0.157677 | time to load: 2256.41\n"
     ]
    },
    {
     "name": "stderr",
     "output_type": "stream",
     "text": [
      "100%|██████████████████████████████████████████████████████████████████████████████| 6250/6250 [37:35<00:00,  2.77it/s]\n",
      "  0%|                                                                                         | 0/6250 [00:00<?, ?it/s]"
     ]
    },
    {
     "name": "stdout",
     "output_type": "stream",
     "text": [
      "[018/100] 2299.31 sec(s) Train Acc: 0.000000 Loss: 0.158340 | Val Acc: 0.000000 loss: 0.158893 | time to load: 2255.53\n"
     ]
    },
    {
     "name": "stderr",
     "output_type": "stream",
     "text": [
      "100%|██████████████████████████████████████████████████████████████████████████████| 6250/6250 [37:36<00:00,  2.77it/s]\n",
      "  0%|                                                                                         | 0/6250 [00:00<?, ?it/s]"
     ]
    },
    {
     "name": "stdout",
     "output_type": "stream",
     "text": [
      "[019/100] 2299.83 sec(s) Train Acc: 0.000000 Loss: 0.158103 | Val Acc: 0.000000 loss: 0.157395 | time to load: 2256.03\n"
     ]
    },
    {
     "name": "stderr",
     "output_type": "stream",
     "text": [
      "100%|██████████████████████████████████████████████████████████████████████████████| 6250/6250 [37:37<00:00,  2.77it/s]\n",
      "  0%|                                                                                         | 0/6250 [00:00<?, ?it/s]"
     ]
    },
    {
     "name": "stdout",
     "output_type": "stream",
     "text": [
      "[020/100] 2301.58 sec(s) Train Acc: 0.000000 Loss: 0.157712 | Val Acc: 0.000000 loss: 0.157055 | time to load: 2256.84\n"
     ]
    },
    {
     "name": "stderr",
     "output_type": "stream",
     "text": [
      "100%|██████████████████████████████████████████████████████████████████████████████| 6250/6250 [38:34<00:00,  2.70it/s]\n",
      "  0%|                                                                                         | 0/6250 [00:00<?, ?it/s]"
     ]
    },
    {
     "name": "stdout",
     "output_type": "stream",
     "text": [
      "[021/100] 2359.90 sec(s) Train Acc: 0.000000 Loss: 0.157493 | Val Acc: 0.000000 loss: 0.156889 | time to load: 2314.45\n"
     ]
    },
    {
     "name": "stderr",
     "output_type": "stream",
     "text": [
      "100%|██████████████████████████████████████████████████████████████████████████████| 6250/6250 [37:53<00:00,  2.75it/s]\n",
      "  0%|                                                                                         | 0/6250 [00:00<?, ?it/s]"
     ]
    },
    {
     "name": "stdout",
     "output_type": "stream",
     "text": [
      "[022/100] 2317.10 sec(s) Train Acc: 0.000000 Loss: 0.157063 | Val Acc: 0.000000 loss: 0.157364 | time to load: 2273.13\n"
     ]
    },
    {
     "name": "stderr",
     "output_type": "stream",
     "text": [
      "100%|██████████████████████████████████████████████████████████████████████████████| 6250/6250 [38:34<00:00,  2.70it/s]\n",
      "  0%|                                                                                         | 0/6250 [00:00<?, ?it/s]"
     ]
    },
    {
     "name": "stdout",
     "output_type": "stream",
     "text": [
      "[023/100] 2360.91 sec(s) Train Acc: 0.000000 Loss: 0.156798 | Val Acc: 0.000000 loss: 0.157350 | time to load: 2314.50\n"
     ]
    },
    {
     "name": "stderr",
     "output_type": "stream",
     "text": [
      "100%|██████████████████████████████████████████████████████████████████████████████| 6250/6250 [38:07<00:00,  2.73it/s]\n",
      "  0%|                                                                                         | 0/6250 [00:00<?, ?it/s]"
     ]
    },
    {
     "name": "stdout",
     "output_type": "stream",
     "text": [
      "[024/100] 2330.97 sec(s) Train Acc: 0.000000 Loss: 0.156474 | Val Acc: 0.000000 loss: 0.157704 | time to load: 2286.96\n"
     ]
    },
    {
     "name": "stderr",
     "output_type": "stream",
     "text": [
      "100%|██████████████████████████████████████████████████████████████████████████████| 6250/6250 [37:48<00:00,  2.76it/s]\n",
      "  0%|                                                                                         | 0/6250 [00:00<?, ?it/s]"
     ]
    },
    {
     "name": "stdout",
     "output_type": "stream",
     "text": [
      "[025/100] 2311.94 sec(s) Train Acc: 0.000000 Loss: 0.156129 | Val Acc: 0.000000 loss: 0.156313 | time to load: 2267.85\n"
     ]
    },
    {
     "name": "stderr",
     "output_type": "stream",
     "text": [
      "100%|██████████████████████████████████████████████████████████████████████████████| 6250/6250 [37:41<00:00,  2.76it/s]\n",
      "  0%|                                                                                         | 0/6250 [00:00<?, ?it/s]"
     ]
    },
    {
     "name": "stdout",
     "output_type": "stream",
     "text": [
      "[026/100] 2305.28 sec(s) Train Acc: 0.000000 Loss: 0.155925 | Val Acc: 0.000000 loss: 0.156327 | time to load: 2261.36\n"
     ]
    },
    {
     "name": "stderr",
     "output_type": "stream",
     "text": [
      "100%|██████████████████████████████████████████████████████████████████████████████| 6250/6250 [37:48<00:00,  2.76it/s]\n",
      "  0%|                                                                                         | 0/6250 [00:00<?, ?it/s]"
     ]
    },
    {
     "name": "stdout",
     "output_type": "stream",
     "text": [
      "[027/100] 2312.03 sec(s) Train Acc: 0.000000 Loss: 0.155571 | Val Acc: 0.000000 loss: 0.156485 | time to load: 2268.06\n"
     ]
    },
    {
     "name": "stderr",
     "output_type": "stream",
     "text": [
      "100%|██████████████████████████████████████████████████████████████████████████████| 6250/6250 [38:28<00:00,  2.71it/s]\n",
      "  0%|                                                                                         | 0/6250 [00:00<?, ?it/s]"
     ]
    },
    {
     "name": "stdout",
     "output_type": "stream",
     "text": [
      "[028/100] 2352.35 sec(s) Train Acc: 0.000000 Loss: 0.155340 | Val Acc: 0.000000 loss: 0.155789 | time to load: 2308.13\n"
     ]
    },
    {
     "name": "stderr",
     "output_type": "stream",
     "text": [
      "100%|██████████████████████████████████████████████████████████████████████████████| 6250/6250 [37:40<00:00,  2.77it/s]\n",
      "  0%|                                                                                         | 0/6250 [00:00<?, ?it/s]"
     ]
    },
    {
     "name": "stdout",
     "output_type": "stream",
     "text": [
      "[029/100] 2303.98 sec(s) Train Acc: 0.000000 Loss: 0.154953 | Val Acc: 0.000000 loss: 0.155591 | time to load: 2259.98\n"
     ]
    },
    {
     "name": "stderr",
     "output_type": "stream",
     "text": [
      "100%|██████████████████████████████████████████████████████████████████████████████| 6250/6250 [37:35<00:00,  2.77it/s]\n",
      "  0%|                                                                                         | 0/6250 [00:00<?, ?it/s]"
     ]
    },
    {
     "name": "stdout",
     "output_type": "stream",
     "text": [
      "[030/100] 2299.44 sec(s) Train Acc: 0.000000 Loss: 0.154760 | Val Acc: 0.000000 loss: 0.155414 | time to load: 2255.57\n"
     ]
    },
    {
     "name": "stderr",
     "output_type": "stream",
     "text": [
      "100%|██████████████████████████████████████████████████████████████████████████████| 6250/6250 [37:36<00:00,  2.77it/s]\n",
      "  0%|                                                                                         | 0/6250 [00:00<?, ?it/s]"
     ]
    },
    {
     "name": "stdout",
     "output_type": "stream",
     "text": [
      "[031/100] 2300.34 sec(s) Train Acc: 0.000000 Loss: 0.154454 | Val Acc: 0.000000 loss: 0.156001 | time to load: 2256.41\n"
     ]
    },
    {
     "name": "stderr",
     "output_type": "stream",
     "text": [
      "100%|██████████████████████████████████████████████████████████████████████████████| 6250/6250 [37:35<00:00,  2.77it/s]\n",
      "  0%|                                                                                         | 0/6250 [00:00<?, ?it/s]"
     ]
    },
    {
     "name": "stdout",
     "output_type": "stream",
     "text": [
      "[032/100] 2298.95 sec(s) Train Acc: 0.000000 Loss: 0.154061 | Val Acc: 0.000000 loss: 0.155410 | time to load: 2255.07\n"
     ]
    },
    {
     "name": "stderr",
     "output_type": "stream",
     "text": [
      "100%|██████████████████████████████████████████████████████████████████████████████| 6250/6250 [37:36<00:00,  2.77it/s]\n",
      "  0%|                                                                                         | 0/6250 [00:00<?, ?it/s]"
     ]
    },
    {
     "name": "stdout",
     "output_type": "stream",
     "text": [
      "[033/100] 2300.35 sec(s) Train Acc: 0.000000 Loss: 0.153823 | Val Acc: 0.000000 loss: 0.155188 | time to load: 2256.42\n"
     ]
    },
    {
     "name": "stderr",
     "output_type": "stream",
     "text": [
      "100%|██████████████████████████████████████████████████████████████████████████████| 6250/6250 [37:37<00:00,  2.77it/s]\n",
      "  0%|                                                                                         | 0/6250 [00:00<?, ?it/s]"
     ]
    },
    {
     "name": "stdout",
     "output_type": "stream",
     "text": [
      "[034/100] 2301.01 sec(s) Train Acc: 0.000000 Loss: 0.153426 | Val Acc: 0.000000 loss: 0.156417 | time to load: 2257.06\n"
     ]
    },
    {
     "name": "stderr",
     "output_type": "stream",
     "text": [
      "100%|██████████████████████████████████████████████████████████████████████████████| 6250/6250 [37:36<00:00,  2.77it/s]\n",
      "  0%|                                                                                         | 0/6250 [00:00<?, ?it/s]"
     ]
    },
    {
     "name": "stdout",
     "output_type": "stream",
     "text": [
      "[035/100] 2299.80 sec(s) Train Acc: 0.000000 Loss: 0.153248 | Val Acc: 0.000000 loss: 0.155707 | time to load: 2255.89\n"
     ]
    },
    {
     "name": "stderr",
     "output_type": "stream",
     "text": [
      "100%|██████████████████████████████████████████████████████████████████████████████| 6250/6250 [37:52<00:00,  2.75it/s]\n",
      "  0%|                                                                                         | 0/6250 [00:00<?, ?it/s]"
     ]
    },
    {
     "name": "stdout",
     "output_type": "stream",
     "text": [
      "[036/100] 2316.07 sec(s) Train Acc: 0.000000 Loss: 0.152780 | Val Acc: 0.000000 loss: 0.156242 | time to load: 2271.83\n"
     ]
    },
    {
     "name": "stderr",
     "output_type": "stream",
     "text": [
      "100%|██████████████████████████████████████████████████████████████████████████████| 6250/6250 [39:12<00:00,  2.66it/s]\n",
      "  0%|                                                                                         | 0/6250 [00:00<?, ?it/s]"
     ]
    },
    {
     "name": "stdout",
     "output_type": "stream",
     "text": [
      "[037/100] 2398.98 sec(s) Train Acc: 0.000000 Loss: 0.152529 | Val Acc: 0.000000 loss: 0.154981 | time to load: 2351.87\n"
     ]
    },
    {
     "name": "stderr",
     "output_type": "stream",
     "text": [
      "100%|██████████████████████████████████████████████████████████████████████████████| 6250/6250 [39:33<00:00,  2.63it/s]\n",
      "  0%|                                                                                         | 0/6250 [00:00<?, ?it/s]"
     ]
    },
    {
     "name": "stdout",
     "output_type": "stream",
     "text": [
      "[038/100] 2419.36 sec(s) Train Acc: 0.000000 Loss: 0.152155 | Val Acc: 0.000000 loss: 0.155433 | time to load: 2373.39\n"
     ]
    },
    {
     "name": "stderr",
     "output_type": "stream",
     "text": [
      "100%|██████████████████████████████████████████████████████████████████████████████| 6250/6250 [39:45<00:00,  2.62it/s]\n",
      "  0%|                                                                                         | 0/6250 [00:00<?, ?it/s]"
     ]
    },
    {
     "name": "stdout",
     "output_type": "stream",
     "text": [
      "[039/100] 2432.93 sec(s) Train Acc: 0.000000 Loss: 0.151802 | Val Acc: 0.000000 loss: 0.155552 | time to load: 2384.77\n"
     ]
    },
    {
     "name": "stderr",
     "output_type": "stream",
     "text": [
      "100%|██████████████████████████████████████████████████████████████████████████████| 6250/6250 [40:23<00:00,  2.58it/s]\n",
      "  0%|                                                                                         | 0/6250 [00:00<?, ?it/s]"
     ]
    },
    {
     "name": "stdout",
     "output_type": "stream",
     "text": [
      "[040/100] 2468.85 sec(s) Train Acc: 0.000000 Loss: 0.151425 | Val Acc: 0.000000 loss: 0.155862 | time to load: 2422.78\n"
     ]
    },
    {
     "name": "stderr",
     "output_type": "stream",
     "text": [
      "100%|██████████████████████████████████████████████████████████████████████████████| 6250/6250 [39:10<00:00,  2.66it/s]\n",
      "  0%|                                                                                         | 0/6250 [00:00<?, ?it/s]"
     ]
    },
    {
     "name": "stdout",
     "output_type": "stream",
     "text": [
      "[041/100] 2396.42 sec(s) Train Acc: 0.000000 Loss: 0.151137 | Val Acc: 0.000000 loss: 0.155635 | time to load: 2350.22\n"
     ]
    },
    {
     "name": "stderr",
     "output_type": "stream",
     "text": [
      "100%|██████████████████████████████████████████████████████████████████████████████| 6250/6250 [39:30<00:00,  2.64it/s]\n",
      "  0%|                                                                                         | 0/6250 [00:00<?, ?it/s]"
     ]
    },
    {
     "name": "stdout",
     "output_type": "stream",
     "text": [
      "[042/100] 2416.58 sec(s) Train Acc: 0.000000 Loss: 0.150702 | Val Acc: 0.000000 loss: 0.156315 | time to load: 2369.73\n"
     ]
    },
    {
     "name": "stderr",
     "output_type": "stream",
     "text": [
      "100%|██████████████████████████████████████████████████████████████████████████████| 6250/6250 [38:21<00:00,  2.72it/s]\n",
      "  0%|                                                                                         | 0/6250 [00:00<?, ?it/s]"
     ]
    },
    {
     "name": "stdout",
     "output_type": "stream",
     "text": [
      "[043/100] 2345.52 sec(s) Train Acc: 0.000000 Loss: 0.150415 | Val Acc: 0.000000 loss: 0.155855 | time to load: 2301.52\n"
     ]
    },
    {
     "name": "stderr",
     "output_type": "stream",
     "text": [
      "100%|██████████████████████████████████████████████████████████████████████████████| 6250/6250 [38:07<00:00,  2.73it/s]\n",
      "  0%|                                                                                         | 0/6250 [00:00<?, ?it/s]"
     ]
    },
    {
     "name": "stdout",
     "output_type": "stream",
     "text": [
      "[044/100] 2330.96 sec(s) Train Acc: 0.000000 Loss: 0.149936 | Val Acc: 0.000000 loss: 0.156192 | time to load: 2286.66\n"
     ]
    },
    {
     "name": "stderr",
     "output_type": "stream",
     "text": [
      "100%|██████████████████████████████████████████████████████████████████████████████| 6250/6250 [38:19<00:00,  2.72it/s]\n",
      "  0%|                                                                                         | 0/6250 [00:00<?, ?it/s]"
     ]
    },
    {
     "name": "stdout",
     "output_type": "stream",
     "text": [
      "[045/100] 2344.34 sec(s) Train Acc: 0.000000 Loss: 0.149696 | Val Acc: 0.000000 loss: 0.155803 | time to load: 2298.96\n"
     ]
    },
    {
     "name": "stderr",
     "output_type": "stream",
     "text": [
      "100%|██████████████████████████████████████████████████████████████████████████████| 6250/6250 [38:47<00:00,  2.69it/s]\n",
      "  0%|                                                                                         | 0/6250 [00:00<?, ?it/s]"
     ]
    },
    {
     "name": "stdout",
     "output_type": "stream",
     "text": [
      "[046/100] 2371.25 sec(s) Train Acc: 0.000000 Loss: 0.149341 | Val Acc: 0.000000 loss: 0.157020 | time to load: 2326.74\n"
     ]
    },
    {
     "name": "stderr",
     "output_type": "stream",
     "text": [
      "100%|██████████████████████████████████████████████████████████████████████████████| 6250/6250 [38:35<00:00,  2.70it/s]\n",
      "  0%|                                                                                         | 0/6250 [00:00<?, ?it/s]"
     ]
    },
    {
     "name": "stdout",
     "output_type": "stream",
     "text": [
      "[047/100] 2359.51 sec(s) Train Acc: 0.000000 Loss: 0.148840 | Val Acc: 0.000000 loss: 0.156858 | time to load: 2314.90\n"
     ]
    },
    {
     "name": "stderr",
     "output_type": "stream",
     "text": [
      "100%|██████████████████████████████████████████████████████████████████████████████| 6250/6250 [38:14<00:00,  2.72it/s]\n",
      "  0%|                                                                                         | 0/6250 [00:00<?, ?it/s]"
     ]
    },
    {
     "name": "stdout",
     "output_type": "stream",
     "text": [
      "[048/100] 2339.73 sec(s) Train Acc: 0.000000 Loss: 0.148499 | Val Acc: 0.000000 loss: 0.156657 | time to load: 2294.34\n"
     ]
    },
    {
     "name": "stderr",
     "output_type": "stream",
     "text": [
      "100%|██████████████████████████████████████████████████████████████████████████████| 6250/6250 [38:06<00:00,  2.73it/s]\n",
      "  0%|                                                                                         | 0/6250 [00:00<?, ?it/s]"
     ]
    },
    {
     "name": "stdout",
     "output_type": "stream",
     "text": [
      "[049/100] 2329.54 sec(s) Train Acc: 0.000000 Loss: 0.148090 | Val Acc: 0.000000 loss: 0.158305 | time to load: 2285.72\n"
     ]
    },
    {
     "name": "stderr",
     "output_type": "stream",
     "text": [
      "100%|██████████████████████████████████████████████████████████████████████████████| 6250/6250 [37:35<00:00,  2.77it/s]\n",
      "  0%|                                                                                         | 0/6250 [00:00<?, ?it/s]"
     ]
    },
    {
     "name": "stdout",
     "output_type": "stream",
     "text": [
      "[050/100] 2298.59 sec(s) Train Acc: 0.000000 Loss: 0.147714 | Val Acc: 0.000000 loss: 0.157001 | time to load: 2254.78\n"
     ]
    },
    {
     "name": "stderr",
     "output_type": "stream",
     "text": [
      "100%|██████████████████████████████████████████████████████████████████████████████| 6250/6250 [37:33<00:00,  2.77it/s]\n",
      "  0%|                                                                                         | 0/6250 [00:00<?, ?it/s]"
     ]
    },
    {
     "name": "stdout",
     "output_type": "stream",
     "text": [
      "[051/100] 2297.35 sec(s) Train Acc: 0.000000 Loss: 0.147215 | Val Acc: 0.000000 loss: 0.157305 | time to load: 2253.59\n"
     ]
    },
    {
     "name": "stderr",
     "output_type": "stream",
     "text": [
      "100%|██████████████████████████████████████████████████████████████████████████████| 6250/6250 [37:32<00:00,  2.78it/s]\n",
      "  0%|                                                                                         | 0/6250 [00:00<?, ?it/s]"
     ]
    },
    {
     "name": "stdout",
     "output_type": "stream",
     "text": [
      "[052/100] 2295.38 sec(s) Train Acc: 0.000000 Loss: 0.146838 | Val Acc: 0.000000 loss: 0.157135 | time to load: 2251.70\n"
     ]
    },
    {
     "name": "stderr",
     "output_type": "stream",
     "text": [
      "100%|██████████████████████████████████████████████████████████████████████████████| 6250/6250 [37:32<00:00,  2.77it/s]\n",
      "  0%|                                                                                         | 0/6250 [00:00<?, ?it/s]"
     ]
    },
    {
     "name": "stdout",
     "output_type": "stream",
     "text": [
      "[053/100] 2296.28 sec(s) Train Acc: 0.000000 Loss: 0.146370 | Val Acc: 0.000000 loss: 0.156924 | time to load: 2252.56\n"
     ]
    },
    {
     "name": "stderr",
     "output_type": "stream",
     "text": [
      "100%|██████████████████████████████████████████████████████████████████████████████| 6250/6250 [37:31<00:00,  2.78it/s]\n",
      "  0%|                                                                                         | 0/6250 [00:00<?, ?it/s]"
     ]
    },
    {
     "name": "stdout",
     "output_type": "stream",
     "text": [
      "[054/100] 2295.34 sec(s) Train Acc: 0.000000 Loss: 0.146032 | Val Acc: 0.000000 loss: 0.158300 | time to load: 2251.60\n"
     ]
    },
    {
     "name": "stderr",
     "output_type": "stream",
     "text": [
      "100%|██████████████████████████████████████████████████████████████████████████████| 6250/6250 [37:34<00:00,  2.77it/s]\n",
      "  0%|                                                                                         | 0/6250 [00:00<?, ?it/s]"
     ]
    },
    {
     "name": "stdout",
     "output_type": "stream",
     "text": [
      "[055/100] 2297.41 sec(s) Train Acc: 0.000000 Loss: 0.145621 | Val Acc: 0.000000 loss: 0.157555 | time to load: 2253.72\n"
     ]
    },
    {
     "name": "stderr",
     "output_type": "stream",
     "text": [
      "100%|██████████████████████████████████████████████████████████████████████████████| 6250/6250 [37:30<00:00,  2.78it/s]\n",
      "  0%|                                                                                         | 0/6250 [00:00<?, ?it/s]"
     ]
    },
    {
     "name": "stdout",
     "output_type": "stream",
     "text": [
      "[056/100] 2293.68 sec(s) Train Acc: 0.000000 Loss: 0.145212 | Val Acc: 0.000000 loss: 0.157895 | time to load: 2250.04\n"
     ]
    },
    {
     "name": "stderr",
     "output_type": "stream",
     "text": [
      "100%|██████████████████████████████████████████████████████████████████████████████| 6250/6250 [37:30<00:00,  2.78it/s]\n",
      "  0%|                                                                                         | 0/6250 [00:00<?, ?it/s]"
     ]
    },
    {
     "name": "stdout",
     "output_type": "stream",
     "text": [
      "[057/100] 2293.96 sec(s) Train Acc: 0.000000 Loss: 0.144878 | Val Acc: 0.000000 loss: 0.158151 | time to load: 2250.31\n"
     ]
    },
    {
     "name": "stderr",
     "output_type": "stream",
     "text": [
      "100%|██████████████████████████████████████████████████████████████████████████████| 6250/6250 [37:28<00:00,  2.78it/s]\n",
      "  0%|                                                                                         | 0/6250 [00:00<?, ?it/s]"
     ]
    },
    {
     "name": "stdout",
     "output_type": "stream",
     "text": [
      "[058/100] 2291.71 sec(s) Train Acc: 0.000000 Loss: 0.144328 | Val Acc: 0.000000 loss: 0.159743 | time to load: 2247.96\n"
     ]
    },
    {
     "name": "stderr",
     "output_type": "stream",
     "text": [
      "100%|██████████████████████████████████████████████████████████████████████████████| 6250/6250 [38:32<00:00,  2.70it/s]\n",
      "  0%|                                                                                         | 0/6250 [00:00<?, ?it/s]"
     ]
    },
    {
     "name": "stdout",
     "output_type": "stream",
     "text": [
      "[059/100] 2357.82 sec(s) Train Acc: 0.000000 Loss: 0.143976 | Val Acc: 0.000000 loss: 0.159338 | time to load: 2312.11\n"
     ]
    },
    {
     "name": "stderr",
     "output_type": "stream",
     "text": [
      "100%|██████████████████████████████████████████████████████████████████████████████| 6250/6250 [38:43<00:00,  2.69it/s]\n",
      "  0%|                                                                                         | 0/6250 [00:00<?, ?it/s]"
     ]
    },
    {
     "name": "stdout",
     "output_type": "stream",
     "text": [
      "[060/100] 2367.47 sec(s) Train Acc: 0.000000 Loss: 0.143663 | Val Acc: 0.000000 loss: 0.159322 | time to load: 2323.35\n"
     ]
    },
    {
     "name": "stderr",
     "output_type": "stream",
     "text": [
      "100%|██████████████████████████████████████████████████████████████████████████████| 6250/6250 [38:31<00:00,  2.70it/s]\n",
      "  0%|                                                                                         | 0/6250 [00:00<?, ?it/s]"
     ]
    },
    {
     "name": "stdout",
     "output_type": "stream",
     "text": [
      "[061/100] 2358.31 sec(s) Train Acc: 0.000000 Loss: 0.143226 | Val Acc: 0.000000 loss: 0.159458 | time to load: 2310.70\n"
     ]
    },
    {
     "name": "stderr",
     "output_type": "stream",
     "text": [
      "100%|██████████████████████████████████████████████████████████████████████████████| 6250/6250 [38:34<00:00,  2.70it/s]\n",
      "  0%|                                                                                         | 0/6250 [00:00<?, ?it/s]"
     ]
    },
    {
     "name": "stdout",
     "output_type": "stream",
     "text": [
      "[062/100] 2359.29 sec(s) Train Acc: 0.000000 Loss: 0.142798 | Val Acc: 0.000000 loss: 0.159177 | time to load: 2314.61\n"
     ]
    },
    {
     "name": "stderr",
     "output_type": "stream",
     "text": [
      "100%|██████████████████████████████████████████████████████████████████████████████| 6250/6250 [37:52<00:00,  2.75it/s]\n",
      "  0%|                                                                                         | 0/6250 [00:00<?, ?it/s]"
     ]
    },
    {
     "name": "stdout",
     "output_type": "stream",
     "text": [
      "[063/100] 2316.22 sec(s) Train Acc: 0.000000 Loss: 0.142406 | Val Acc: 0.000000 loss: 0.159507 | time to load: 2272.51\n"
     ]
    },
    {
     "name": "stderr",
     "output_type": "stream",
     "text": [
      "100%|██████████████████████████████████████████████████████████████████████████████| 6250/6250 [37:29<00:00,  2.78it/s]\n",
      "  0%|                                                                                         | 0/6250 [00:00<?, ?it/s]"
     ]
    },
    {
     "name": "stdout",
     "output_type": "stream",
     "text": [
      "[064/100] 2292.60 sec(s) Train Acc: 0.000000 Loss: 0.141989 | Val Acc: 0.000000 loss: 0.160560 | time to load: 2248.97\n"
     ]
    },
    {
     "name": "stderr",
     "output_type": "stream",
     "text": [
      "100%|██████████████████████████████████████████████████████████████████████████████| 6250/6250 [37:29<00:00,  2.78it/s]\n",
      "  0%|                                                                                         | 0/6250 [00:00<?, ?it/s]"
     ]
    },
    {
     "name": "stdout",
     "output_type": "stream",
     "text": [
      "[065/100] 2292.62 sec(s) Train Acc: 0.000000 Loss: 0.141631 | Val Acc: 0.000000 loss: 0.160785 | time to load: 2248.95\n"
     ]
    },
    {
     "name": "stderr",
     "output_type": "stream",
     "text": [
      "100%|██████████████████████████████████████████████████████████████████████████████| 6250/6250 [37:28<00:00,  2.78it/s]\n",
      "  0%|                                                                                         | 0/6250 [00:00<?, ?it/s]"
     ]
    },
    {
     "name": "stdout",
     "output_type": "stream",
     "text": [
      "[066/100] 2292.21 sec(s) Train Acc: 0.000000 Loss: 0.141293 | Val Acc: 0.000000 loss: 0.160857 | time to load: 2248.55\n"
     ]
    },
    {
     "name": "stderr",
     "output_type": "stream",
     "text": [
      "100%|██████████████████████████████████████████████████████████████████████████████| 6250/6250 [37:28<00:00,  2.78it/s]\n",
      "  0%|                                                                                         | 0/6250 [00:00<?, ?it/s]"
     ]
    },
    {
     "name": "stdout",
     "output_type": "stream",
     "text": [
      "[067/100] 2292.11 sec(s) Train Acc: 0.000000 Loss: 0.140854 | Val Acc: 0.000000 loss: 0.161004 | time to load: 2248.47\n"
     ]
    },
    {
     "name": "stderr",
     "output_type": "stream",
     "text": [
      "100%|██████████████████████████████████████████████████████████████████████████████| 6250/6250 [37:50<00:00,  2.75it/s]\n",
      "  0%|                                                                                         | 0/6250 [00:00<?, ?it/s]"
     ]
    },
    {
     "name": "stdout",
     "output_type": "stream",
     "text": [
      "[068/100] 2315.40 sec(s) Train Acc: 0.000000 Loss: 0.140565 | Val Acc: 0.000000 loss: 0.161201 | time to load: 2270.09\n"
     ]
    },
    {
     "name": "stderr",
     "output_type": "stream",
     "text": [
      "100%|██████████████████████████████████████████████████████████████████████████████| 6250/6250 [37:40<00:00,  2.77it/s]\n",
      "  0%|                                                                                         | 0/6250 [00:00<?, ?it/s]"
     ]
    },
    {
     "name": "stdout",
     "output_type": "stream",
     "text": [
      "[069/100] 2303.31 sec(s) Train Acc: 0.000000 Loss: 0.140032 | Val Acc: 0.000000 loss: 0.160522 | time to load: 2259.68\n"
     ]
    },
    {
     "name": "stderr",
     "output_type": "stream",
     "text": [
      "100%|██████████████████████████████████████████████████████████████████████████████| 6250/6250 [37:27<00:00,  2.78it/s]\n",
      "  0%|                                                                                         | 0/6250 [00:00<?, ?it/s]"
     ]
    },
    {
     "name": "stdout",
     "output_type": "stream",
     "text": [
      "[070/100] 2291.08 sec(s) Train Acc: 0.000000 Loss: 0.139538 | Val Acc: 0.000000 loss: 0.161459 | time to load: 2247.45\n"
     ]
    },
    {
     "name": "stderr",
     "output_type": "stream",
     "text": [
      "100%|██████████████████████████████████████████████████████████████████████████████| 6250/6250 [37:28<00:00,  2.78it/s]\n",
      "  0%|                                                                                         | 0/6250 [00:00<?, ?it/s]"
     ]
    },
    {
     "name": "stdout",
     "output_type": "stream",
     "text": [
      "[071/100] 2292.12 sec(s) Train Acc: 0.000000 Loss: 0.139103 | Val Acc: 0.000000 loss: 0.161055 | time to load: 2248.41\n"
     ]
    },
    {
     "name": "stderr",
     "output_type": "stream",
     "text": [
      "100%|██████████████████████████████████████████████████████████████████████████████| 6250/6250 [37:27<00:00,  2.78it/s]\n",
      "  0%|                                                                                         | 0/6250 [00:00<?, ?it/s]"
     ]
    },
    {
     "name": "stdout",
     "output_type": "stream",
     "text": [
      "[072/100] 2291.09 sec(s) Train Acc: 0.000000 Loss: 0.138847 | Val Acc: 0.000000 loss: 0.161289 | time to load: 2247.48\n"
     ]
    },
    {
     "name": "stderr",
     "output_type": "stream",
     "text": [
      "100%|██████████████████████████████████████████████████████████████████████████████| 6250/6250 [37:29<00:00,  2.78it/s]\n",
      "  0%|                                                                                         | 0/6250 [00:00<?, ?it/s]"
     ]
    },
    {
     "name": "stdout",
     "output_type": "stream",
     "text": [
      "[073/100] 2293.28 sec(s) Train Acc: 0.000000 Loss: 0.138454 | Val Acc: 0.000000 loss: 0.161719 | time to load: 2249.60\n"
     ]
    },
    {
     "name": "stderr",
     "output_type": "stream",
     "text": [
      "100%|██████████████████████████████████████████████████████████████████████████████| 6250/6250 [37:29<00:00,  2.78it/s]\n",
      "  0%|                                                                                         | 0/6250 [00:00<?, ?it/s]"
     ]
    },
    {
     "name": "stdout",
     "output_type": "stream",
     "text": [
      "[074/100] 2292.39 sec(s) Train Acc: 0.000000 Loss: 0.138072 | Val Acc: 0.000000 loss: 0.162070 | time to load: 2248.76\n"
     ]
    },
    {
     "name": "stderr",
     "output_type": "stream",
     "text": [
      "100%|██████████████████████████████████████████████████████████████████████████████| 6250/6250 [37:32<00:00,  2.78it/s]\n",
      "  0%|                                                                                         | 0/6250 [00:00<?, ?it/s]"
     ]
    },
    {
     "name": "stdout",
     "output_type": "stream",
     "text": [
      "[075/100] 2295.53 sec(s) Train Acc: 0.000000 Loss: 0.137710 | Val Acc: 0.000000 loss: 0.160973 | time to load: 2251.72\n"
     ]
    },
    {
     "name": "stderr",
     "output_type": "stream",
     "text": [
      "100%|██████████████████████████████████████████████████████████████████████████████| 6250/6250 [37:32<00:00,  2.77it/s]\n",
      "  0%|                                                                                         | 0/6250 [00:00<?, ?it/s]"
     ]
    },
    {
     "name": "stdout",
     "output_type": "stream",
     "text": [
      "[076/100] 2296.04 sec(s) Train Acc: 0.000000 Loss: 0.137387 | Val Acc: 0.000000 loss: 0.162830 | time to load: 2252.39\n"
     ]
    },
    {
     "name": "stderr",
     "output_type": "stream",
     "text": [
      "100%|██████████████████████████████████████████████████████████████████████████████| 6250/6250 [37:33<00:00,  2.77it/s]\n",
      "  0%|                                                                                         | 0/6250 [00:00<?, ?it/s]"
     ]
    },
    {
     "name": "stdout",
     "output_type": "stream",
     "text": [
      "[077/100] 2296.67 sec(s) Train Acc: 0.000000 Loss: 0.137001 | Val Acc: 0.000000 loss: 0.162082 | time to load: 2252.91\n"
     ]
    },
    {
     "name": "stderr",
     "output_type": "stream",
     "text": [
      "100%|██████████████████████████████████████████████████████████████████████████████| 6250/6250 [37:34<00:00,  2.77it/s]\n",
      "  0%|                                                                                         | 0/6250 [00:00<?, ?it/s]"
     ]
    },
    {
     "name": "stdout",
     "output_type": "stream",
     "text": [
      "[078/100] 2297.63 sec(s) Train Acc: 0.000000 Loss: 0.136684 | Val Acc: 0.000000 loss: 0.162697 | time to load: 2253.85\n"
     ]
    },
    {
     "name": "stderr",
     "output_type": "stream",
     "text": [
      "100%|██████████████████████████████████████████████████████████████████████████████| 6250/6250 [37:32<00:00,  2.78it/s]\n",
      "  0%|                                                                                         | 0/6250 [00:00<?, ?it/s]"
     ]
    },
    {
     "name": "stdout",
     "output_type": "stream",
     "text": [
      "[079/100] 2295.64 sec(s) Train Acc: 0.000000 Loss: 0.136304 | Val Acc: 0.000000 loss: 0.163566 | time to load: 2251.89\n"
     ]
    },
    {
     "name": "stderr",
     "output_type": "stream",
     "text": [
      "100%|██████████████████████████████████████████████████████████████████████████████| 6250/6250 [37:25<00:00,  2.78it/s]\n",
      "  0%|                                                                                         | 0/6250 [00:00<?, ?it/s]"
     ]
    },
    {
     "name": "stdout",
     "output_type": "stream",
     "text": [
      "[080/100] 2288.62 sec(s) Train Acc: 0.000000 Loss: 0.135839 | Val Acc: 0.000000 loss: 0.163435 | time to load: 2245.04\n"
     ]
    },
    {
     "name": "stderr",
     "output_type": "stream",
     "text": [
      "100%|██████████████████████████████████████████████████████████████████████████████| 6250/6250 [37:27<00:00,  2.78it/s]\n",
      "  0%|                                                                                         | 0/6250 [00:00<?, ?it/s]"
     ]
    },
    {
     "name": "stdout",
     "output_type": "stream",
     "text": [
      "[081/100] 2290.34 sec(s) Train Acc: 0.000000 Loss: 0.135533 | Val Acc: 0.000000 loss: 0.163687 | time to load: 2246.65\n"
     ]
    },
    {
     "name": "stderr",
     "output_type": "stream",
     "text": [
      "100%|██████████████████████████████████████████████████████████████████████████████| 6250/6250 [37:32<00:00,  2.77it/s]\n",
      "  0%|                                                                                         | 0/6250 [00:00<?, ?it/s]"
     ]
    },
    {
     "name": "stdout",
     "output_type": "stream",
     "text": [
      "[082/100] 2296.28 sec(s) Train Acc: 0.000000 Loss: 0.135159 | Val Acc: 0.000000 loss: 0.163967 | time to load: 2252.60\n"
     ]
    },
    {
     "name": "stderr",
     "output_type": "stream",
     "text": [
      "100%|██████████████████████████████████████████████████████████████████████████████| 6250/6250 [37:30<00:00,  2.78it/s]\n",
      "  0%|                                                                                         | 0/6250 [00:00<?, ?it/s]"
     ]
    },
    {
     "name": "stdout",
     "output_type": "stream",
     "text": [
      "[083/100] 2293.43 sec(s) Train Acc: 0.000000 Loss: 0.134953 | Val Acc: 0.000000 loss: 0.164131 | time to load: 2249.71\n"
     ]
    },
    {
     "name": "stderr",
     "output_type": "stream",
     "text": [
      "100%|██████████████████████████████████████████████████████████████████████████████| 6250/6250 [37:31<00:00,  2.78it/s]\n",
      "  0%|                                                                                         | 0/6250 [00:00<?, ?it/s]"
     ]
    },
    {
     "name": "stdout",
     "output_type": "stream",
     "text": [
      "[084/100] 2295.02 sec(s) Train Acc: 0.000000 Loss: 0.134684 | Val Acc: 0.000000 loss: 0.163460 | time to load: 2251.30\n"
     ]
    },
    {
     "name": "stderr",
     "output_type": "stream",
     "text": [
      "100%|██████████████████████████████████████████████████████████████████████████████| 6250/6250 [37:23<00:00,  2.79it/s]\n",
      "  0%|                                                                                         | 0/6250 [00:00<?, ?it/s]"
     ]
    },
    {
     "name": "stdout",
     "output_type": "stream",
     "text": [
      "[085/100] 2285.79 sec(s) Train Acc: 0.000000 Loss: 0.134251 | Val Acc: 0.000000 loss: 0.163421 | time to load: 2243.48\n"
     ]
    },
    {
     "name": "stderr",
     "output_type": "stream",
     "text": [
      "100%|██████████████████████████████████████████████████████████████████████████████| 6250/6250 [36:24<00:00,  2.86it/s]\n",
      "  0%|                                                                                         | 0/6250 [00:00<?, ?it/s]"
     ]
    },
    {
     "name": "stdout",
     "output_type": "stream",
     "text": [
      "[086/100] 2226.13 sec(s) Train Acc: 0.000000 Loss: 0.133930 | Val Acc: 0.000000 loss: 0.165356 | time to load: 2183.80\n"
     ]
    },
    {
     "name": "stderr",
     "output_type": "stream",
     "text": [
      "100%|██████████████████████████████████████████████████████████████████████████████| 6250/6250 [36:12<00:00,  2.88it/s]\n",
      "  0%|                                                                                         | 0/6250 [00:00<?, ?it/s]"
     ]
    },
    {
     "name": "stdout",
     "output_type": "stream",
     "text": [
      "[087/100] 2214.13 sec(s) Train Acc: 0.000000 Loss: 0.133542 | Val Acc: 0.000000 loss: 0.166238 | time to load: 2172.07\n"
     ]
    },
    {
     "name": "stderr",
     "output_type": "stream",
     "text": [
      "100%|██████████████████████████████████████████████████████████████████████████████| 6250/6250 [36:11<00:00,  2.88it/s]\n",
      "  0%|                                                                                         | 0/6250 [00:00<?, ?it/s]"
     ]
    },
    {
     "name": "stdout",
     "output_type": "stream",
     "text": [
      "[088/100] 2213.54 sec(s) Train Acc: 0.000000 Loss: 0.133241 | Val Acc: 0.000000 loss: 0.167918 | time to load: 2171.40\n"
     ]
    },
    {
     "name": "stderr",
     "output_type": "stream",
     "text": [
      "100%|██████████████████████████████████████████████████████████████████████████████| 6250/6250 [36:12<00:00,  2.88it/s]\n",
      "  0%|                                                                                         | 0/6250 [00:00<?, ?it/s]"
     ]
    },
    {
     "name": "stdout",
     "output_type": "stream",
     "text": [
      "[089/100] 2214.10 sec(s) Train Acc: 0.000000 Loss: 0.133011 | Val Acc: 0.000000 loss: 0.165206 | time to load: 2171.98\n"
     ]
    },
    {
     "name": "stderr",
     "output_type": "stream",
     "text": [
      "100%|██████████████████████████████████████████████████████████████████████████████| 6250/6250 [36:12<00:00,  2.88it/s]\n",
      "  0%|                                                                                         | 0/6250 [00:00<?, ?it/s]"
     ]
    },
    {
     "name": "stdout",
     "output_type": "stream",
     "text": [
      "[090/100] 2214.45 sec(s) Train Acc: 0.000000 Loss: 0.132530 | Val Acc: 0.000000 loss: 0.166573 | time to load: 2172.43\n"
     ]
    },
    {
     "name": "stderr",
     "output_type": "stream",
     "text": [
      "100%|██████████████████████████████████████████████████████████████████████████████| 6250/6250 [36:12<00:00,  2.88it/s]\n",
      "  0%|                                                                                         | 0/6250 [00:00<?, ?it/s]"
     ]
    },
    {
     "name": "stdout",
     "output_type": "stream",
     "text": [
      "[091/100] 2214.11 sec(s) Train Acc: 0.000000 Loss: 0.132325 | Val Acc: 0.000000 loss: 0.165282 | time to load: 2171.98\n"
     ]
    },
    {
     "name": "stderr",
     "output_type": "stream",
     "text": [
      "100%|██████████████████████████████████████████████████████████████████████████████| 6250/6250 [36:11<00:00,  2.88it/s]\n",
      "  0%|                                                                                         | 0/6250 [00:00<?, ?it/s]"
     ]
    },
    {
     "name": "stdout",
     "output_type": "stream",
     "text": [
      "[092/100] 2213.32 sec(s) Train Acc: 0.000000 Loss: 0.131927 | Val Acc: 0.000000 loss: 0.165440 | time to load: 2171.25\n"
     ]
    },
    {
     "name": "stderr",
     "output_type": "stream",
     "text": [
      "100%|██████████████████████████████████████████████████████████████████████████████| 6250/6250 [36:10<00:00,  2.88it/s]\n",
      "  0%|                                                                                         | 0/6250 [00:00<?, ?it/s]"
     ]
    },
    {
     "name": "stdout",
     "output_type": "stream",
     "text": [
      "[093/100] 2212.29 sec(s) Train Acc: 0.000000 Loss: 0.131775 | Val Acc: 0.000000 loss: 0.166647 | time to load: 2170.26\n"
     ]
    },
    {
     "name": "stderr",
     "output_type": "stream",
     "text": [
      "100%|██████████████████████████████████████████████████████████████████████████████| 6250/6250 [36:10<00:00,  2.88it/s]\n",
      "  0%|                                                                                         | 0/6250 [00:00<?, ?it/s]"
     ]
    },
    {
     "name": "stdout",
     "output_type": "stream",
     "text": [
      "[094/100] 2212.58 sec(s) Train Acc: 0.000000 Loss: 0.131349 | Val Acc: 0.000000 loss: 0.166695 | time to load: 2170.60\n"
     ]
    },
    {
     "name": "stderr",
     "output_type": "stream",
     "text": [
      "100%|██████████████████████████████████████████████████████████████████████████████| 6250/6250 [36:11<00:00,  2.88it/s]\n",
      "  0%|                                                                                         | 0/6250 [00:00<?, ?it/s]"
     ]
    },
    {
     "name": "stdout",
     "output_type": "stream",
     "text": [
      "[095/100] 2213.10 sec(s) Train Acc: 0.000000 Loss: 0.131085 | Val Acc: 0.000000 loss: 0.165142 | time to load: 2171.04\n"
     ]
    },
    {
     "name": "stderr",
     "output_type": "stream",
     "text": [
      "100%|██████████████████████████████████████████████████████████████████████████████| 6250/6250 [36:11<00:00,  2.88it/s]\n",
      "  0%|                                                                                         | 0/6250 [00:00<?, ?it/s]"
     ]
    },
    {
     "name": "stdout",
     "output_type": "stream",
     "text": [
      "[096/100] 2212.88 sec(s) Train Acc: 0.000000 Loss: 0.130826 | Val Acc: 0.000000 loss: 0.167227 | time to load: 2170.87\n"
     ]
    },
    {
     "name": "stderr",
     "output_type": "stream",
     "text": [
      "100%|██████████████████████████████████████████████████████████████████████████████| 6250/6250 [36:11<00:00,  2.88it/s]\n",
      "  0%|                                                                                         | 0/6250 [00:00<?, ?it/s]"
     ]
    },
    {
     "name": "stdout",
     "output_type": "stream",
     "text": [
      "[097/100] 2213.59 sec(s) Train Acc: 0.000000 Loss: 0.130522 | Val Acc: 0.000000 loss: 0.164839 | time to load: 2171.54\n"
     ]
    },
    {
     "name": "stderr",
     "output_type": "stream",
     "text": [
      "100%|██████████████████████████████████████████████████████████████████████████████| 6250/6250 [36:11<00:00,  2.88it/s]\n",
      "  0%|                                                                                         | 0/6250 [00:00<?, ?it/s]"
     ]
    },
    {
     "name": "stdout",
     "output_type": "stream",
     "text": [
      "[098/100] 2213.16 sec(s) Train Acc: 0.000000 Loss: 0.130193 | Val Acc: 0.000000 loss: 0.167795 | time to load: 2171.09\n"
     ]
    },
    {
     "name": "stderr",
     "output_type": "stream",
     "text": [
      "100%|██████████████████████████████████████████████████████████████████████████████| 6250/6250 [36:12<00:00,  2.88it/s]\n",
      "  0%|                                                                                         | 0/6250 [00:00<?, ?it/s]"
     ]
    },
    {
     "name": "stdout",
     "output_type": "stream",
     "text": [
      "[099/100] 2214.38 sec(s) Train Acc: 0.000000 Loss: 0.129886 | Val Acc: 0.000000 loss: 0.167696 | time to load: 2172.30\n"
     ]
    },
    {
     "name": "stderr",
     "output_type": "stream",
     "text": [
      "100%|██████████████████████████████████████████████████████████████████████████████| 6250/6250 [37:12<00:00,  2.80it/s]\n"
     ]
    },
    {
     "name": "stdout",
     "output_type": "stream",
     "text": [
      "[100/100] 2274.79 sec(s) Train Acc: 0.000000 Loss: 0.129618 | Val Acc: 0.000000 loss: 0.166757 | time to load: 2232.46\n"
     ]
    }
   ],
   "source": [
    "\"\"\"\n",
    "    Training\n",
    "\"\"\"\n",
    "#training 時做 data augmentation\n",
    "# 官方說明\n",
    "# https://pytorch.org/docs/stable/torchvision/transforms.html#module-torchvision.transforms.functional\n",
    "# 中文說明(有解釋)\n",
    "# https://wizardforcel.gitbooks.io/learn-dl-with-pytorch-liaoxingyu/4.7.1.html\n",
    "\n",
    "#model = Classifier().cuda()\n",
    "\n",
    "## Loss\n",
    "# 自己定義 loss \n",
    "# https://discuss.pytorch.org/t/custom-loss-functions/29387\n",
    "# loss = nn.CrossEntropyLoss() # 如果是 classification task\n",
    "def my_loss(output, target):\n",
    "    mask = torch.zeros_like(output)\n",
    "    mann = torch.abs(output-target)\n",
    "    eucl = .5 * (mann**2)\n",
    "    mask[...] = mann < self.delta # < delta 的會 = 1\n",
    "\n",
    "    # loss = eucl*mask + self.delta*(mann-.5*self.delta)*(1-mask)\n",
    "    # 前半 < delta，後半 > delta\n",
    "    loss = eucl*mask/self.delta + (mann-.5*self.delta)*(1-mask)\n",
    "    return torch.sum(loss,dim=1,keepdim=True)\n",
    "\n",
    "\n",
    "class HuberLoss(nn.Module):\n",
    "    def __init__(self, delta=.01):\n",
    "        super(HuberLoss, self).__init__()\n",
    "        self.delta=delta\n",
    "\n",
    "    def __call__(self, in0, in1):\n",
    "        mask = torch.zeros_like(in0)\n",
    "        mann = torch.abs(in0-in1)\n",
    "        eucl = .5 * (mann**2)\n",
    "        mask[...] = mann < self.delta # < delta 的會 = 1\n",
    "\n",
    "        # loss = eucl*mask + self.delta*(mann-.5*self.delta)*(1-mask)\n",
    "        # 前半 < delta，後半 > delta\n",
    "        loss = eucl*mask/self.delta + (mann-.5*self.delta)*(1-mask)\n",
    "        return torch.sum(loss,dim=1,keepdim=True)\n",
    "\"\"\"\n",
    "class L1Loss(nn.Module):\n",
    "    def __init__(self):\n",
    "        super(L1Loss, self).__init__()\n",
    "\n",
    "    def __call__(self, in0, in1):\n",
    "        return torch.sum(torch.abs(in0-in1),dim=1,keepdim=True)\n",
    "\"\"\"\n",
    "    \n",
    "#loss = nn.SmoothL1Loss(size_average=None, reduce=None, reduction='sum')\n",
    "lossL1 = nn.L1Loss(size_average=None, reduce=None, reduction='mean') #or 'sum'\n",
    "lossCE = nn.CrossEntropyLoss()\n",
    "\n",
    "localPath = \"./stage1/\"\n",
    "\n",
    "## Optimizer\n",
    "optimizer = torch.optim.Adam(model.parameters(), lr=0.0001, betas=(0.9, 0.999), eps=1e-08, weight_decay=0, amsgrad=False)\n",
    "# optimizer 必須要吃到 model 的參數\n",
    "#據說 SGD+momentum test 表現好\n",
    "#optimizer = torch.optim.SGD(model.parameters(), lr=0.001, momentum=0.9)\n",
    "\n",
    "num_epoch = 100\n",
    "best_val_loss = 1e+9\n",
    "\n",
    "train_loss_history = []\n",
    "val_loss_history = []\n",
    "\n",
    "for epoch in range(num_epoch):\n",
    "    epoch_start_time = time.time()\n",
    "    iter_data_time = time.time()\n",
    "    train_acc = 0.0\n",
    "    train_loss = 0.0\n",
    "    val_acc = 0.0\n",
    "    val_loss = 0.0\n",
    "\n",
    "    model.train() # 確保 model 是在 train model (開啟 Dropout 等...)\n",
    "    for i, data in enumerate(tqdm(train_loader)):\n",
    "        iter_start_time = time.time()\n",
    "        # time to load data\n",
    "        t_data = iter_start_time - iter_data_time\n",
    "\n",
    "        # 確保歸零，不然會累積\n",
    "        optimizer.zero_grad() # 用 optimizer 將 model 參數的 gradient 歸零\n",
    "        pred_class, train_pred = model(data[0].cuda()) # 利用 model 得到預測的機率分佈 這邊實際上就是去呼叫 model 的 forward 函數\n",
    "        #print(train_pred.size(), data[1].size())\n",
    "        \n",
    "        real_B_enc = encode_ab_ind(data[1][:, :, ::4, ::4])\n",
    "        \n",
    "        # 計算 loss （注意 prediction 跟 label 必須同時在 CPU 或是 GPU 上）\n",
    "        loss_L1_reg = lossL1(train_pred.type(torch.cuda.FloatTensor), data[1].type(torch.cuda.FloatTensor).cuda())\n",
    "        loss_CE = lossCE(pred_class.type(torch.cuda.FloatTensor), real_B_enc[:, 0, :, :].type(torch.cuda.LongTensor).cuda())\n",
    "        batch_loss = loss_L1_reg + loss_CE\n",
    "        batch_loss.backward() # 利用 back propagation 算出每個參數的 gradient\n",
    "        optimizer.step() # 以 optimizer 用 gradient 更新參數值\n",
    "\n",
    "        train_acc += np.sum(np.argmax(train_pred.cpu().data.numpy(), axis=1) == data[1].numpy())\n",
    "        train_loss += batch_loss.item()\n",
    "        \n",
    "    \n",
    "    model.eval()\n",
    "    with torch.no_grad():\n",
    "        for i, data in enumerate(val_loader):\n",
    "            pred_class, val_pred = model(data[0].cuda())\n",
    "            #batch_loss = loss(val_pred, data[1].cuda())\n",
    "            real_B_enc = encode_ab_ind(data[1][:, :, ::4, ::4])\n",
    "            loss_L1_reg = lossL1(val_pred, data[1].cuda())\n",
    "            loss_CE = lossCE(pred_class.type(torch.cuda.FloatTensor), real_B_enc[:, 0, :, :].type(torch.cuda.LongTensor).cuda())\n",
    "            batch_loss = loss_L1_reg + loss_CE\n",
    "            \n",
    "            if(i == 1):\n",
    "                L = data[0][6].cpu().numpy().transpose(1, 2, 0)\n",
    "                realAB = data[1][6].cpu().numpy().transpose(1, 2, 0)\n",
    "                predAB = val_pred[6].cpu().numpy().transpose(1, 2, 0)\n",
    "                realImg = (np.concatenate((L, realAB), axis=2) * 255).astype(np.uint8)\n",
    "                fakeImg = (np.concatenate((L, predAB), axis=2) * 255).astype(np.uint8)\n",
    "                # opencv 用 datatype 判斷圖片\n",
    "                realImg = cv2.cvtColor(realImg, cv2.COLOR_LAB2BGR)\n",
    "                fakeImg = cv2.cvtColor(fakeImg, cv2.COLOR_LAB2BGR) \n",
    "                #print(realImg)\n",
    "                #plt.imshow(realImg)\n",
    "                #plt.show()\n",
    "                cv2.imwrite(localPath + str(epoch + 1) + \"_real\" + \".png\"  , realImg)\n",
    "                cv2.imwrite(localPath + str(epoch + 1) + \"_fake\" + \".png\"  , fakeImg)\n",
    "            val_acc += np.sum(np.argmax(val_pred.cpu().data.numpy(), axis=1) == data[1].numpy())\n",
    "            val_loss += batch_loss.item()\n",
    "        \n",
    "        # 只 save parameters (建議的方式)\n",
    "        torch.save(model.state_dict(), localPath + str(epoch + 1) +  \"_model\")\n",
    "        \n",
    "        #if val_loss < best_val_loss:\n",
    "        #    best_val_loss = val_loss\n",
    "        #    torch.save(model, \"best_model\")\n",
    "        #將結果 print 出來\n",
    "        print('[%03d/%03d] %2.2f sec(s) Train Acc: %3.6f Loss: %3.6f | Val Acc: %3.6f loss: %3.6f | time to load: %2.2f' % \\\n",
    "            (epoch + 1, num_epoch, time.time()-epoch_start_time, \\\n",
    "             train_acc/train_set.__len__(), train_loss/train_set.__len__(), val_acc/val_set.__len__(), val_loss/val_set.__len__(), t_data))\n",
    "        \n",
    "        train_loss_history.append(train_loss/train_set.__len__())\n",
    "        val_loss_history.append(val_loss/val_set.__len__())\n",
    "        "
   ]
  },
  {
   "cell_type": "code",
   "execution_count": 12,
   "metadata": {},
   "outputs": [
    {
     "data": {
      "text/plain": [
       "[<matplotlib.lines.Line2D at 0x23bf21dc308>]"
      ]
     },
     "execution_count": 12,
     "metadata": {},
     "output_type": "execute_result"
    },
    {
     "data": {
      "image/png": "[encoded data removed]",
      "text/plain": [
       "<Figure size 432x288 with 1 Axes>"
      ]
     },
     "metadata": {
      "needs_background": "light"
     },
     "output_type": "display_data"
    }
   ],
   "source": [
    "plt.plot(range(len(train_loss_history)), train_loss_history)\n",
    "plt.plot(range(len(val_loss_history)), val_loss_history)"
   ]
  },
  {
   "cell_type": "code",
   "execution_count": 13,
   "metadata": {},
   "outputs": [],
   "source": [
    "np.save(localPath + \"stage1_train_loss\", np.array(train_loss_history))\n",
    "np.save(localPath + \"stage1_val_loss\", np.array(val_loss_history))"
   ]
  },
  {
   "cell_type": "code",
   "execution_count": 16,
   "metadata": {},
   "outputs": [
    {
     "name": "stderr",
     "output_type": "stream",
     "text": [
      "  0%|                                                                                         | 0/6250 [00:00<?, ?it/s]C:\\Users\\tomsan\\Miniconda3\\envs\\testJ\\lib\\site-packages\\ipykernel_launcher.py:40: DeprecationWarning: elementwise comparison failed; this will raise an error in the future.\n",
      "100%|██████████████████████████████████████████████████████████████████████████████| 6250/6250 [38:28<00:00,  2.71it/s]\n",
      "C:\\Users\\tomsan\\Miniconda3\\envs\\testJ\\lib\\site-packages\\ipykernel_launcher.py:67: DeprecationWarning: elementwise comparison failed; this will raise an error in the future.\n",
      "  0%|                                                                                         | 0/6250 [00:00<?, ?it/s]"
     ]
    },
    {
     "name": "stdout",
     "output_type": "stream",
     "text": [
      "[001/015] 2351.13 sec(s) Train Acc: 0.000000 Loss: 0.126378 | Val Acc: 0.000000 loss: 0.165639 | time to load: 2307.91\n"
     ]
    },
    {
     "name": "stderr",
     "output_type": "stream",
     "text": [
      "100%|██████████████████████████████████████████████████████████████████████████████| 6250/6250 [37:32<00:00,  2.77it/s]\n",
      "  0%|                                                                                         | 0/6250 [00:00<?, ?it/s]"
     ]
    },
    {
     "name": "stdout",
     "output_type": "stream",
     "text": [
      "[002/015] 2294.62 sec(s) Train Acc: 0.000000 Loss: 0.125382 | Val Acc: 0.000000 loss: 0.165835 | time to load: 2252.36\n"
     ]
    },
    {
     "name": "stderr",
     "output_type": "stream",
     "text": [
      "100%|██████████████████████████████████████████████████████████████████████████████| 6250/6250 [37:26<00:00,  2.78it/s]\n",
      "  0%|                                                                                         | 0/6250 [00:00<?, ?it/s]"
     ]
    },
    {
     "name": "stdout",
     "output_type": "stream",
     "text": [
      "[003/015] 2288.60 sec(s) Train Acc: 0.000000 Loss: 0.125068 | Val Acc: 0.000000 loss: 0.167255 | time to load: 2246.50\n"
     ]
    },
    {
     "name": "stderr",
     "output_type": "stream",
     "text": [
      "100%|██████████████████████████████████████████████████████████████████████████████| 6250/6250 [37:25<00:00,  2.78it/s]\n",
      "  0%|                                                                                         | 0/6250 [00:00<?, ?it/s]"
     ]
    },
    {
     "name": "stdout",
     "output_type": "stream",
     "text": [
      "[004/015] 2287.73 sec(s) Train Acc: 0.000000 Loss: 0.124806 | Val Acc: 0.000000 loss: 0.166354 | time to load: 2245.64\n"
     ]
    },
    {
     "name": "stderr",
     "output_type": "stream",
     "text": [
      "100%|██████████████████████████████████████████████████████████████████████████████| 6250/6250 [37:25<00:00,  2.78it/s]\n",
      "  0%|                                                                                         | 0/6250 [00:00<?, ?it/s]"
     ]
    },
    {
     "name": "stdout",
     "output_type": "stream",
     "text": [
      "[005/015] 2287.68 sec(s) Train Acc: 0.000000 Loss: 0.124545 | Val Acc: 0.000000 loss: 0.166939 | time to load: 2245.59\n"
     ]
    },
    {
     "name": "stderr",
     "output_type": "stream",
     "text": [
      "100%|██████████████████████████████████████████████████████████████████████████████| 6250/6250 [37:26<00:00,  2.78it/s]\n",
      "  0%|                                                                                         | 0/6250 [00:00<?, ?it/s]"
     ]
    },
    {
     "name": "stdout",
     "output_type": "stream",
     "text": [
      "[006/015] 2288.38 sec(s) Train Acc: 0.000000 Loss: 0.124495 | Val Acc: 0.000000 loss: 0.167448 | time to load: 2246.30\n"
     ]
    },
    {
     "name": "stderr",
     "output_type": "stream",
     "text": [
      "100%|██████████████████████████████████████████████████████████████████████████████| 6250/6250 [37:26<00:00,  2.78it/s]\n",
      "  0%|                                                                                         | 0/6250 [00:00<?, ?it/s]"
     ]
    },
    {
     "name": "stdout",
     "output_type": "stream",
     "text": [
      "[007/015] 2288.44 sec(s) Train Acc: 0.000000 Loss: 0.124443 | Val Acc: 0.000000 loss: 0.166374 | time to load: 2246.31\n"
     ]
    },
    {
     "name": "stderr",
     "output_type": "stream",
     "text": [
      "100%|██████████████████████████████████████████████████████████████████████████████| 6250/6250 [37:26<00:00,  2.78it/s]\n",
      "  0%|                                                                                         | 0/6250 [00:00<?, ?it/s]"
     ]
    },
    {
     "name": "stdout",
     "output_type": "stream",
     "text": [
      "[008/015] 2288.07 sec(s) Train Acc: 0.000000 Loss: 0.124278 | Val Acc: 0.000000 loss: 0.167276 | time to load: 2245.89\n"
     ]
    },
    {
     "name": "stderr",
     "output_type": "stream",
     "text": [
      "100%|██████████████████████████████████████████████████████████████████████████████| 6250/6250 [37:26<00:00,  2.78it/s]\n",
      "  0%|                                                                                         | 0/6250 [00:00<?, ?it/s]"
     ]
    },
    {
     "name": "stdout",
     "output_type": "stream",
     "text": [
      "[009/015] 2287.99 sec(s) Train Acc: 0.000000 Loss: 0.124207 | Val Acc: 0.000000 loss: 0.167525 | time to load: 2245.82\n"
     ]
    },
    {
     "name": "stderr",
     "output_type": "stream",
     "text": [
      "100%|██████████████████████████████████████████████████████████████████████████████| 6250/6250 [37:26<00:00,  2.78it/s]\n",
      "  0%|                                                                                         | 0/6250 [00:00<?, ?it/s]"
     ]
    },
    {
     "name": "stdout",
     "output_type": "stream",
     "text": [
      "[010/015] 2288.48 sec(s) Train Acc: 0.000000 Loss: 0.124141 | Val Acc: 0.000000 loss: 0.167063 | time to load: 2246.22\n"
     ]
    },
    {
     "name": "stderr",
     "output_type": "stream",
     "text": [
      "100%|██████████████████████████████████████████████████████████████████████████████| 6250/6250 [37:26<00:00,  2.78it/s]\n",
      "  0%|                                                                                         | 0/6250 [00:00<?, ?it/s]"
     ]
    },
    {
     "name": "stdout",
     "output_type": "stream",
     "text": [
      "[011/015] 2288.34 sec(s) Train Acc: 0.000000 Loss: 0.124023 | Val Acc: 0.000000 loss: 0.167818 | time to load: 2246.14\n"
     ]
    },
    {
     "name": "stderr",
     "output_type": "stream",
     "text": [
      "100%|██████████████████████████████████████████████████████████████████████████████| 6250/6250 [38:25<00:00,  2.71it/s]\n",
      "  0%|                                                                                         | 0/6250 [00:00<?, ?it/s]"
     ]
    },
    {
     "name": "stdout",
     "output_type": "stream",
     "text": [
      "[012/015] 2349.24 sec(s) Train Acc: 0.000000 Loss: 0.124031 | Val Acc: 0.000000 loss: 0.168309 | time to load: 2305.15\n"
     ]
    },
    {
     "name": "stderr",
     "output_type": "stream",
     "text": [
      "100%|██████████████████████████████████████████████████████████████████████████████| 6250/6250 [39:02<00:00,  2.67it/s]\n",
      "  0%|                                                                                         | 0/6250 [00:00<?, ?it/s]"
     ]
    },
    {
     "name": "stdout",
     "output_type": "stream",
     "text": [
      "[013/015] 2385.19 sec(s) Train Acc: 0.000000 Loss: 0.123897 | Val Acc: 0.000000 loss: 0.167262 | time to load: 2341.68\n"
     ]
    },
    {
     "name": "stderr",
     "output_type": "stream",
     "text": [
      "100%|██████████████████████████████████████████████████████████████████████████████| 6250/6250 [38:28<00:00,  2.71it/s]\n",
      "  0%|                                                                                         | 0/6250 [00:00<?, ?it/s]"
     ]
    },
    {
     "name": "stdout",
     "output_type": "stream",
     "text": [
      "[014/015] 2351.50 sec(s) Train Acc: 0.000000 Loss: 0.123897 | Val Acc: 0.000000 loss: 0.168638 | time to load: 2308.43\n"
     ]
    },
    {
     "name": "stderr",
     "output_type": "stream",
     "text": [
      "100%|██████████████████████████████████████████████████████████████████████████████| 6250/6250 [37:42<00:00,  2.76it/s]\n"
     ]
    },
    {
     "name": "stdout",
     "output_type": "stream",
     "text": [
      "[015/015] 2304.61 sec(s) Train Acc: 0.000000 Loss: 0.123922 | Val Acc: 0.000000 loss: 0.167714 | time to load: 2262.04\n"
     ]
    }
   ],
   "source": [
    "# train regression\n",
    "localPath = \"./stage2/\"\n",
    "PATH = \"./stage1/100_model\"\n",
    "\n",
    "num_epoch = 15\n",
    "model = Unet(in_channels=1, out_channels=2, classification=False).cuda()\n",
    "model.load_state_dict(torch.load(PATH))\n",
    "\n",
    "optimizer = torch.optim.Adam(model.parameters(), lr=0.00001, betas=(0.9, 0.999), eps=1e-08, weight_decay=0, amsgrad=False)\n",
    "\n",
    "for epoch in range(num_epoch):\n",
    "    epoch_start_time = time.time()\n",
    "    iter_data_time = time.time()\n",
    "    train_acc = 0.0\n",
    "    train_loss = 0.0\n",
    "    val_acc = 0.0\n",
    "    val_loss = 0.0\n",
    "    \n",
    "    model.train() # 確保 model 是在 train model (開啟 Dropout 等...)\n",
    "    for i, data in enumerate(tqdm(train_loader)):\n",
    "        iter_start_time = time.time()\n",
    "        # time to load data\n",
    "        t_data = iter_start_time - iter_data_time\n",
    "\n",
    "        # 確保歸零，不然會累積\n",
    "        optimizer.zero_grad() # 用 optimizer 將 model 參數的 gradient 歸零\n",
    "        pred_class, train_pred = model(data[0].cuda()) # 利用 model 得到預測的機率分佈 這邊實際上就是去呼叫 model 的 forward 函數\n",
    "        #print(train_pred.size(), data[1].size())\n",
    "        \n",
    "        real_B_enc = encode_ab_ind(data[1][:, :, ::4, ::4])\n",
    "        \n",
    "        # 計算 loss （注意 prediction 跟 label 必須同時在 CPU 或是 GPU 上）\n",
    "        loss_L1_reg = lossL1(train_pred.type(torch.cuda.FloatTensor), data[1].type(torch.cuda.FloatTensor).cuda())\n",
    "        loss_CE = lossCE(pred_class.type(torch.cuda.FloatTensor), real_B_enc[:, 0, :, :].type(torch.cuda.LongTensor).cuda())\n",
    "        # 自動 one-hot encoding\n",
    "        batch_loss = loss_L1_reg + loss_CE\n",
    "        batch_loss.backward() # 利用 back propagation 算出每個參數的 gradient\n",
    "        optimizer.step() # 以 optimizer 用 gradient 更新參數值\n",
    "\n",
    "        train_acc += np.sum(np.argmax(train_pred.cpu().data.numpy(), axis=1) == data[1].numpy())\n",
    "        train_loss += batch_loss.item()\n",
    "    \n",
    "    model.eval() #model 變成測試模式\n",
    "    with torch.no_grad():\n",
    "        for i, data in enumerate(val_loader):\n",
    "            pred_class, val_pred = model(data[0].cuda())\n",
    "            #batch_loss = loss(val_pred, data[1].cuda())\n",
    "            real_B_enc = encode_ab_ind(data[1][:, :, ::4, ::4])\n",
    "            loss_L1_reg = lossL1(val_pred.type(torch.cuda.FloatTensor), data[1].type(torch.cuda.FloatTensor).cuda())\n",
    "            loss_CE = lossCE(pred_class.type(torch.cuda.FloatTensor), real_B_enc[:, 0, :, :].type(torch.cuda.LongTensor).cuda())\n",
    "            batch_loss = loss_L1_reg + loss_CE\n",
    "            \n",
    "            if(i == 1):\n",
    "                L = data[0][6].cpu().numpy().transpose(1, 2, 0)\n",
    "                realAB = data[1][6].cpu().numpy().transpose(1, 2, 0)\n",
    "                predAB = val_pred[6].cpu().numpy().transpose(1, 2, 0)\n",
    "                realImg = (np.concatenate((L, realAB), axis=2) * 255).astype(np.uint8)\n",
    "                fakeImg = (np.concatenate((L, predAB), axis=2) * 255).astype(np.uint8)\n",
    "                # opencv 用 datatype 判斷圖片\n",
    "                realImg = cv2.cvtColor(realImg, cv2.COLOR_LAB2BGR)\n",
    "                fakeImg = cv2.cvtColor(fakeImg, cv2.COLOR_LAB2BGR) \n",
    "                #print(realImg)\n",
    "                #plt.imshow(realImg)\n",
    "                #plt.show()\n",
    "                cv2.imwrite(localPath + str(epoch + 1) + \"_stage2_real\" + \".png\"  , realImg)\n",
    "                cv2.imwrite(localPath + str(epoch + 1) + \"_stage2_fake\" + \".png\"  , fakeImg)\n",
    "            val_acc += np.sum(np.argmax(val_pred.cpu().data.numpy(), axis=1) == data[1].numpy())\n",
    "            val_loss += batch_loss.item()\n",
    "        \n",
    "        # 只 save parameters (建議的方式)\n",
    "        torch.save(model.state_dict(), localPath + str(epoch + 1) +  \"_stage2_model\")\n",
    "        \n",
    "        #if val_loss < best_val_loss:\n",
    "        #    best_val_loss = val_loss\n",
    "        #    torch.save(model, \"best_model\")\n",
    "        #將結果 print 出來\n",
    "        print('[%03d/%03d] %2.2f sec(s) Train Acc: %3.6f Loss: %3.6f | Val Acc: %3.6f loss: %3.6f | time to load: %2.2f' % \\\n",
    "            (epoch + 1, num_epoch, time.time()-epoch_start_time, \\\n",
    "             train_acc/train_set.__len__(), train_loss/train_set.__len__(), val_acc/val_set.__len__(), val_loss/val_set.__len__(), t_data))\n",
    "        \n",
    "        train_loss_history.append(train_loss/train_set.__len__())\n",
    "        val_loss_history.append(val_loss/val_set.__len__())"
   ]
  },
  {
   "cell_type": "code",
   "execution_count": 17,
   "metadata": {},
   "outputs": [
    {
     "data": {
      "text/plain": [
       "[<matplotlib.lines.Line2D at 0x23704ed1e88>]"
      ]
     },
     "execution_count": 17,
     "metadata": {},
     "output_type": "execute_result"
    },
    {
     "data": {
      "image/png": "[encoded data removed]",
      "text/plain": [
       "<Figure size 432x288 with 1 Axes>"
      ]
     },
     "metadata": {
      "needs_background": "light"
     },
     "output_type": "display_data"
    }
   ],
   "source": [
    "plt.plot(range(len(train_loss_history)), train_loss_history)\n",
    "plt.plot(range(len(val_loss_history)), val_loss_history)"
   ]
  },
  {
   "cell_type": "code",
   "execution_count": 18,
   "metadata": {},
   "outputs": [],
   "source": [
    "np.save(\"./stage2/stage2_train_loss\", np.array(train_loss_history))\n",
    "np.save(\"./stage2/stage2_val_loss\", np.array(val_loss_history))"
   ]
  },
  {
   "cell_type": "code",
   "execution_count": null,
   "metadata": {},
   "outputs": [],
   "source": [
    "\"\"\"\n",
    "    stage 3\n",
    "\"\"\"\n",
    "train_loss_history = list(np.load('./stage2/incept_stage2_train_loss.npy')) #back to list\n",
    "val_loss_history = list(np.load('./stage2/incept_stage2_val_loss.npy'))"
   ]
  },
  {
   "cell_type": "code",
   "execution_count": 19,
   "metadata": {},
   "outputs": [
    {
     "name": "stderr",
     "output_type": "stream",
     "text": [
      "  0%|                                                                                         | 0/6250 [00:00<?, ?it/s]C:\\Users\\tomsan\\Miniconda3\\envs\\testJ\\lib\\site-packages\\ipykernel_launcher.py:41: DeprecationWarning: elementwise comparison failed; this will raise an error in the future.\n",
      "100%|██████████████████████████████████████████████████████████████████████████████| 6250/6250 [38:47<00:00,  2.69it/s]\n",
      "C:\\Users\\tomsan\\Miniconda3\\envs\\testJ\\lib\\site-packages\\ipykernel_launcher.py:68: DeprecationWarning: elementwise comparison failed; this will raise an error in the future.\n",
      "  0%|                                                                                         | 0/6250 [00:00<?, ?it/s]"
     ]
    },
    {
     "name": "stdout",
     "output_type": "stream",
     "text": [
      "[001/005] 2371.24 sec(s) Train Acc: 0.000000 Loss: 0.123950 | Val Acc: 0.000000 loss: 0.167718 | time to load: 2327.34\n"
     ]
    },
    {
     "name": "stderr",
     "output_type": "stream",
     "text": [
      "100%|██████████████████████████████████████████████████████████████████████████████| 6250/6250 [38:41<00:00,  2.69it/s]\n",
      "  0%|                                                                                         | 0/6250 [00:00<?, ?it/s]"
     ]
    },
    {
     "name": "stdout",
     "output_type": "stream",
     "text": [
      "[002/005] 2363.63 sec(s) Train Acc: 0.000000 Loss: 0.123916 | Val Acc: 0.000000 loss: 0.167756 | time to load: 2320.96\n"
     ]
    },
    {
     "name": "stderr",
     "output_type": "stream",
     "text": [
      "100%|██████████████████████████████████████████████████████████████████████████████| 6250/6250 [38:26<00:00,  2.71it/s]\n",
      "  0%|                                                                                         | 0/6250 [00:00<?, ?it/s]"
     ]
    },
    {
     "name": "stdout",
     "output_type": "stream",
     "text": [
      "[003/005] 2350.44 sec(s) Train Acc: 0.000000 Loss: 0.123915 | Val Acc: 0.000000 loss: 0.168355 | time to load: 2306.01\n"
     ]
    },
    {
     "name": "stderr",
     "output_type": "stream",
     "text": [
      "100%|██████████████████████████████████████████████████████████████████████████████| 6250/6250 [39:53<00:00,  2.61it/s]\n",
      "  0%|                                                                                         | 0/6250 [00:00<?, ?it/s]"
     ]
    },
    {
     "name": "stdout",
     "output_type": "stream",
     "text": [
      "[004/005] 2437.48 sec(s) Train Acc: 0.000000 Loss: 0.123938 | Val Acc: 0.000000 loss: 0.167747 | time to load: 2392.99\n"
     ]
    },
    {
     "name": "stderr",
     "output_type": "stream",
     "text": [
      "100%|██████████████████████████████████████████████████████████████████████████████| 6250/6250 [38:21<00:00,  2.72it/s]\n"
     ]
    },
    {
     "name": "stdout",
     "output_type": "stream",
     "text": [
      "[005/005] 2343.13 sec(s) Train Acc: 0.000000 Loss: 0.123934 | Val Acc: 0.000000 loss: 0.167872 | time to load: 2300.67\n"
     ]
    }
   ],
   "source": [
    "# train regression\n",
    "localPath = \"./stage3/\"\n",
    "PATH = \"./stage2/15_stage2_model\"\n",
    "\n",
    "# lr = 1e-6\n",
    "optimizer = torch.optim.Adam(model.parameters(), lr=0.000001, betas=(0.9, 0.999), eps=1e-08, weight_decay=0, amsgrad=False)\n",
    "num_epoch = 5\n",
    "model = Unet(in_channels=1, out_channels=2, classification=False).cuda()\n",
    "model.load_state_dict(torch.load(PATH))\n",
    "\n",
    "\n",
    "for epoch in range(num_epoch):\n",
    "    epoch_start_time = time.time()\n",
    "    iter_data_time = time.time()\n",
    "    train_acc = 0.0\n",
    "    train_loss = 0.0\n",
    "    val_acc = 0.0\n",
    "    val_loss = 0.0\n",
    "    \n",
    "    model.train() # 確保 model 是在 train model (開啟 Dropout 等...)\n",
    "    for i, data in enumerate(tqdm(train_loader)):\n",
    "        iter_start_time = time.time()\n",
    "        # time to load data\n",
    "        t_data = iter_start_time - iter_data_time\n",
    "\n",
    "        # 確保歸零，不然會累積\n",
    "        optimizer.zero_grad() # 用 optimizer 將 model 參數的 gradient 歸零\n",
    "        pred_class, train_pred = model(data[0].cuda()) # 利用 model 得到預測的機率分佈 這邊實際上就是去呼叫 model 的 forward 函數\n",
    "        #print(train_pred.size(), data[1].size())\n",
    "        \n",
    "        real_B_enc = encode_ab_ind(data[1][:, :, ::4, ::4])\n",
    "        \n",
    "        # 計算 loss （注意 prediction 跟 label 必須同時在 CPU 或是 GPU 上）\n",
    "        loss_L1_reg = lossL1(train_pred.type(torch.cuda.FloatTensor), data[1].type(torch.cuda.FloatTensor).cuda())\n",
    "        loss_CE = lossCE(pred_class.type(torch.cuda.FloatTensor), real_B_enc[:, 0, :, :].type(torch.cuda.LongTensor).cuda())\n",
    "        # 自動 one-hot encoding\n",
    "        batch_loss = loss_L1_reg + loss_CE\n",
    "        batch_loss.backward() # 利用 back propagation 算出每個參數的 gradient\n",
    "        optimizer.step() # 以 optimizer 用 gradient 更新參數值\n",
    "\n",
    "        train_acc += np.sum(np.argmax(train_pred.cpu().data.numpy(), axis=1) == data[1].numpy())\n",
    "        train_loss += batch_loss.item()\n",
    "    \n",
    "    model.eval() #model 變成測試模式\n",
    "    with torch.no_grad():\n",
    "        for i, data in enumerate(val_loader):\n",
    "            pred_class, val_pred = model(data[0].cuda())\n",
    "            #batch_loss = loss(val_pred, data[1].cuda())\n",
    "            real_B_enc = encode_ab_ind(data[1][:, :, ::4, ::4])\n",
    "            loss_L1_reg = lossL1(val_pred.type(torch.cuda.FloatTensor), data[1].type(torch.cuda.FloatTensor).cuda())\n",
    "            loss_CE = lossCE(pred_class.type(torch.cuda.FloatTensor), real_B_enc[:, 0, :, :].type(torch.cuda.LongTensor).cuda())\n",
    "            batch_loss = loss_L1_reg + loss_CE\n",
    "            \n",
    "            if(i == 1):\n",
    "                L = data[0][6].cpu().numpy().transpose(1, 2, 0)\n",
    "                realAB = data[1][6].cpu().numpy().transpose(1, 2, 0)\n",
    "                predAB = val_pred[6].cpu().numpy().transpose(1, 2, 0)\n",
    "                realImg = (np.concatenate((L, realAB), axis=2) * 255).astype(np.uint8)\n",
    "                fakeImg = (np.concatenate((L, predAB), axis=2) * 255).astype(np.uint8)\n",
    "                # opencv 用 datatype 判斷圖片\n",
    "                realImg = cv2.cvtColor(realImg, cv2.COLOR_LAB2BGR)\n",
    "                fakeImg = cv2.cvtColor(fakeImg, cv2.COLOR_LAB2BGR) \n",
    "                #print(realImg)\n",
    "                #plt.imshow(realImg)\n",
    "                #plt.show()\n",
    "                cv2.imwrite(localPath + str(epoch + 1) + \"_stage3_real\" + \".png\"  , realImg)\n",
    "                cv2.imwrite(localPath + str(epoch + 1) + \"_stage3_fake\" + \".png\"  , fakeImg)\n",
    "            val_acc += np.sum(np.argmax(val_pred.cpu().data.numpy(), axis=1) == data[1].numpy())\n",
    "            val_loss += batch_loss.item()\n",
    "        \n",
    "        # 只 save parameters (建議的方式)\n",
    "        torch.save(model.state_dict(), localPath + str(epoch + 1) +  \"_stage3_model\")\n",
    "        \n",
    "        #if val_loss < best_val_loss:\n",
    "        #    best_val_loss = val_loss\n",
    "        #    torch.save(model, \"best_model\")\n",
    "        #將結果 print 出來\n",
    "        print('[%03d/%03d] %2.2f sec(s) Train Acc: %3.6f Loss: %3.6f | Val Acc: %3.6f loss: %3.6f | time to load: %2.2f' % \\\n",
    "            (epoch + 1, num_epoch, time.time()-epoch_start_time, \\\n",
    "             train_acc/train_set.__len__(), train_loss/train_set.__len__(), val_acc/val_set.__len__(), val_loss/val_set.__len__(), t_data))\n",
    "        \n",
    "        train_loss_history.append(train_loss/train_set.__len__())\n",
    "        val_loss_history.append(val_loss/val_set.__len__())"
   ]
  },
  {
   "cell_type": "code",
   "execution_count": 20,
   "metadata": {},
   "outputs": [
    {
     "data": {
      "text/plain": [
       "[<matplotlib.lines.Line2D at 0x2370507bdc8>]"
      ]
     },
     "execution_count": 20,
     "metadata": {},
     "output_type": "execute_result"
    },
    {
     "data": {
      "image/png": "[encoded data removed]",
      "text/plain": [
       "<Figure size 432x288 with 1 Axes>"
      ]
     },
     "metadata": {
      "needs_background": "light"
     },
     "output_type": "display_data"
    }
   ],
   "source": [
    "plt.plot(range(len(train_loss_history)), train_loss_history)\n",
    "plt.plot(range(len(val_loss_history)), val_loss_history)"
   ]
  },
  {
   "cell_type": "code",
   "execution_count": 22,
   "metadata": {},
   "outputs": [
    {
     "ename": "IndexError",
     "evalue": "index 8 is out of bounds for dimension 0 with size 8",
     "output_type": "error",
     "traceback": [
      "\u001b[1;31m---------------------------------------------------------------------------\u001b[0m",
      "\u001b[1;31mIndexError\u001b[0m                                Traceback (most recent call last)",
      "\u001b[1;32m<ipython-input-22-e1f40c37fead>\u001b[0m in \u001b[0;36m<module>\u001b[1;34m\u001b[0m\n\u001b[0;32m     38\u001b[0m \u001b[1;33m\u001b[0m\u001b[0m\n\u001b[0;32m     39\u001b[0m         \u001b[1;32mfor\u001b[0m \u001b[0mj\u001b[0m \u001b[1;32min\u001b[0m \u001b[0mrange\u001b[0m\u001b[1;33m(\u001b[0m\u001b[0mbatch_size\u001b[0m\u001b[1;33m)\u001b[0m\u001b[1;33m:\u001b[0m\u001b[1;33m\u001b[0m\u001b[1;33m\u001b[0m\u001b[0m\n\u001b[1;32m---> 40\u001b[1;33m             \u001b[0mL\u001b[0m \u001b[1;33m=\u001b[0m \u001b[0mdata\u001b[0m\u001b[1;33m[\u001b[0m\u001b[1;36m0\u001b[0m\u001b[1;33m]\u001b[0m\u001b[1;33m[\u001b[0m\u001b[0mj\u001b[0m\u001b[1;33m]\u001b[0m\u001b[1;33m.\u001b[0m\u001b[0mcpu\u001b[0m\u001b[1;33m(\u001b[0m\u001b[1;33m)\u001b[0m\u001b[1;33m.\u001b[0m\u001b[0mnumpy\u001b[0m\u001b[1;33m(\u001b[0m\u001b[1;33m)\u001b[0m\u001b[1;33m.\u001b[0m\u001b[0mtranspose\u001b[0m\u001b[1;33m(\u001b[0m\u001b[1;36m1\u001b[0m\u001b[1;33m,\u001b[0m \u001b[1;36m2\u001b[0m\u001b[1;33m,\u001b[0m \u001b[1;36m0\u001b[0m\u001b[1;33m)\u001b[0m\u001b[1;33m\u001b[0m\u001b[1;33m\u001b[0m\u001b[0m\n\u001b[0m\u001b[0;32m     41\u001b[0m             \u001b[0mpredAB\u001b[0m \u001b[1;33m=\u001b[0m \u001b[0mval_pred\u001b[0m\u001b[1;33m[\u001b[0m\u001b[0mj\u001b[0m\u001b[1;33m]\u001b[0m\u001b[1;33m.\u001b[0m\u001b[0mcpu\u001b[0m\u001b[1;33m(\u001b[0m\u001b[1;33m)\u001b[0m\u001b[1;33m.\u001b[0m\u001b[0mnumpy\u001b[0m\u001b[1;33m(\u001b[0m\u001b[1;33m)\u001b[0m\u001b[1;33m.\u001b[0m\u001b[0mtranspose\u001b[0m\u001b[1;33m(\u001b[0m\u001b[1;36m1\u001b[0m\u001b[1;33m,\u001b[0m \u001b[1;36m2\u001b[0m\u001b[1;33m,\u001b[0m \u001b[1;36m0\u001b[0m\u001b[1;33m)\u001b[0m\u001b[1;33m\u001b[0m\u001b[1;33m\u001b[0m\u001b[0m\n\u001b[0;32m     42\u001b[0m             \u001b[0mfakeImg\u001b[0m \u001b[1;33m=\u001b[0m \u001b[1;33m(\u001b[0m\u001b[0mnp\u001b[0m\u001b[1;33m.\u001b[0m\u001b[0mconcatenate\u001b[0m\u001b[1;33m(\u001b[0m\u001b[1;33m(\u001b[0m\u001b[0mL\u001b[0m\u001b[1;33m,\u001b[0m \u001b[0mpredAB\u001b[0m\u001b[1;33m)\u001b[0m\u001b[1;33m,\u001b[0m \u001b[0maxis\u001b[0m\u001b[1;33m=\u001b[0m\u001b[1;36m2\u001b[0m\u001b[1;33m)\u001b[0m \u001b[1;33m*\u001b[0m \u001b[1;36m255\u001b[0m\u001b[1;33m)\u001b[0m\u001b[1;33m.\u001b[0m\u001b[0mastype\u001b[0m\u001b[1;33m(\u001b[0m\u001b[0mnp\u001b[0m\u001b[1;33m.\u001b[0m\u001b[0muint8\u001b[0m\u001b[1;33m)\u001b[0m\u001b[1;33m\u001b[0m\u001b[1;33m\u001b[0m\u001b[0m\n",
      "\u001b[1;31mIndexError\u001b[0m: index 8 is out of bounds for dimension 0 with size 8"
     ]
    }
   ],
   "source": [
    "#model.load_state_dict(torch.load(\"./stage3/5_stage3_model\"))\n",
    "model.load_state_dict(torch.load(\"./stage1/37_model\"))\n",
    "\n",
    "model.eval() #model 變成測試模式\n",
    "#localPath = \"./result/\"\n",
    "localPath = \"./result2/\"\n",
    "indexCount = 0\n",
    "\n",
    "\n",
    "class valDataset(Dataset):\n",
    "    def __init__(self, x, y=None, transform=None):\n",
    "        self.x = x\n",
    "        # label is required to be a LongTensor\n",
    "        self.y = y\n",
    "\n",
    "        self.transform = transform\n",
    "    def __len__(self):\n",
    "        return len(self.x)\n",
    "    def __getitem__(self, index):\n",
    "        X = self.x[index]\n",
    "        Y = self.y[index]\n",
    "        if self.transform is not None:\n",
    "            X = self.transform(X)\n",
    "            Y = self.transform(Y)\n",
    "        return X, Y\n",
    "\n",
    "val_transform = transforms.Compose([\n",
    "    transforms.ToPILImage(),\n",
    "    transforms.ToTensor(),\n",
    "])\n",
    "\n",
    "val_set = valDataset(val_x, val_y, val_transform)\n",
    "val_loader = DataLoader(val_set, batch_size=batch_size, shuffle=False)\n",
    "\n",
    "with torch.no_grad():\n",
    "    for i, data in enumerate(val_loader):\n",
    "        pred_class, val_pred = model(data[0].cuda())\n",
    "\n",
    "        for j in range(batch_size):\n",
    "            L = data[0][j].cpu().numpy().transpose(1, 2, 0)\n",
    "            predAB = val_pred[j].cpu().numpy().transpose(1, 2, 0)\n",
    "            fakeImg = (np.concatenate((L, predAB), axis=2) * 255).astype(np.uint8)\n",
    "            # opencv 用 datatype 判斷圖片\n",
    "            fakeImg = cv2.cvtColor(fakeImg, cv2.COLOR_LAB2BGR) \n",
    "            #print(realImg)\n",
    "            #plt.imshow(realImg)\n",
    "            #plt.show()\n",
    "            cv2.imwrite(localPath + str(indexCount + 1) + \".png\"  , fakeImg)\n",
    "            indexCount += 1"
   ]
  },
  {
   "cell_type": "code",
   "execution_count": 10,
   "metadata": {},
   "outputs": [
    {
     "ename": "IndexError",
     "evalue": "index 8 is out of bounds for dimension 0 with size 8",
     "output_type": "error",
     "traceback": [
      "\u001b[1;31m---------------------------------------------------------------------------\u001b[0m",
      "\u001b[1;31mIndexError\u001b[0m                                Traceback (most recent call last)",
      "\u001b[1;32m<ipython-input-10-c33598dd06a8>\u001b[0m in \u001b[0;36m<module>\u001b[1;34m\u001b[0m\n\u001b[0;32m     41\u001b[0m \u001b[1;33m\u001b[0m\u001b[0m\n\u001b[0;32m     42\u001b[0m         \u001b[1;32mfor\u001b[0m \u001b[0mj\u001b[0m \u001b[1;32min\u001b[0m \u001b[0mrange\u001b[0m\u001b[1;33m(\u001b[0m\u001b[0mbatch_size\u001b[0m\u001b[1;33m)\u001b[0m\u001b[1;33m:\u001b[0m\u001b[1;33m\u001b[0m\u001b[1;33m\u001b[0m\u001b[0m\n\u001b[1;32m---> 43\u001b[1;33m             \u001b[0mL\u001b[0m \u001b[1;33m=\u001b[0m \u001b[0mdata\u001b[0m\u001b[1;33m[\u001b[0m\u001b[1;36m0\u001b[0m\u001b[1;33m]\u001b[0m\u001b[1;33m[\u001b[0m\u001b[0mj\u001b[0m\u001b[1;33m]\u001b[0m\u001b[1;33m.\u001b[0m\u001b[0mcpu\u001b[0m\u001b[1;33m(\u001b[0m\u001b[1;33m)\u001b[0m\u001b[1;33m.\u001b[0m\u001b[0mnumpy\u001b[0m\u001b[1;33m(\u001b[0m\u001b[1;33m)\u001b[0m\u001b[1;33m.\u001b[0m\u001b[0mtranspose\u001b[0m\u001b[1;33m(\u001b[0m\u001b[1;36m1\u001b[0m\u001b[1;33m,\u001b[0m \u001b[1;36m2\u001b[0m\u001b[1;33m,\u001b[0m \u001b[1;36m0\u001b[0m\u001b[1;33m)\u001b[0m\u001b[1;33m\u001b[0m\u001b[1;33m\u001b[0m\u001b[0m\n\u001b[0m\u001b[0;32m     44\u001b[0m             \u001b[0mpredAB\u001b[0m \u001b[1;33m=\u001b[0m \u001b[0mval_pred\u001b[0m\u001b[1;33m[\u001b[0m\u001b[0mj\u001b[0m\u001b[1;33m]\u001b[0m\u001b[1;33m.\u001b[0m\u001b[0mcpu\u001b[0m\u001b[1;33m(\u001b[0m\u001b[1;33m)\u001b[0m\u001b[1;33m.\u001b[0m\u001b[0mnumpy\u001b[0m\u001b[1;33m(\u001b[0m\u001b[1;33m)\u001b[0m\u001b[1;33m.\u001b[0m\u001b[0mtranspose\u001b[0m\u001b[1;33m(\u001b[0m\u001b[1;36m1\u001b[0m\u001b[1;33m,\u001b[0m \u001b[1;36m2\u001b[0m\u001b[1;33m,\u001b[0m \u001b[1;36m0\u001b[0m\u001b[1;33m)\u001b[0m\u001b[1;33m\u001b[0m\u001b[1;33m\u001b[0m\u001b[0m\n\u001b[0;32m     45\u001b[0m             \u001b[0mfakeImg\u001b[0m \u001b[1;33m=\u001b[0m \u001b[1;33m(\u001b[0m\u001b[0mnp\u001b[0m\u001b[1;33m.\u001b[0m\u001b[0mconcatenate\u001b[0m\u001b[1;33m(\u001b[0m\u001b[1;33m(\u001b[0m\u001b[0mL\u001b[0m\u001b[1;33m,\u001b[0m \u001b[0mpredAB\u001b[0m\u001b[1;33m)\u001b[0m\u001b[1;33m,\u001b[0m \u001b[0maxis\u001b[0m\u001b[1;33m=\u001b[0m\u001b[1;36m2\u001b[0m\u001b[1;33m)\u001b[0m \u001b[1;33m*\u001b[0m \u001b[1;36m255\u001b[0m\u001b[1;33m)\u001b[0m\u001b[1;33m.\u001b[0m\u001b[0mastype\u001b[0m\u001b[1;33m(\u001b[0m\u001b[0mnp\u001b[0m\u001b[1;33m.\u001b[0m\u001b[0muint8\u001b[0m\u001b[1;33m)\u001b[0m\u001b[1;33m\u001b[0m\u001b[1;33m\u001b[0m\u001b[0m\n",
      "\u001b[1;31mIndexError\u001b[0m: index 8 is out of bounds for dimension 0 with size 8"
     ]
    }
   ],
   "source": [
    "\"\"\"\n",
    "    test\n",
    "\"\"\"\n",
    "#model.load_state_dict(torch.load(\"./stage3/5_stage3_model\"))\n",
    "model.load_state_dict(torch.load(\"./stage1/37_model\"))\n",
    "\n",
    "model.eval() #model 變成測試模式\n",
    "#localPath = \"./test/\"\n",
    "localPath = \"./test2/\"\n",
    "indexCount = 0\n",
    "batch_size = 16\n",
    "\n",
    "class valDataset(Dataset):\n",
    "    def __init__(self, x, y=None, transform=None):\n",
    "        self.x = x\n",
    "        # label is required to be a LongTensor\n",
    "        self.y = y\n",
    "\n",
    "        self.transform = transform\n",
    "    def __len__(self):\n",
    "        return len(self.x)\n",
    "    def __getitem__(self, index):\n",
    "        X = self.x[index]\n",
    "        Y = self.y[index]\n",
    "        if self.transform is not None:\n",
    "            X = self.transform(X)\n",
    "            Y = self.transform(Y)\n",
    "        return X, Y\n",
    "\n",
    "val_transform = transforms.Compose([\n",
    "    transforms.ToPILImage(),\n",
    "    transforms.ToTensor(),\n",
    "])\n",
    "\n",
    "val_set = valDataset( test_x ,  test_y , val_transform)\n",
    "val_loader = DataLoader(val_set, batch_size=batch_size, shuffle=False)\n",
    "\n",
    "with torch.no_grad():\n",
    "    for i, data in enumerate(val_loader):\n",
    "        pred_class, val_pred = model(data[0].cuda())\n",
    "\n",
    "        for j in range(batch_size):\n",
    "            L = data[0][j].cpu().numpy().transpose(1, 2, 0)\n",
    "            predAB = val_pred[j].cpu().numpy().transpose(1, 2, 0)\n",
    "            fakeImg = (np.concatenate((L, predAB), axis=2) * 255).astype(np.uint8)\n",
    "            # opencv 用 datatype 判斷圖片\n",
    "            fakeImg = cv2.cvtColor(fakeImg, cv2.COLOR_LAB2BGR) \n",
    "            #print(realImg)\n",
    "            #plt.imshow(realImg)\n",
    "            #plt.show()\n",
    "            cv2.imwrite(localPath + str(indexCount + 1) + \".png\"  , fakeImg)\n",
    "            indexCount += 1"
   ]
  },
  {
   "cell_type": "code",
   "execution_count": 12,
   "metadata": {},
   "outputs": [],
   "source": [
    "\"\"\"\n",
    "    Final Result\n",
    "\"\"\"\n",
    "def readPredResult(path, imgRow=256, imgCol=256):\n",
    "    # label 是 csv file 在 ./ 下的名稱，有提供則回傳 y\n",
    "    image_dir = sorted(os.listdir(path), key=lambda x:int(x[:-4]))\n",
    "    #print(image_dir[:20])\n",
    "    i = 0\n",
    "    predResult = np.zeros((len(image_dir), imgRow, imgCol, 3), dtype=np.uint8)\n",
    "    \n",
    "    for file in tqdm(image_dir):\n",
    "        img = cv2.imread(os.path.join(path, file))\n",
    "        predResult[i, :, :, :] = img\n",
    "        i += 1\n",
    "            \n",
    "    return predResult\n"
   ]
  },
  {
   "cell_type": "code",
   "execution_count": 71,
   "metadata": {},
   "outputs": [
    {
     "name": "stderr",
     "output_type": "stream",
     "text": [
      "  1%|█                                                                              | 65/5000 [00:00<00:07, 643.42it/s]"
     ]
    },
    {
     "name": "stdout",
     "output_type": "stream",
     "text": [
      "read pred img\n"
     ]
    },
    {
     "name": "stderr",
     "output_type": "stream",
     "text": [
      "100%|█████████████████████████████████████████████████████████████████████████████| 5000/5000 [00:07<00:00, 642.86it/s]\n",
      "  2%|█▏                                                                             | 75/5000 [00:00<00:13, 369.47it/s]"
     ]
    },
    {
     "name": "stdout",
     "output_type": "stream",
     "text": [
      "caculate PSNR\n"
     ]
    },
    {
     "name": "stderr",
     "output_type": "stream",
     "text": [
      "100%|█████████████████████████████████████████████████████████████████████████████| 5000/5000 [00:12<00:00, 410.28it/s]"
     ]
    },
    {
     "name": "stdout",
     "output_type": "stream",
     "text": [
      "23.3524349006072\n"
     ]
    },
    {
     "name": "stderr",
     "output_type": "stream",
     "text": [
      "\n"
     ]
    }
   ],
   "source": [
    "# calculate psnr\n",
    "# https://en.wikipedia.org/wiki/Peak_signal-to-noise_ratio\n",
    "fakeImgPath = \"./result/\"\n",
    "print(\"read pred img\")\n",
    "fakeImgs = readPredResult(path=fakeImgPath, imgRow=val_x[0].shape[0], imgCol=val_x[0].shape[1])\n",
    "\n",
    "print(\"caculate PSNR\")\n",
    "resultPsnr = 0.\n",
    "length = len(val_x)\n",
    "for i in tqdm( range(length) ):\n",
    "    realImg = (np.concatenate((val_x[i], val_y[i]), axis=2)).astype(np.uint8)\n",
    "    realImg = cv2.cvtColor(realImg, cv2.COLOR_LAB2BGR) \n",
    "    resultPsnr += calculate_psnr_np(fakeImgs[i], realImg)\n",
    "\n",
    "print(resultPsnr / length)"
   ]
  },
  {
   "cell_type": "code",
   "execution_count": 72,
   "metadata": {},
   "outputs": [
    {
     "name": "stderr",
     "output_type": "stream",
     "text": [
      "  1%|█                                                                              | 65/5000 [00:00<00:07, 649.85it/s]"
     ]
    },
    {
     "name": "stdout",
     "output_type": "stream",
     "text": [
      "read pred img\n"
     ]
    },
    {
     "name": "stderr",
     "output_type": "stream",
     "text": [
      "100%|█████████████████████████████████████████████████████████████████████████████| 5000/5000 [00:07<00:00, 645.00it/s]\n",
      "  2%|█▏                                                                             | 76/5000 [00:00<00:13, 372.46it/s]"
     ]
    },
    {
     "name": "stdout",
     "output_type": "stream",
     "text": [
      "caculate PSNR\n"
     ]
    },
    {
     "name": "stderr",
     "output_type": "stream",
     "text": [
      "100%|█████████████████████████████████████████████████████████████████████████████| 5000/5000 [00:12<00:00, 411.73it/s]"
     ]
    },
    {
     "name": "stdout",
     "output_type": "stream",
     "text": [
      "23.993769566509407\n"
     ]
    },
    {
     "name": "stderr",
     "output_type": "stream",
     "text": [
      "\n"
     ]
    }
   ],
   "source": [
    "# calculate psnr\n",
    "# https://en.wikipedia.org/wiki/Peak_signal-to-noise_ratio\n",
    "fakeImgPath = \"./result2/\"\n",
    "print(\"read pred img\")\n",
    "fakeImgs = readPredResult(path=fakeImgPath, imgRow=val_x[0].shape[0], imgCol=val_x[0].shape[1])\n",
    "\n",
    "print(\"caculate PSNR\")\n",
    "resultPsnr = 0.\n",
    "length = len(val_x)\n",
    "for i in tqdm( range(length) ):\n",
    "    realImg = (np.concatenate((val_x[i], val_y[i]), axis=2)).astype(np.uint8)\n",
    "    realImg = cv2.cvtColor(realImg, cv2.COLOR_LAB2BGR) \n",
    "    resultPsnr += calculate_psnr_np(fakeImgs[i], realImg)\n",
    "\n",
    "print(resultPsnr / length)"
   ]
  },
  {
   "cell_type": "code",
   "execution_count": 13,
   "metadata": {},
   "outputs": [
    {
     "name": "stderr",
     "output_type": "stream",
     "text": [
      "  1%|▊                                                                              | 50/5000 [00:00<00:10, 494.93it/s]"
     ]
    },
    {
     "name": "stdout",
     "output_type": "stream",
     "text": [
      "read pred img\n"
     ]
    },
    {
     "name": "stderr",
     "output_type": "stream",
     "text": [
      "100%|█████████████████████████████████████████████████████████████████████████████| 5000/5000 [00:10<00:00, 488.72it/s]\n",
      "  1%|▌                                                                              | 37/5000 [00:00<00:13, 366.25it/s]"
     ]
    },
    {
     "name": "stdout",
     "output_type": "stream",
     "text": [
      "caculate PSNR\n"
     ]
    },
    {
     "name": "stderr",
     "output_type": "stream",
     "text": [
      "100%|█████████████████████████████████████████████████████████████████████████████| 5000/5000 [00:12<00:00, 393.24it/s]"
     ]
    },
    {
     "name": "stdout",
     "output_type": "stream",
     "text": [
      "23.394689802933804\n"
     ]
    },
    {
     "name": "stderr",
     "output_type": "stream",
     "text": [
      "\n"
     ]
    }
   ],
   "source": [
    "# calculate psnr\n",
    "# https://en.wikipedia.org/wiki/Peak_signal-to-noise_ratio\n",
    "fakeImgPath = \"./test/\"\n",
    "print(\"read pred img\")\n",
    "fakeImgs = readPredResult(path=fakeImgPath, imgRow=val_x[0].shape[0], imgCol=val_x[0].shape[1])\n",
    "\n",
    "print(\"caculate PSNR\")\n",
    "resultPsnr = 0.\n",
    "length = len(val_x)\n",
    "for i in tqdm( range(length) ):\n",
    "    realImg = (np.concatenate((test_x[i], test_y[i]), axis=2)).astype(np.uint8)\n",
    "    realImg = cv2.cvtColor(realImg, cv2.COLOR_LAB2BGR) \n",
    "    resultPsnr += calculate_psnr_np(fakeImgs[i], realImg)\n",
    "\n",
    "print(resultPsnr / length)"
   ]
  },
  {
   "cell_type": "code",
   "execution_count": 14,
   "metadata": {},
   "outputs": [
    {
     "name": "stderr",
     "output_type": "stream",
     "text": [
      "  1%|▊                                                                              | 52/5000 [00:00<00:09, 514.73it/s]"
     ]
    },
    {
     "name": "stdout",
     "output_type": "stream",
     "text": [
      "read pred img\n"
     ]
    },
    {
     "name": "stderr",
     "output_type": "stream",
     "text": [
      "100%|█████████████████████████████████████████████████████████████████████████████| 5000/5000 [00:09<00:00, 516.09it/s]\n",
      "  1%|█▏                                                                             | 72/5000 [00:00<00:13, 359.58it/s]"
     ]
    },
    {
     "name": "stdout",
     "output_type": "stream",
     "text": [
      "caculate PSNR\n"
     ]
    },
    {
     "name": "stderr",
     "output_type": "stream",
     "text": [
      "100%|█████████████████████████████████████████████████████████████████████████████| 5000/5000 [00:12<00:00, 399.77it/s]"
     ]
    },
    {
     "name": "stdout",
     "output_type": "stream",
     "text": [
      "24.061195239111793\n"
     ]
    },
    {
     "name": "stderr",
     "output_type": "stream",
     "text": [
      "\n"
     ]
    }
   ],
   "source": [
    "# calculate psnr\n",
    "# https://en.wikipedia.org/wiki/Peak_signal-to-noise_ratio\n",
    "fakeImgPath = \"./test2/\"\n",
    "print(\"read pred img\")\n",
    "fakeImgs = readPredResult(path=fakeImgPath, imgRow=val_x[0].shape[0], imgCol=val_x[0].shape[1])\n",
    "\n",
    "print(\"caculate PSNR\")\n",
    "resultPsnr = 0.\n",
    "length = len(val_x)\n",
    "for i in tqdm( range(length) ):\n",
    "    realImg = (np.concatenate((test_x[i], test_y[i]), axis=2)).astype(np.uint8)\n",
    "    realImg = cv2.cvtColor(realImg, cv2.COLOR_LAB2BGR) \n",
    "    resultPsnr += calculate_psnr_np(fakeImgs[i], realImg)\n",
    "\n",
    "print(resultPsnr / length)"
   ]
  },
  {
   "cell_type": "code",
   "execution_count": null,
   "metadata": {},
   "outputs": [],
   "source": []
  }
 ],
 "metadata": {
  "kernelspec": {
   "display_name": "Python 3",
   "language": "python",
   "name": "python3"
  },
  "language_info": {
   "codemirror_mode": {
    "name": "ipython",
    "version": 3
   },
   "file_extension": ".py",
   "mimetype": "text/x-python",
   "name": "python",
   "nbconvert_exporter": "python",
   "pygments_lexer": "ipython3",
   "version": "3.7.7"
  }
 },
 "nbformat": 4,
 "nbformat_minor": 2
}
