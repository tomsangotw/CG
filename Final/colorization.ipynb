{
 "cells": [
  {
   "cell_type": "code",
   "execution_count": 1,
   "metadata": {},
   "outputs": [],
   "source": [
    "\"\"\"\n",
    "    Import package\n",
    "\"\"\"\n",
    "import os\n",
    "import numpy as np\n",
    "import cv2\n",
    "import torch\n",
    "import torch.nn as nn\n",
    "import torchvision.transforms as transforms\n",
    "import pandas as pd\n",
    "from torch.utils.data import DataLoader, Dataset\n",
    "import time\n",
    "import pandas\n",
    "from torchsummary import summary\n",
    "import torch.nn.functional as F\n",
    "import matplotlib.pyplot as plt\n",
    "from tqdm import tqdm"
   ]
  },
  {
   "cell_type": "code",
   "execution_count": 2,
   "metadata": {},
   "outputs": [],
   "source": [
    "\"\"\"\n",
    "    Read Image\n",
    "\"\"\"\n",
    "def readfile(path, label=None, imgRow=256, imgCol=256, datasize=10000):\n",
    "    # label 是 csv file 在 ./ 下的名稱，有提供則回傳 y\n",
    "    image_dir = sorted(os.listdir(path))\n",
    "    i = 0\n",
    "    count = 0\n",
    "    eachFolder = datasize // 1000 #so each folder 10 or 100 images\n",
    "    x = np.zeros((datasize, imgRow, imgCol, 1), dtype=np.uint8)\n",
    "    y = np.zeros((datasize, imgRow, imgCol, 2), dtype=np.uint8)\n",
    "    \n",
    "    \n",
    "    for folders in tqdm(image_dir):\n",
    "        imgPath = os.path.join(path, folders)\n",
    "        for file in os.listdir(imgPath):\n",
    "            img = cv2.imread(os.path.join(imgPath, file))\n",
    "            #plt.imshow(img)\n",
    "            #plt.show()\n",
    "            #return\n",
    "            \n",
    "            # 0≤L≤100 , −127≤a≤127, −127≤b≤127\n",
    "            # 8-bit images: L←L∗255/100,a←a+128,b←b+128\n",
    "            img = cv2.resize(img,(imgCol, imgRow))\n",
    "            lab_image = cv2.cvtColor(img, cv2.COLOR_BGR2LAB) \n",
    "            l_channel, a_channel, b_channel = cv2.split(lab_image)\n",
    "            x[i, :, :, 0] = l_channel # (x, y)\n",
    "            y[i, :, :, 0] = a_channel\n",
    "            y[i, :, :, 1] = b_channel\n",
    "            i += 1\n",
    "            count += 1\n",
    "            if(count == eachFolder):\n",
    "                count = 0\n",
    "                break\n",
    "    return x, y\n",
    "    \n",
    "def valAndTest(path, label=None, imgRow=256, imgCol=256, datasize=2000):\n",
    "    # label 是 csv file 在 ./ 下的名稱，有提供則回傳 y\n",
    "    image_dir = sorted(os.listdir(path))\n",
    "    i = 0\n",
    "    j = 0\n",
    "    count = 0\n",
    "    eachFolder = datasize // 1000 #so each folder 10 or 100 images\n",
    "    xVal = np.zeros((datasize, imgRow, imgCol, 1), dtype=np.uint8)\n",
    "    yVal = np.zeros((datasize, imgRow, imgCol, 2), dtype=np.uint8)\n",
    "    xTest= np.zeros((datasize, imgRow, imgCol, 1), dtype=np.uint8)\n",
    "    yTest= np.zeros((datasize, imgRow, imgCol, 2), dtype=np.uint8)\n",
    "    \n",
    "    for file in image_dir:\n",
    "        img = cv2.imread(os.path.join(path, file))\n",
    "        img = cv2.resize(img,(imgCol, imgRow))\n",
    "        lab_image = cv2.cvtColor(img, cv2.COLOR_BGR2LAB) \n",
    "        l_channel, a_channel, b_channel = cv2.split(lab_image)\n",
    "        \n",
    "        if(count < datasize): # val\n",
    "            xVal[i, :, :, 0]    = l_channel\n",
    "            yVal[i, :, :, 0] = a_channel\n",
    "            yVal[i, :, :, 1] = b_channel\n",
    "            i += 1\n",
    "        else: # test\n",
    "            xTest[j, :, :, 0]    = l_channel\n",
    "            yTest[j, :, :, 0] = a_channel\n",
    "            yTest[j, :, :, 1] = b_channel\n",
    "            j += 1\n",
    "        count += 1\n",
    "        \n",
    "        if(count == datasize*2):\n",
    "            break\n",
    "    \n",
    "            \n",
    "    return xVal, yVal, xTest, yTest\n"
   ]
  },
  {
   "cell_type": "code",
   "execution_count": 3,
   "metadata": {},
   "outputs": [
    {
     "name": "stderr",
     "output_type": "stream",
     "text": [
      "\r",
      "  0%|                                                                                         | 0/1000 [00:00<?, ?it/s]"
     ]
    },
    {
     "name": "stdout",
     "output_type": "stream",
     "text": [
      "Reading data\n"
     ]
    },
    {
     "name": "stderr",
     "output_type": "stream",
     "text": [
      "100%|██████████████████████████████████████████████████████████████████████████████| 1000/1000 [09:51<00:00,  1.69it/s]\n"
     ]
    },
    {
     "name": "stdout",
     "output_type": "stream",
     "text": [
      "Size of training data = 100000\n",
      "Size of validation data = 5000\n",
      "Size of testing data = 5000\n"
     ]
    }
   ],
   "source": [
    "\n",
    "#分別將 training set、validation set、testing set 用 readfile 函式讀進來\n",
    "workspace_dir = r\"C:\\Users\\USER\\Desktop\\VScode\\ILSVRC\\Data\\CLS-LOC\"\n",
    "print(\"Reading data\")\n",
    "train_x, train_y = readfile(os.path.join(workspace_dir, \"train\"), \"train\", imgRow=256, imgCol=256, datasize=100000)\n",
    "print(\"Size of training data = {}\".format(len(train_x)))"
   ]
  },
  {
   "cell_type": "code",
   "execution_count": null,
   "metadata": {},
   "outputs": [],
   "source": [
    "L = train_x[101]\n",
    "realAB = train_y[101]\n",
    "realImg = (np.concatenate((L, realAB), axis=2)).astype(np.uint8)\n",
    "# opencv 用 datatype 判斷圖片\n",
    "realImg = cv2.cvtColor(realImg, cv2.COLOR_LAB2RGB)\n",
    "plt.imshow(realImg)\n",
    "plt.show()\n",
    "\n",
    "L = train_x[99000]\n",
    "realAB = train_y[99000]\n",
    "realImg = (np.concatenate((L, realAB), axis=2)).astype(np.uint8)\n",
    "# opencv 用 datatype 判斷圖片\n",
    "realImg = cv2.cvtColor(realImg, cv2.COLOR_LAB2RGB)\n",
    "plt.imshow(realImg)\n",
    "plt.show()"
   ]
  },
  {
   "cell_type": "code",
   "execution_count": 3,
   "metadata": {},
   "outputs": [
    {
     "name": "stdout",
     "output_type": "stream",
     "text": [
      "Size of validation data = 5000\n",
      "Size of testing data = 5000\n"
     ]
    }
   ],
   "source": [
    "workspace_dir = r\"C:\\Users\\USER\\Desktop\\VScode\\ILSVRC\\Data\\CLS-LOC\"\n",
    "val_x, val_y, test_x, test_y = valAndTest(os.path.join(workspace_dir, \"val\"), \"dev\", imgRow=256, imgCol=256, datasize=5000)\n",
    "print(\"Size of validation data = {}\".format(len(val_x)))\n",
    "print(\"Size of testing data = {}\".format(len(test_x)))"
   ]
  },
  {
   "cell_type": "code",
   "execution_count": 4,
   "metadata": {},
   "outputs": [
    {
     "data": {
      "image/png": "[encoded data removed]",
      "text/plain": [
       "<Figure size 432x288 with 1 Axes>"
      ]
     },
     "metadata": {
      "needs_background": "light"
     },
     "output_type": "display_data"
    },
    {
     "data": {
      "image/png": "[encoded data removed]",
      "text/plain": [
       "<Figure size 432x288 with 1 Axes>"
      ]
     },
     "metadata": {
      "needs_background": "light"
     },
     "output_type": "display_data"
    }
   ],
   "source": [
    "L = val_x[4999]\n",
    "realAB = val_y[4999]\n",
    "realImg = (np.concatenate((L, realAB), axis=2)).astype(np.uint8)\n",
    "# opencv 用 datatype 判斷圖片\n",
    "realImg = cv2.cvtColor(realImg, cv2.COLOR_LAB2RGB)\n",
    "plt.imshow(realImg)\n",
    "plt.show()\n",
    "\n",
    "L = test_x[4999]\n",
    "realAB = test_y[4999]\n",
    "realImg = (np.concatenate((L, realAB), axis=2)).astype(np.uint8)\n",
    "# opencv 用 datatype 判斷圖片\n",
    "realImg = cv2.cvtColor(realImg, cv2.COLOR_LAB2RGB)\n",
    "plt.imshow(realImg)\n",
    "plt.show()"
   ]
  },
  {
   "cell_type": "code",
   "execution_count": 6,
   "metadata": {},
   "outputs": [
    {
     "data": {
      "text/plain": [
       "'\\ntrain_transform = transforms.Compose([\\n    transforms.ToPILImage(),\\n    transforms.RandomChoice([transforms.RandomResizedCrop(fineSize, interpolation=1),\\n                            transforms.RandomResizedCrop(fineSize, interpolation=2),\\n                            transforms.RandomResizedCrop(fineSize, interpolation=3)]),\\n    transforms.RandomHorizontalFlip(), #隨機將圖片水平翻轉\\n    transforms.RandomVerticalFlip(), #隨機將圖片垂直翻轉\\n    transforms.ToTensor(), #將圖片轉成 Tensor，並把數值normalize到[0,1](data normalization)\\n])\\n#testing & val 時不需做 data augmentation\\nval_transform = transforms.Compose([\\n    transforms.ToPILImage(),\\n    transforms.RandomChoice([transforms.RandomResizedCrop(fineSize, interpolation=1),\\n                            transforms.RandomResizedCrop(fineSize, interpolation=2),\\n                            transforms.RandomResizedCrop(fineSize, interpolation=3)]),\\n    transforms.ToTensor(),\\n])\\n'"
      ]
     },
     "execution_count": 6,
     "metadata": {},
     "output_type": "execute_result"
    }
   ],
   "source": [
    "import torchvision.transforms.functional as TF\n",
    "import random\n",
    "\n",
    "fineSize = 176 # 因為 /4 = 44\n",
    "\n",
    "class ImgDataset(Dataset):\n",
    "    def __init__(self, x, y):\n",
    "        self.x = x\n",
    "        self.y = y\n",
    "    \n",
    "    def transform(self, image, mask):\n",
    "        #transforms.ToPILImage(),\n",
    "        toPIL = transforms.ToPILImage()\n",
    "        image = toPIL(image)\n",
    "        mask = toPIL(mask)\n",
    "\n",
    "        # Random crop\n",
    "        i, j, h, w = transforms.RandomCrop.get_params(\n",
    "            image, output_size=(fineSize, fineSize))\n",
    "        image = TF.crop(image, i, j, h, w)\n",
    "        mask = TF.crop(mask, i, j, h, w)\n",
    "\n",
    "        # Random horizontal flipping\n",
    "        if random.random() > 0.5:\n",
    "            image = TF.hflip(image)\n",
    "            mask = TF.hflip(mask)\n",
    "\n",
    "        # Random vertical flipping\n",
    "        if random.random() > 0.5:\n",
    "            image = TF.vflip(image)\n",
    "            mask = TF.vflip(mask)\n",
    "\n",
    "        # Transform to tensor\n",
    "        image = TF.to_tensor(image)\n",
    "        mask = TF.to_tensor(mask)\n",
    "        return image, mask\n",
    "    \n",
    "    def __len__(self):\n",
    "        return len(self.x)\n",
    "    \n",
    "    def __getitem__(self, index):\n",
    "        X, Y = self.transform(self.x[index], self.y[index])\n",
    "        return X, Y\n",
    "\n",
    "\"\"\"\n",
    "train_transform = transforms.Compose([\n",
    "    transforms.ToPILImage(),\n",
    "    transforms.RandomChoice([transforms.RandomResizedCrop(fineSize, interpolation=1),\n",
    "                            transforms.RandomResizedCrop(fineSize, interpolation=2),\n",
    "                            transforms.RandomResizedCrop(fineSize, interpolation=3)]),\n",
    "    transforms.RandomHorizontalFlip(), #隨機將圖片水平翻轉\n",
    "    transforms.RandomVerticalFlip(), #隨機將圖片垂直翻轉\n",
    "    transforms.ToTensor(), #將圖片轉成 Tensor，並把數值normalize到[0,1](data normalization)\n",
    "])\n",
    "#testing & val 時不需做 data augmentation\n",
    "val_transform = transforms.Compose([\n",
    "    transforms.ToPILImage(),\n",
    "    transforms.RandomChoice([transforms.RandomResizedCrop(fineSize, interpolation=1),\n",
    "                            transforms.RandomResizedCrop(fineSize, interpolation=2),\n",
    "                            transforms.RandomResizedCrop(fineSize, interpolation=3)]),\n",
    "    transforms.ToTensor(),\n",
    "])\n",
    "\"\"\"\n",
    "#會有 X 與 Y transform 不一致的問題\n",
    "#https://discuss.pytorch.org/t/torchvision-transfors-how-to-perform-identical-transform-on-both-image-and-target/10606/6"
   ]
  },
  {
   "cell_type": "code",
   "execution_count": 7,
   "metadata": {},
   "outputs": [],
   "source": [
    "train_set = ImgDataset(train_x, train_y)\n",
    "val_set = ImgDataset(val_x, val_y)\n",
    "\n",
    "batch_size = 24\n",
    "train_loader = DataLoader(train_set, batch_size=batch_size, shuffle=True)\n",
    "#num_workers= ? #如果 load data 特別處理，可能有 preprocessing。幫助平行化\n",
    "val_loader = DataLoader(val_set, batch_size=batch_size, shuffle=False) #windows 只能 run 0\n",
    "#https://github.com/pytorch/pytorch/issues/2341"
   ]
  },
  {
   "cell_type": "code",
   "execution_count": 5,
   "metadata": {},
   "outputs": [],
   "source": [
    "\"\"\"\n",
    "    Model\n",
    "\"\"\"\n",
    "# input 維度 [3, 176, 176]\n",
    "# nn.Conv2d(in_channels, out_channels, kernel_size, stride=1, padding=0, dilation=1, groups=1, bias=True, padding_mode='zeros')\n",
    "# nn.MaxPool2d(kernel_size, stride, padding)\n",
    "# nn.ReLU(inplace=False) #true 可以些微降低記憶體使用量 (如果不會造成問題的話)\n",
    "# nn.LeakyReLU\n",
    "# nn.ConvTranspose2d(in_channels, out_channels, kernel_size, stride=1, padding=0, output_padding=0, groups=1, bias=True, dilation=1, padding_mode='zeros')\n",
    "# nn.BatchNorm2d(channels)\n",
    "# nn.functional.interpolate(input, size=None, scale_factor=None, mode='nearest', align_corners=None, recompute_scale_factor=None)\n",
    "\n",
    "# Resnet, ResNeXt\n",
    "#https://github.com/pytorch/vision/blob/master/torchvision/models/resnet.py\n",
    "def conv3x3(in_planes, out_planes, stride=1, groups=1, dilation=1):\n",
    "    \"\"\"3x3 convolution with padding\"\"\"\n",
    "    return nn.Conv2d(in_planes, out_planes, kernel_size=3, stride=stride,\n",
    "                     padding=dilation, groups=groups, bias=True, dilation=dilation)\n",
    "    #In a large model, removing the bias inputs makes very little difference \n",
    "    #https://stackoverflow.com/questions/51959507/does-bias-in-the-convolutional-layer-really-make-a-difference-to-the-test-accura\n",
    "\n",
    "\n",
    "def conv1x1(in_planes, out_planes, stride=1):\n",
    "    \"\"\"1x1 convolution\"\"\"\n",
    "    return nn.Conv2d(in_planes, out_planes, kernel_size=1, stride=stride, bias=True)\n",
    "    \n",
    "    \n",
    "  \n",
    "\"\"\"\n",
    "    (0): BasicBlock(\n",
    "      (conv1): Conv2d(64, 64, kernel_size=(3, 3), stride=(1, 1), padding=(1, 1), bias=False)\n",
    "      (bn1): BatchNorm2d(64, eps=1e-05, momentum=0.1, affine=True, track_running_stats=True)\n",
    "      (relu): ReLU(inplace=True)\n",
    "      (conv2): Conv2d(64, 64, kernel_size=(3, 3), stride=(1, 1), padding=(1, 1), bias=False)\n",
    "      (bn2): BatchNorm2d(64, eps=1e-05, momentum=0.1, affine=True, track_running_stats=True)\n",
    "    )\n",
    "    ...\n",
    "    之後需要增加 channel 的時候再對 input 做 1x1 conv \n",
    "    (0): BasicBlock(\n",
    "      (conv1): Conv2d(64, 128, kernel_size=(3, 3), stride=(2, 2), padding=(1, 1), bias=False)\n",
    "      (bn1): BatchNorm2d(128, eps=1e-05, momentum=0.1, affine=True, track_running_stats=True)\n",
    "      (relu): ReLU(inplace=True)\n",
    "      (conv2): Conv2d(128, 128, kernel_size=(3, 3), stride=(1, 1), padding=(1, 1), bias=False)\n",
    "      (bn2): BatchNorm2d(128, eps=1e-05, momentum=0.1, affine=True, track_running_stats=True)\n",
    "      (downsample): Sequential(\n",
    "        (0): Conv2d(64, 128, kernel_size=(1, 1), stride=(2, 2), bias=False)\n",
    "        (1): BatchNorm2d(128, eps=1e-05, momentum=0.1, affine=True, track_running_stats=True)\n",
    "      )\n",
    "    )\n",
    "\"\"\"\n",
    "# pre-activation (resnet v2)\n",
    "# ResnetBlock(64, 128, downsample=True) -> 128\n",
    "# ResnetBlock(128, 128, isThree=True) -> 128\n",
    "class ResnetBlock(nn.Module):\n",
    "    expansion = 1\n",
    "\n",
    "    def __init__(self, inplanes, planes, stride=1, norm_layer=None, downsample=False, isThree=False):\n",
    "        super(ResnetBlock, self).__init__()\n",
    "        if norm_layer is None:\n",
    "            norm_layer = nn.BatchNorm2d\n",
    "            \n",
    "        self.bn1 = norm_layer(inplanes) #64\n",
    "        self.conv1 = conv3x3(inplanes, planes, stride) #64 -> 128\n",
    "        self.bn2 = norm_layer(planes)\n",
    "        self.conv2 = conv3x3(planes, planes) #128 -> 128\n",
    "        self.bn3 = norm_layer(planes)\n",
    "        self.conv3 = conv3x3(planes, planes)\n",
    "        self.relu = nn.ReLU(inplace=True)\n",
    "        self.down = conv1x1(inplanes, planes) #64->128\n",
    "        \n",
    "        self.downsample = downsample\n",
    "        self.isThree = isThree\n",
    "        self.stride = stride\n",
    "\n",
    "    def forward(self, x):\n",
    "        identity = x\n",
    "\n",
    "        out = self.bn1(x)\n",
    "        out = self.relu(out)\n",
    "        out = self.conv1(out)\n",
    "\n",
    "        out = self.bn2(out)\n",
    "        out = self.relu(out)\n",
    "        out = self.conv2(out)\n",
    "        \n",
    "        if(self.isThree):\n",
    "            out = self.bn3(out)\n",
    "            out = self.relu(out)\n",
    "            out = self.conv3(out)\n",
    "        \n",
    "        if self.downsample:\n",
    "            identity = self.down(x)\n",
    "\n",
    "        out += identity\n",
    "\n",
    "        return out\n",
    "\n",
    "\"\"\"\n",
    "(0)Bottleneck(\n",
    "    (conv1): Conv2d(64, 128, kernel_size=(1, 1), stride=(1, 1), bias=False)\n",
    "    (bn1): BatchNorm2d(128, eps=1e-05, momentum=0.1, affine=True, track_running_stats=True)\n",
    "    (conv2): Conv2d(128, 128, kernel_size=(3, 3), stride=(1, 1), padding=(1, 1), groups=32, bias=False)\n",
    "    (bn2): BatchNorm2d(128, eps=1e-05, momentum=0.1, affine=True, track_running_stats=True)\n",
    "    (conv3): Conv2d(128, 256, kernel_size=(1, 1), stride=(1, 1), bias=False)\n",
    "    (bn3): BatchNorm2d(256, eps=1e-05, momentum=0.1, affine=True, track_running_stats=True)\n",
    "    (relu): ReLU(inplace=True)\n",
    "    (downsample): Sequential(\n",
    "        (0): Conv2d(64, 256, kernel_size=(1, 1), stride=(1, 1), bias=False)\n",
    "        (1): BatchNorm2d(256, eps=1e-05, momentum=0.1, affine=True, track_running_stats=True)\n",
    "    )\n",
    ")\n",
    "之後正常\n",
    "(1): Bottleneck(\n",
    "    (conv1): Conv2d(256, 128, kernel_size=(1, 1), stride=(1, 1), bias=False)\n",
    "    (bn1): BatchNorm2d(128, eps=1e-05, momentum=0.1, affine=True, track_running_stats=True)\n",
    "    (conv2): Conv2d(128, 128, kernel_size=(3, 3), stride=(1, 1), padding=(1, 1), groups=32, bias=False)\n",
    "    (bn2): BatchNorm2d(128, eps=1e-05, momentum=0.1, affine=True, track_running_stats=True)\n",
    "    (conv3): Conv2d(128, 256, kernel_size=(1, 1), stride=(1, 1), bias=False)\n",
    "    (bn3): BatchNorm2d(256, eps=1e-05, momentum=0.1, affine=True, track_running_stats=True)\n",
    "    (relu): ReLU(inplace=True)\n",
    ")\n",
    "\n",
    "\"\"\"\n",
    "#ResNextBlock(64, 64, downsample=True) -> 128\n",
    "#ResNextBlock(128, 64) -> 128\n",
    "\n",
    "class ResNextBlock(nn.Module):\n",
    "    expansion = 4\n",
    "\n",
    "    def __init__(self, inplanes, planes, stride=1, groups=32, dilation=1, norm_layer=None, downsample=False):\n",
    "        super(ResNextBlock, self).__init__()\n",
    "        if norm_layer is None:\n",
    "            norm_layer = nn.BatchNorm2d\n",
    "        width = planes\n",
    "        # Both self.conv2 and self.downsample layers downsample the input when stride != 1\n",
    "        self.conv1 = conv1x1(inplanes, width) #64->64\n",
    "        self.bn1 = norm_layer(width)\n",
    "        self.conv2 = conv3x3(width, width, stride, groups, dilation) #64->64\n",
    "        self.bn2 = norm_layer(width)\n",
    "        self.conv3 = conv1x1(width, width * 2) #64->128\n",
    "        self.bn3 = norm_layer(width * 2)\n",
    "        self.relu = nn.ReLU(inplace=True)\n",
    "        self.down = conv1x1(inplanes, width * 2) #64->128\n",
    "        \n",
    "        self.downsample = downsample\n",
    "        self.stride = stride\n",
    "\n",
    "    def forward(self, x):\n",
    "        identity = x\n",
    "\n",
    "        out = self.conv1(x)\n",
    "        out = self.bn1(out)\n",
    "        out = self.relu(out)\n",
    "\n",
    "        out = self.conv2(out)\n",
    "        out = self.bn2(out)\n",
    "        out = self.relu(out)\n",
    "\n",
    "        out = self.conv3(out)\n",
    "        out = self.bn3(out)\n",
    "        \n",
    "        if self.downsample:\n",
    "            identity = self.down(x)\n",
    "\n",
    "        out += identity\n",
    "        out = self.relu(out)\n",
    "\n",
    "        return out\n",
    "    \n"
   ]
  },
  {
   "cell_type": "code",
   "execution_count": 6,
   "metadata": {},
   "outputs": [],
   "source": [
    "class resUnet(nn.Module):\n",
    "    def __init__(self, in_channels, out_channels, classification=True):\n",
    "        super(resUnet, self).__init__()\n",
    "        self.classification = classification\n",
    "        \n",
    "        self.conv1 = nn.Sequential(\n",
    "            conv3x3(in_channels, 64), # 4 -> raw 1 channel + rgb userinput 3 channels\n",
    "            nn.BatchNorm2d(64),\n",
    "            nn.ReLU(inplace=True),\n",
    "            conv3x3(64, 64),\n",
    "        )\n",
    "        \n",
    "        #downsampling\n",
    "        self.conv2 = ResnetBlock(64, 128, downsample=True)\n",
    "        \n",
    "        #downsampling\n",
    "        self.conv3 = ResnetBlock(128, 256, downsample=True, isThree=True)\n",
    "        \n",
    "         #downsampling\n",
    "        self.conv4 = ResnetBlock(256, 512, downsample=True, isThree=True)\n",
    "        \n",
    "        self.conv5 = ResnetBlock(512, 512, isThree=True)\n",
    "        \n",
    "        self.conv6 = ResnetBlock(512, 512, isThree=True)\n",
    "        \n",
    "        self.conv7 = ResnetBlock(512, 512, isThree=True)\n",
    "        \n",
    "        #upsampling\n",
    "        self.up8 = nn.Sequential(\n",
    "            nn.BatchNorm2d(512),\n",
    "            nn.ReLU(inplace=True),\n",
    "            nn.ConvTranspose2d(512, 256, kernel_size=4, stride=2, padding=1, bias=True)\n",
    "        )\n",
    "        \n",
    "        self.conv3to8 = nn.Sequential(\n",
    "            nn.BatchNorm2d(256),\n",
    "            nn.ReLU(inplace=True),\n",
    "            conv3x3(256, 256)\n",
    "        )\n",
    "        self.conv8 = nn.Sequential(\n",
    "            nn.BatchNorm2d(256),\n",
    "            nn.ReLU(inplace=True),\n",
    "            conv3x3(256, 256),\n",
    "            nn.BatchNorm2d(256),\n",
    "            nn.ReLU(inplace=True),\n",
    "            conv3x3(256, 256),\n",
    "        )\n",
    "        \n",
    "        #upsampling\n",
    "        self.up9 = nn.Sequential(\n",
    "            nn.BatchNorm2d(256),\n",
    "            nn.ReLU(inplace=True),\n",
    "            nn.ConvTranspose2d(256, 128, kernel_size=4, stride=2, padding=1, bias=True)\n",
    "        )\n",
    "        \n",
    "        self.conv2to9 = nn.Sequential(\n",
    "            nn.BatchNorm2d(128),\n",
    "            nn.ReLU(inplace=True),\n",
    "            conv3x3(128, 128)\n",
    "        )\n",
    "        self.conv9 = nn.Sequential(\n",
    "            nn.BatchNorm2d(128),\n",
    "            nn.ReLU(inplace=True),\n",
    "            conv3x3(128, 128),\n",
    "        )\n",
    "        \n",
    "        #upsampling\n",
    "        self.up10 = nn.Sequential(\n",
    "            nn.BatchNorm2d(128),\n",
    "            nn.ReLU(inplace=True),\n",
    "            nn.ConvTranspose2d(128, 128, kernel_size=4, stride=2, padding=1, bias=True)\n",
    "        )\n",
    "        \n",
    "        self.conv1to10 = nn.Sequential(\n",
    "            nn.BatchNorm2d(64),\n",
    "            nn.ReLU(inplace=True),\n",
    "            conv3x3(64, 128)\n",
    "        )\n",
    "        self.conv10 = nn.Sequential(\n",
    "            nn.BatchNorm2d(128),\n",
    "            nn.ReLU(inplace=True),\n",
    "            conv3x3(128, 128),\n",
    "            nn.LeakyReLU(negative_slope=.2),\n",
    "        )\n",
    "        \n",
    "        # classification output\n",
    "        self.model_class= nn.Conv2d(256, 529, kernel_size=1, padding=0, dilation=1, stride=1, bias=True)\n",
    "        \n",
    "        # regression output\n",
    "        self.model_out = nn.Sequential(\n",
    "            nn.Conv2d(128, 2, kernel_size=1, padding=0, dilation=1, stride=1, bias=True), #128 -> 2\n",
    "            nn.Sigmoid(), # 0~1\n",
    "        )\n",
    "        \n",
    "        \n",
    "    def forward(self, x):\n",
    "        # 1, 10 not touch\n",
    "        conv1_2 = self.conv1(x)\n",
    "        conv2_2 = self.conv2(conv1_2[:,:,::2,::2])\n",
    "        conv3_3 = self.conv3(conv2_2[:,:,::2,::2])\n",
    "        \n",
    "        conv4_3 = self.conv4(conv3_3[:,:,::2,::2])\n",
    "        conv5_3 = self.conv5(conv4_3)\n",
    "        conv6_3 = self.conv6(conv5_3)\n",
    "        conv7_3 = self.conv7(conv6_3)\n",
    "        \n",
    "        #前面的都 res 了\n",
    "        conv8_up = self.up8(conv7_3) + self.conv3to8(conv3_3)\n",
    "        conv8_3 = self.conv8(conv8_up) + conv8_up\n",
    "\n",
    "        if(self.classification):\n",
    "            out_class = self.model_class(conv8_3)\n",
    "\n",
    "            conv9_up = self.up9(conv8_3.detach()) + self.conv2to9(conv2_2.detach())\n",
    "            conv9_3 = self.conv9(conv9_up) + conv9_up\n",
    "\n",
    "            conv10_up = self.up10(conv9_3) + self.conv1to10(conv1_2.detach())\n",
    "            conv10_2 = self.conv10(conv10_up)\n",
    "            out_reg = self.model_out(conv10_2)\n",
    "        else:\n",
    "            out_class = self.model_class(conv8_3.detach())\n",
    "\n",
    "            conv9_up = self.up9(conv8_3) + self.conv2to9(conv2_2)\n",
    "            conv9_3 = self.conv9(conv9_up) + conv9_up\n",
    "\n",
    "            conv10_up = self.up10(conv9_3) + self.conv1to10(conv1_2)\n",
    "            conv10_2 = self.conv10(conv10_up)\n",
    "            out_reg = self.model_out(conv10_2)\n",
    "\n",
    "        return (out_class, out_reg)"
   ]
  },
  {
   "cell_type": "code",
   "execution_count": 8,
   "metadata": {
    "scrolled": true
   },
   "outputs": [
    {
     "name": "stdout",
     "output_type": "stream",
     "text": [
      "----------------------------------------------------------------\n",
      "        Layer (type)               Output Shape         Param #\n",
      "================================================================\n",
      "            Conv2d-1         [-1, 64, 176, 176]             640\n",
      "       BatchNorm2d-2         [-1, 64, 176, 176]             128\n",
      "              ReLU-3         [-1, 64, 176, 176]               0\n",
      "            Conv2d-4         [-1, 64, 176, 176]          36,928\n",
      "       BatchNorm2d-5           [-1, 64, 88, 88]             128\n",
      "              ReLU-6           [-1, 64, 88, 88]               0\n",
      "            Conv2d-7          [-1, 128, 88, 88]          73,856\n",
      "       BatchNorm2d-8          [-1, 128, 88, 88]             256\n",
      "              ReLU-9          [-1, 128, 88, 88]               0\n",
      "           Conv2d-10          [-1, 128, 88, 88]         147,584\n",
      "           Conv2d-11          [-1, 128, 88, 88]           8,320\n",
      "      ResnetBlock-12          [-1, 128, 88, 88]               0\n",
      "      BatchNorm2d-13          [-1, 128, 44, 44]             256\n",
      "             ReLU-14          [-1, 128, 44, 44]               0\n",
      "           Conv2d-15          [-1, 256, 44, 44]         295,168\n",
      "      BatchNorm2d-16          [-1, 256, 44, 44]             512\n",
      "             ReLU-17          [-1, 256, 44, 44]               0\n",
      "           Conv2d-18          [-1, 256, 44, 44]         590,080\n",
      "      BatchNorm2d-19          [-1, 256, 44, 44]             512\n",
      "             ReLU-20          [-1, 256, 44, 44]               0\n",
      "           Conv2d-21          [-1, 256, 44, 44]         590,080\n",
      "           Conv2d-22          [-1, 256, 44, 44]          33,024\n",
      "      ResnetBlock-23          [-1, 256, 44, 44]               0\n",
      "      BatchNorm2d-24          [-1, 256, 22, 22]             512\n",
      "             ReLU-25          [-1, 256, 22, 22]               0\n",
      "           Conv2d-26          [-1, 512, 22, 22]       1,180,160\n",
      "      BatchNorm2d-27          [-1, 512, 22, 22]           1,024\n",
      "             ReLU-28          [-1, 512, 22, 22]               0\n",
      "           Conv2d-29          [-1, 512, 22, 22]       2,359,808\n",
      "      BatchNorm2d-30          [-1, 512, 22, 22]           1,024\n",
      "             ReLU-31          [-1, 512, 22, 22]               0\n",
      "           Conv2d-32          [-1, 512, 22, 22]       2,359,808\n",
      "           Conv2d-33          [-1, 512, 22, 22]         131,584\n",
      "      ResnetBlock-34          [-1, 512, 22, 22]               0\n",
      "      BatchNorm2d-35          [-1, 512, 22, 22]           1,024\n",
      "             ReLU-36          [-1, 512, 22, 22]               0\n",
      "           Conv2d-37          [-1, 512, 22, 22]       2,359,808\n",
      "      BatchNorm2d-38          [-1, 512, 22, 22]           1,024\n",
      "             ReLU-39          [-1, 512, 22, 22]               0\n",
      "           Conv2d-40          [-1, 512, 22, 22]       2,359,808\n",
      "      BatchNorm2d-41          [-1, 512, 22, 22]           1,024\n",
      "             ReLU-42          [-1, 512, 22, 22]               0\n",
      "           Conv2d-43          [-1, 512, 22, 22]       2,359,808\n",
      "      ResnetBlock-44          [-1, 512, 22, 22]               0\n",
      "      BatchNorm2d-45          [-1, 512, 22, 22]           1,024\n",
      "             ReLU-46          [-1, 512, 22, 22]               0\n",
      "           Conv2d-47          [-1, 512, 22, 22]       2,359,808\n",
      "      BatchNorm2d-48          [-1, 512, 22, 22]           1,024\n",
      "             ReLU-49          [-1, 512, 22, 22]               0\n",
      "           Conv2d-50          [-1, 512, 22, 22]       2,359,808\n",
      "      BatchNorm2d-51          [-1, 512, 22, 22]           1,024\n",
      "             ReLU-52          [-1, 512, 22, 22]               0\n",
      "           Conv2d-53          [-1, 512, 22, 22]       2,359,808\n",
      "      ResnetBlock-54          [-1, 512, 22, 22]               0\n",
      "      BatchNorm2d-55          [-1, 512, 22, 22]           1,024\n",
      "             ReLU-56          [-1, 512, 22, 22]               0\n",
      "           Conv2d-57          [-1, 512, 22, 22]       2,359,808\n",
      "      BatchNorm2d-58          [-1, 512, 22, 22]           1,024\n",
      "             ReLU-59          [-1, 512, 22, 22]               0\n",
      "           Conv2d-60          [-1, 512, 22, 22]       2,359,808\n",
      "      BatchNorm2d-61          [-1, 512, 22, 22]           1,024\n",
      "             ReLU-62          [-1, 512, 22, 22]               0\n",
      "           Conv2d-63          [-1, 512, 22, 22]       2,359,808\n",
      "      ResnetBlock-64          [-1, 512, 22, 22]               0\n",
      "      BatchNorm2d-65          [-1, 512, 22, 22]           1,024\n",
      "             ReLU-66          [-1, 512, 22, 22]               0\n",
      "  ConvTranspose2d-67          [-1, 256, 44, 44]       2,097,408\n",
      "      BatchNorm2d-68          [-1, 256, 44, 44]             512\n",
      "             ReLU-69          [-1, 256, 44, 44]               0\n",
      "           Conv2d-70          [-1, 256, 44, 44]         590,080\n",
      "      BatchNorm2d-71          [-1, 256, 44, 44]             512\n",
      "             ReLU-72          [-1, 256, 44, 44]               0\n",
      "           Conv2d-73          [-1, 256, 44, 44]         590,080\n",
      "      BatchNorm2d-74          [-1, 256, 44, 44]             512\n",
      "             ReLU-75          [-1, 256, 44, 44]               0\n",
      "           Conv2d-76          [-1, 256, 44, 44]         590,080\n",
      "           Conv2d-77          [-1, 529, 44, 44]         135,953\n",
      "      BatchNorm2d-78          [-1, 256, 44, 44]             512\n",
      "             ReLU-79          [-1, 256, 44, 44]               0\n",
      "  ConvTranspose2d-80          [-1, 128, 88, 88]         524,416\n",
      "      BatchNorm2d-81          [-1, 128, 88, 88]             256\n",
      "             ReLU-82          [-1, 128, 88, 88]               0\n",
      "           Conv2d-83          [-1, 128, 88, 88]         147,584\n",
      "      BatchNorm2d-84          [-1, 128, 88, 88]             256\n",
      "             ReLU-85          [-1, 128, 88, 88]               0\n",
      "           Conv2d-86          [-1, 128, 88, 88]         147,584\n",
      "      BatchNorm2d-87          [-1, 128, 88, 88]             256\n",
      "             ReLU-88          [-1, 128, 88, 88]               0\n",
      "  ConvTranspose2d-89        [-1, 128, 176, 176]         262,272\n",
      "      BatchNorm2d-90         [-1, 64, 176, 176]             128\n",
      "             ReLU-91         [-1, 64, 176, 176]               0\n",
      "           Conv2d-92        [-1, 128, 176, 176]          73,856\n",
      "      BatchNorm2d-93        [-1, 128, 176, 176]             256\n",
      "             ReLU-94        [-1, 128, 176, 176]               0\n",
      "           Conv2d-95        [-1, 128, 176, 176]         147,584\n",
      "        LeakyReLU-96        [-1, 128, 176, 176]               0\n",
      "           Conv2d-97          [-1, 2, 176, 176]             258\n",
      "          Sigmoid-98          [-1, 2, 176, 176]               0\n",
      "================================================================\n",
      "Total params: 34,370,259\n",
      "Trainable params: 34,370,259\n",
      "Non-trainable params: 0\n",
      "----------------------------------------------------------------\n",
      "Input size (MB): 0.12\n",
      "Forward/backward pass size (MB): 564.60\n",
      "Params size (MB): 131.11\n",
      "Estimated Total Size (MB): 695.83\n",
      "----------------------------------------------------------------\n",
      "None\n"
     ]
    }
   ],
   "source": [
    "model = resUnet(in_channels=1, out_channels=2).cuda()\n",
    "print( summary(model, (1, 176, 176)) )"
   ]
  },
  {
   "cell_type": "code",
   "execution_count": 7,
   "metadata": {},
   "outputs": [],
   "source": [
    "\"\"\"\n",
    "    Utility\n",
    "\"\"\"\n",
    "def calculate_psnr_np(img1, img2): # for uint8 image\n",
    "    SE_map = (1.*img1-img2)**2\n",
    "    cur_MSE = np.mean(SE_map)\n",
    "    return 20*np.log10(255./np.sqrt(cur_MSE))\n",
    "\n",
    "\n",
    "def calculate_psnr_torch(img1, img2):\n",
    "    SE_map = (1.*img1-img2)**2\n",
    "    cur_MSE = torch.mean(SE_map)\n",
    "    return 20*torch.log10(1./torch.sqrt(cur_MSE))\n",
    "\n",
    "# the ab space is divided into 10 × 10 bins, Q = 313\n",
    "def encode_ab_ind(data_ab, ab_norm=220, ab_quant=10):\n",
    "    # Encode ab value into an index\n",
    "    # INPUTS\n",
    "    #   data_ab   Nx2xHxW \\in [0,1]\n",
    "    # OUTPUTS\n",
    "    #   data_q    Nx1xHxW \\in [0,Q)\n",
    "    \n",
    "    #no need ab max, because origin [-1, 1] need shift to [0,~]\n",
    "    \n",
    "    #變回 -110~110 -> 0~220 -> 0~22 (共 23) 所以才有 23*23 = 529\n",
    "    #A = 2*110/10 + 1 = 23\n",
    "    \n",
    "    data_ab_rs = torch.round((data_ab*ab_norm)/ab_quant) # normalized bin number\n",
    "    #opt.A = 2 * opt.ab_max / opt.ab_quant + 1\n",
    "    data_q = data_ab_rs[:,[0],:,:]* (ab_norm / ab_quant + 1)  + data_ab_rs[:,[1],:,:]\n",
    "    return data_q\n",
    "\n",
    "\n",
    "def decode_ind_ab(data_q, opt):\n",
    "    # Decode index into ab value\n",
    "    # INPUTS\n",
    "    #   data_q      Nx1xHxW \\in [0,Q)\n",
    "    # OUTPUTS\n",
    "    #   data_ab     Nx2xHxW \\in [-1,1]\n",
    "\n",
    "    data_a = data_q/opt.A\n",
    "    data_b = data_q - data_a*opt.A\n",
    "    data_ab = torch.cat((data_a,data_b),dim=1)\n",
    "\n",
    "    if(data_q.is_cuda):\n",
    "        type_out = torch.cuda.FloatTensor\n",
    "    else:\n",
    "        type_out = torch.FloatTensor\n",
    "    data_ab = ((data_ab.type(type_out)*opt.ab_quant) - opt.ab_max)/opt.ab_norm\n",
    "\n",
    "    return data_ab\n",
    "\n",
    "## Loss\n",
    "# 自己定義 loss \n",
    "# https://discuss.pytorch.org/t/custom-loss-functions/29387\n",
    "# loss = nn.CrossEntropyLoss() # 如果是 classification task\n",
    "def my_loss(output, target):\n",
    "    mask = torch.zeros_like(output)\n",
    "    mann = torch.abs(output-target)\n",
    "    eucl = .5 * (mann**2)\n",
    "    mask[...] = mann < self.delta # < delta 的會 = 1\n",
    "\n",
    "    # loss = eucl*mask + self.delta*(mann-.5*self.delta)*(1-mask)\n",
    "    # 前半 < delta，後半 > delta\n",
    "    loss = eucl*mask/self.delta + (mann-.5*self.delta)*(1-mask)\n",
    "    return torch.sum(loss,dim=1,keepdim=True)\n",
    "\n",
    "\n",
    "class HuberLoss(nn.Module):\n",
    "    def __init__(self, delta=.01):\n",
    "        super(HuberLoss, self).__init__()\n",
    "        self.delta=delta\n",
    "\n",
    "    def __call__(self, in0, in1):\n",
    "        mask = torch.zeros_like(in0)\n",
    "        mann = torch.abs(in0-in1)\n",
    "        eucl = .5 * (mann**2)\n",
    "        mask[...] = mann < self.delta # < delta 的會 = 1\n",
    "\n",
    "        # loss = eucl*mask + self.delta*(mann-.5*self.delta)*(1-mask)\n",
    "        # 前半 < delta，後半 > delta\n",
    "        loss = eucl*mask/self.delta + (mann-.5*self.delta)*(1-mask)\n",
    "        return torch.sum(loss,dim=1,keepdim=True)\n",
    "\"\"\"\n",
    "class L1Loss(nn.Module):\n",
    "    def __init__(self):\n",
    "        super(L1Loss, self).__init__()\n",
    "\n",
    "    def __call__(self, in0, in1):\n",
    "        return torch.sum(torch.abs(in0-in1),dim=1,keepdim=True)\n",
    "\"\"\"\n",
    "    \n",
    "#loss = nn.SmoothL1Loss(size_average=None, reduce=None, reduction='sum')\n",
    "lossL1 = nn.L1Loss(size_average=None, reduce=None, reduction='mean') #or 'sum'\n",
    "lossCE = nn.CrossEntropyLoss()\n"
   ]
  },
  {
   "cell_type": "code",
   "execution_count": 12,
   "metadata": {
    "scrolled": true
   },
   "outputs": [
    {
     "name": "stderr",
     "output_type": "stream",
     "text": [
      "  0%|                                                                                         | 0/4167 [00:00<?, ?it/s]C:\\Users\\USER\\Miniconda3\\envs\\testJ\\lib\\site-packages\\ipykernel_launcher.py:96: DeprecationWarning: elementwise comparison failed; this will raise an error in the future.\n",
      "100%|██████████████████████████████████████████████████████████████████████████████| 4167/4167 [33:18<00:00,  2.09it/s]\n",
      "C:\\Users\\USER\\Miniconda3\\envs\\testJ\\lib\\site-packages\\ipykernel_launcher.py:122: DeprecationWarning: elementwise comparison failed; this will raise an error in the future.\n",
      "  0%|                                                                                         | 0/4167 [00:00<?, ?it/s]"
     ]
    },
    {
     "name": "stdout",
     "output_type": "stream",
     "text": [
      "[001/100] 2035.65 sec(s) Train Acc: 0.000000 Loss: 0.115070 | Val Acc: 0.000000 loss: 0.113138 | time to load: 1997.84\n"
     ]
    },
    {
     "name": "stderr",
     "output_type": "stream",
     "text": [
      "100%|██████████████████████████████████████████████████████████████████████████████| 4167/4167 [33:11<00:00,  2.09it/s]\n",
      "  0%|                                                                                         | 0/4167 [00:00<?, ?it/s]"
     ]
    },
    {
     "name": "stdout",
     "output_type": "stream",
     "text": [
      "[002/100] 2029.12 sec(s) Train Acc: 0.000000 Loss: 0.112205 | Val Acc: 0.000000 loss: 0.111449 | time to load: 1991.42\n"
     ]
    },
    {
     "name": "stderr",
     "output_type": "stream",
     "text": [
      "100%|██████████████████████████████████████████████████████████████████████████████| 4167/4167 [33:12<00:00,  2.09it/s]\n",
      "  0%|                                                                                         | 0/4167 [00:00<?, ?it/s]"
     ]
    },
    {
     "name": "stdout",
     "output_type": "stream",
     "text": [
      "[003/100] 2029.77 sec(s) Train Acc: 0.000000 Loss: 0.111102 | Val Acc: 0.000000 loss: 0.110209 | time to load: 1991.99\n"
     ]
    },
    {
     "name": "stderr",
     "output_type": "stream",
     "text": [
      "100%|██████████████████████████████████████████████████████████████████████████████| 4167/4167 [33:11<00:00,  2.09it/s]\n",
      "  0%|                                                                                         | 0/4167 [00:00<?, ?it/s]"
     ]
    },
    {
     "name": "stdout",
     "output_type": "stream",
     "text": [
      "[004/100] 2028.71 sec(s) Train Acc: 0.000000 Loss: 0.110260 | Val Acc: 0.000000 loss: 0.110141 | time to load: 1991.02\n"
     ]
    },
    {
     "name": "stderr",
     "output_type": "stream",
     "text": [
      "100%|██████████████████████████████████████████████████████████████████████████████| 4167/4167 [33:03<00:00,  2.10it/s]\n",
      "  0%|                                                                                         | 0/4167 [00:00<?, ?it/s]"
     ]
    },
    {
     "name": "stdout",
     "output_type": "stream",
     "text": [
      "[005/100] 2021.22 sec(s) Train Acc: 0.000000 Loss: 0.109551 | Val Acc: 0.000000 loss: 0.109380 | time to load: 1983.62\n"
     ]
    },
    {
     "name": "stderr",
     "output_type": "stream",
     "text": [
      "100%|██████████████████████████████████████████████████████████████████████████████| 4167/4167 [33:02<00:00,  2.10it/s]\n",
      "  0%|                                                                                         | 0/4167 [00:00<?, ?it/s]"
     ]
    },
    {
     "name": "stdout",
     "output_type": "stream",
     "text": [
      "[006/100] 2019.50 sec(s) Train Acc: 0.000000 Loss: 0.108991 | Val Acc: 0.000000 loss: 0.113360 | time to load: 1981.80\n"
     ]
    },
    {
     "name": "stderr",
     "output_type": "stream",
     "text": [
      "100%|██████████████████████████████████████████████████████████████████████████████| 4167/4167 [33:00<00:00,  2.10it/s]\n",
      "  0%|                                                                                         | 0/4167 [00:00<?, ?it/s]"
     ]
    },
    {
     "name": "stdout",
     "output_type": "stream",
     "text": [
      "[007/100] 2017.95 sec(s) Train Acc: 0.000000 Loss: 0.108552 | Val Acc: 0.000000 loss: 0.113863 | time to load: 1980.31\n"
     ]
    },
    {
     "name": "stderr",
     "output_type": "stream",
     "text": [
      "100%|██████████████████████████████████████████████████████████████████████████████| 4167/4167 [33:00<00:00,  2.10it/s]\n",
      "  0%|                                                                                         | 0/4167 [00:00<?, ?it/s]"
     ]
    },
    {
     "name": "stdout",
     "output_type": "stream",
     "text": [
      "[008/100] 2017.74 sec(s) Train Acc: 0.000000 Loss: 0.108015 | Val Acc: 0.000000 loss: 0.108592 | time to load: 1980.12\n"
     ]
    },
    {
     "name": "stderr",
     "output_type": "stream",
     "text": [
      "100%|██████████████████████████████████████████████████████████████████████████████| 4167/4167 [33:00<00:00,  2.10it/s]\n",
      "  0%|                                                                                         | 0/4167 [00:00<?, ?it/s]"
     ]
    },
    {
     "name": "stdout",
     "output_type": "stream",
     "text": [
      "[009/100] 2018.07 sec(s) Train Acc: 0.000000 Loss: 0.107692 | Val Acc: 0.000000 loss: 0.107815 | time to load: 1980.35\n"
     ]
    },
    {
     "name": "stderr",
     "output_type": "stream",
     "text": [
      "100%|██████████████████████████████████████████████████████████████████████████████| 4167/4167 [32:59<00:00,  2.10it/s]\n",
      "  0%|                                                                                         | 0/4167 [00:00<?, ?it/s]"
     ]
    },
    {
     "name": "stdout",
     "output_type": "stream",
     "text": [
      "[010/100] 2016.92 sec(s) Train Acc: 0.000000 Loss: 0.107315 | Val Acc: 0.000000 loss: 0.106879 | time to load: 1979.42\n"
     ]
    },
    {
     "name": "stderr",
     "output_type": "stream",
     "text": [
      "100%|██████████████████████████████████████████████████████████████████████████████| 4167/4167 [33:00<00:00,  2.10it/s]\n",
      "  0%|                                                                                         | 0/4167 [00:00<?, ?it/s]"
     ]
    },
    {
     "name": "stdout",
     "output_type": "stream",
     "text": [
      "[011/100] 2017.41 sec(s) Train Acc: 0.000000 Loss: 0.106977 | Val Acc: 0.000000 loss: 0.106576 | time to load: 1979.77\n"
     ]
    },
    {
     "name": "stderr",
     "output_type": "stream",
     "text": [
      "100%|██████████████████████████████████████████████████████████████████████████████| 4167/4167 [33:00<00:00,  2.10it/s]\n",
      "  0%|                                                                                         | 0/4167 [00:00<?, ?it/s]"
     ]
    },
    {
     "name": "stdout",
     "output_type": "stream",
     "text": [
      "[012/100] 2017.42 sec(s) Train Acc: 0.000000 Loss: 0.106644 | Val Acc: 0.000000 loss: 0.106789 | time to load: 1979.94\n"
     ]
    },
    {
     "name": "stderr",
     "output_type": "stream",
     "text": [
      "100%|██████████████████████████████████████████████████████████████████████████████| 4167/4167 [33:00<00:00,  2.10it/s]\n",
      "  0%|                                                                                         | 0/4167 [00:00<?, ?it/s]"
     ]
    },
    {
     "name": "stdout",
     "output_type": "stream",
     "text": [
      "[013/100] 2017.76 sec(s) Train Acc: 0.000000 Loss: 0.106352 | Val Acc: 0.000000 loss: 0.116861 | time to load: 1980.11\n"
     ]
    },
    {
     "name": "stderr",
     "output_type": "stream",
     "text": [
      "100%|██████████████████████████████████████████████████████████████████████████████| 4167/4167 [33:00<00:00,  2.10it/s]\n",
      "  0%|                                                                                         | 0/4167 [00:00<?, ?it/s]"
     ]
    },
    {
     "name": "stdout",
     "output_type": "stream",
     "text": [
      "[014/100] 2017.42 sec(s) Train Acc: 0.000000 Loss: 0.106061 | Val Acc: 0.000000 loss: 0.106534 | time to load: 1979.88\n"
     ]
    },
    {
     "name": "stderr",
     "output_type": "stream",
     "text": [
      "100%|██████████████████████████████████████████████████████████████████████████████| 4167/4167 [32:57<00:00,  2.11it/s]\n",
      "  0%|                                                                                         | 0/4167 [00:00<?, ?it/s]"
     ]
    },
    {
     "name": "stdout",
     "output_type": "stream",
     "text": [
      "[015/100] 2014.62 sec(s) Train Acc: 0.000000 Loss: 0.105843 | Val Acc: 0.000000 loss: 0.113092 | time to load: 1977.16\n"
     ]
    },
    {
     "name": "stderr",
     "output_type": "stream",
     "text": [
      "100%|██████████████████████████████████████████████████████████████████████████████| 4167/4167 [32:56<00:00,  2.11it/s]\n",
      "  0%|                                                                                         | 0/4167 [00:00<?, ?it/s]"
     ]
    },
    {
     "name": "stdout",
     "output_type": "stream",
     "text": [
      "[016/100] 2013.60 sec(s) Train Acc: 0.000000 Loss: 0.105552 | Val Acc: 0.000000 loss: 0.105451 | time to load: 1976.07\n"
     ]
    },
    {
     "name": "stderr",
     "output_type": "stream",
     "text": [
      "100%|██████████████████████████████████████████████████████████████████████████████| 4167/4167 [32:56<00:00,  2.11it/s]\n",
      "  0%|                                                                                         | 0/4167 [00:00<?, ?it/s]"
     ]
    },
    {
     "name": "stdout",
     "output_type": "stream",
     "text": [
      "[017/100] 2013.23 sec(s) Train Acc: 0.000000 Loss: 0.105314 | Val Acc: 0.000000 loss: 0.114072 | time to load: 1975.73\n"
     ]
    },
    {
     "name": "stderr",
     "output_type": "stream",
     "text": [
      "100%|██████████████████████████████████████████████████████████████████████████████| 4167/4167 [32:54<00:00,  2.11it/s]\n",
      "  0%|                                                                                         | 0/4167 [00:00<?, ?it/s]"
     ]
    },
    {
     "name": "stdout",
     "output_type": "stream",
     "text": [
      "[018/100] 2012.20 sec(s) Train Acc: 0.000000 Loss: 0.105088 | Val Acc: 0.000000 loss: 0.107495 | time to load: 1974.67\n"
     ]
    },
    {
     "name": "stderr",
     "output_type": "stream",
     "text": [
      "100%|██████████████████████████████████████████████████████████████████████████████| 4167/4167 [32:56<00:00,  2.11it/s]\n",
      "  0%|                                                                                         | 0/4167 [00:00<?, ?it/s]"
     ]
    },
    {
     "name": "stdout",
     "output_type": "stream",
     "text": [
      "[019/100] 2013.29 sec(s) Train Acc: 0.000000 Loss: 0.104877 | Val Acc: 0.000000 loss: 0.107900 | time to load: 1975.79\n"
     ]
    },
    {
     "name": "stderr",
     "output_type": "stream",
     "text": [
      "100%|██████████████████████████████████████████████████████████████████████████████| 4167/4167 [32:55<00:00,  2.11it/s]\n",
      "  0%|                                                                                         | 0/4167 [00:00<?, ?it/s]"
     ]
    },
    {
     "name": "stdout",
     "output_type": "stream",
     "text": [
      "[020/100] 2012.87 sec(s) Train Acc: 0.000000 Loss: 0.104582 | Val Acc: 0.000000 loss: 0.122722 | time to load: 1975.37\n"
     ]
    },
    {
     "name": "stderr",
     "output_type": "stream",
     "text": [
      "100%|██████████████████████████████████████████████████████████████████████████████| 4167/4167 [32:55<00:00,  2.11it/s]\n",
      "  0%|                                                                                         | 0/4167 [00:00<?, ?it/s]"
     ]
    },
    {
     "name": "stdout",
     "output_type": "stream",
     "text": [
      "[021/100] 2012.97 sec(s) Train Acc: 0.000000 Loss: 0.104404 | Val Acc: 0.000000 loss: 0.194763 | time to load: 1975.44\n"
     ]
    },
    {
     "name": "stderr",
     "output_type": "stream",
     "text": [
      "100%|██████████████████████████████████████████████████████████████████████████████| 4167/4167 [32:55<00:00,  2.11it/s]\n",
      "  0%|                                                                                         | 0/4167 [00:00<?, ?it/s]"
     ]
    },
    {
     "name": "stdout",
     "output_type": "stream",
     "text": [
      "[022/100] 2012.67 sec(s) Train Acc: 0.000000 Loss: 0.104250 | Val Acc: 0.000000 loss: 0.114666 | time to load: 1975.15\n"
     ]
    },
    {
     "name": "stderr",
     "output_type": "stream",
     "text": [
      "100%|██████████████████████████████████████████████████████████████████████████████| 4167/4167 [32:55<00:00,  2.11it/s]\n",
      "  0%|                                                                                         | 0/4167 [00:00<?, ?it/s]"
     ]
    },
    {
     "name": "stdout",
     "output_type": "stream",
     "text": [
      "[023/100] 2013.15 sec(s) Train Acc: 0.000000 Loss: 0.104061 | Val Acc: 0.000000 loss: 0.109978 | time to load: 1975.68\n"
     ]
    },
    {
     "name": "stderr",
     "output_type": "stream",
     "text": [
      "100%|██████████████████████████████████████████████████████████████████████████████| 4167/4167 [32:59<00:00,  2.10it/s]\n",
      "  0%|                                                                                         | 0/4167 [00:00<?, ?it/s]"
     ]
    },
    {
     "name": "stdout",
     "output_type": "stream",
     "text": [
      "[024/100] 2016.87 sec(s) Train Acc: 0.000000 Loss: 0.103855 | Val Acc: 0.000000 loss: 0.120865 | time to load: 1979.29\n"
     ]
    },
    {
     "name": "stderr",
     "output_type": "stream",
     "text": [
      "100%|██████████████████████████████████████████████████████████████████████████████| 4167/4167 [33:00<00:00,  2.10it/s]\n",
      "  0%|                                                                                         | 0/4167 [00:00<?, ?it/s]"
     ]
    },
    {
     "name": "stdout",
     "output_type": "stream",
     "text": [
      "[025/100] 2018.14 sec(s) Train Acc: 0.000000 Loss: 0.103707 | Val Acc: 0.000000 loss: 0.114052 | time to load: 1980.56\n"
     ]
    },
    {
     "name": "stderr",
     "output_type": "stream",
     "text": [
      "100%|██████████████████████████████████████████████████████████████████████████████| 4167/4167 [33:00<00:00,  2.10it/s]\n",
      "  0%|                                                                                         | 0/4167 [00:00<?, ?it/s]"
     ]
    },
    {
     "name": "stdout",
     "output_type": "stream",
     "text": [
      "[026/100] 2017.43 sec(s) Train Acc: 0.000000 Loss: 0.103532 | Val Acc: 0.000000 loss: 0.108740 | time to load: 1979.83\n"
     ]
    },
    {
     "name": "stderr",
     "output_type": "stream",
     "text": [
      "100%|██████████████████████████████████████████████████████████████████████████████| 4167/4167 [33:01<00:00,  2.10it/s]\n",
      "  0%|                                                                                         | 0/4167 [00:00<?, ?it/s]"
     ]
    },
    {
     "name": "stdout",
     "output_type": "stream",
     "text": [
      "[027/100] 2018.46 sec(s) Train Acc: 0.000000 Loss: 0.103351 | Val Acc: 0.000000 loss: 0.110703 | time to load: 1980.90\n"
     ]
    },
    {
     "name": "stderr",
     "output_type": "stream",
     "text": [
      "100%|██████████████████████████████████████████████████████████████████████████████| 4167/4167 [33:01<00:00,  2.10it/s]\n",
      "  0%|                                                                                         | 0/4167 [00:00<?, ?it/s]"
     ]
    },
    {
     "name": "stdout",
     "output_type": "stream",
     "text": [
      "[028/100] 2018.31 sec(s) Train Acc: 0.000000 Loss: 0.103118 | Val Acc: 0.000000 loss: 0.114314 | time to load: 1980.76\n"
     ]
    },
    {
     "name": "stderr",
     "output_type": "stream",
     "text": [
      "100%|██████████████████████████████████████████████████████████████████████████████| 4167/4167 [33:01<00:00,  2.10it/s]\n",
      "  0%|                                                                                         | 0/4167 [00:00<?, ?it/s]"
     ]
    },
    {
     "name": "stdout",
     "output_type": "stream",
     "text": [
      "[029/100] 2019.08 sec(s) Train Acc: 0.000000 Loss: 0.103035 | Val Acc: 0.000000 loss: 0.114117 | time to load: 1981.50\n"
     ]
    },
    {
     "name": "stderr",
     "output_type": "stream",
     "text": [
      "100%|██████████████████████████████████████████████████████████████████████████████| 4167/4167 [33:03<00:00,  2.10it/s]\n",
      "  0%|                                                                                         | 0/4167 [00:00<?, ?it/s]"
     ]
    },
    {
     "name": "stdout",
     "output_type": "stream",
     "text": [
      "[030/100] 2020.41 sec(s) Train Acc: 0.000000 Loss: 0.102846 | Val Acc: 0.000000 loss: 0.118790 | time to load: 1982.84\n"
     ]
    },
    {
     "name": "stderr",
     "output_type": "stream",
     "text": [
      "100%|██████████████████████████████████████████████████████████████████████████████| 4167/4167 [33:04<00:00,  2.10it/s]\n",
      "  0%|                                                                                         | 0/4167 [00:00<?, ?it/s]"
     ]
    },
    {
     "name": "stdout",
     "output_type": "stream",
     "text": [
      "[031/100] 2022.20 sec(s) Train Acc: 0.000000 Loss: 0.102710 | Val Acc: 0.000000 loss: 0.196897 | time to load: 1984.58\n"
     ]
    },
    {
     "name": "stderr",
     "output_type": "stream",
     "text": [
      "100%|██████████████████████████████████████████████████████████████████████████████| 4167/4167 [33:05<00:00,  2.10it/s]\n",
      "  0%|                                                                                         | 0/4167 [00:00<?, ?it/s]"
     ]
    },
    {
     "name": "stdout",
     "output_type": "stream",
     "text": [
      "[032/100] 2023.05 sec(s) Train Acc: 0.000000 Loss: 0.102488 | Val Acc: 0.000000 loss: 0.109484 | time to load: 1985.36\n"
     ]
    },
    {
     "name": "stderr",
     "output_type": "stream",
     "text": [
      "100%|██████████████████████████████████████████████████████████████████████████████| 4167/4167 [33:05<00:00,  2.10it/s]\n",
      "  0%|                                                                                         | 0/4167 [00:00<?, ?it/s]"
     ]
    },
    {
     "name": "stdout",
     "output_type": "stream",
     "text": [
      "[033/100] 2023.28 sec(s) Train Acc: 0.000000 Loss: 0.102321 | Val Acc: 0.000000 loss: 0.125035 | time to load: 1985.69\n"
     ]
    },
    {
     "name": "stderr",
     "output_type": "stream",
     "text": [
      "100%|██████████████████████████████████████████████████████████████████████████████| 4167/4167 [33:05<00:00,  2.10it/s]\n",
      "  0%|                                                                                         | 0/4167 [00:00<?, ?it/s]"
     ]
    },
    {
     "name": "stdout",
     "output_type": "stream",
     "text": [
      "[034/100] 2023.23 sec(s) Train Acc: 0.000000 Loss: 0.102215 | Val Acc: 0.000000 loss: 0.138730 | time to load: 1985.59\n"
     ]
    },
    {
     "name": "stderr",
     "output_type": "stream",
     "text": [
      "100%|██████████████████████████████████████████████████████████████████████████████| 4167/4167 [33:05<00:00,  2.10it/s]\n",
      "  0%|                                                                                         | 0/4167 [00:00<?, ?it/s]"
     ]
    },
    {
     "name": "stdout",
     "output_type": "stream",
     "text": [
      "[035/100] 2022.63 sec(s) Train Acc: 0.000000 Loss: 0.102051 | Val Acc: 0.000000 loss: 0.139670 | time to load: 1985.02\n"
     ]
    },
    {
     "name": "stderr",
     "output_type": "stream",
     "text": [
      "100%|██████████████████████████████████████████████████████████████████████████████| 4167/4167 [33:05<00:00,  2.10it/s]\n",
      "  0%|                                                                                         | 0/4167 [00:00<?, ?it/s]"
     ]
    },
    {
     "name": "stdout",
     "output_type": "stream",
     "text": [
      "[036/100] 2022.93 sec(s) Train Acc: 0.000000 Loss: 0.101890 | Val Acc: 0.000000 loss: 0.104444 | time to load: 1985.35\n"
     ]
    },
    {
     "name": "stderr",
     "output_type": "stream",
     "text": [
      "100%|██████████████████████████████████████████████████████████████████████████████| 4167/4167 [33:05<00:00,  2.10it/s]\n",
      "  0%|                                                                                         | 0/4167 [00:00<?, ?it/s]"
     ]
    },
    {
     "name": "stdout",
     "output_type": "stream",
     "text": [
      "[037/100] 2022.60 sec(s) Train Acc: 0.000000 Loss: 0.101787 | Val Acc: 0.000000 loss: 0.153171 | time to load: 1985.03\n"
     ]
    },
    {
     "name": "stderr",
     "output_type": "stream",
     "text": [
      "100%|██████████████████████████████████████████████████████████████████████████████| 4167/4167 [33:05<00:00,  2.10it/s]\n",
      "  0%|                                                                                         | 0/4167 [00:00<?, ?it/s]"
     ]
    },
    {
     "name": "stdout",
     "output_type": "stream",
     "text": [
      "[038/100] 2023.13 sec(s) Train Acc: 0.000000 Loss: 0.101608 | Val Acc: 0.000000 loss: 0.122979 | time to load: 1985.54\n"
     ]
    },
    {
     "name": "stderr",
     "output_type": "stream",
     "text": [
      "100%|██████████████████████████████████████████████████████████████████████████████| 4167/4167 [33:06<00:00,  2.10it/s]\n",
      "  0%|                                                                                         | 0/4167 [00:00<?, ?it/s]"
     ]
    },
    {
     "name": "stdout",
     "output_type": "stream",
     "text": [
      "[039/100] 2024.23 sec(s) Train Acc: 0.000000 Loss: 0.101445 | Val Acc: 0.000000 loss: 0.131385 | time to load: 1986.58\n"
     ]
    },
    {
     "name": "stderr",
     "output_type": "stream",
     "text": [
      "100%|██████████████████████████████████████████████████████████████████████████████| 4167/4167 [33:06<00:00,  2.10it/s]\n",
      "  0%|                                                                                         | 0/4167 [00:00<?, ?it/s]"
     ]
    },
    {
     "name": "stdout",
     "output_type": "stream",
     "text": [
      "[040/100] 2023.98 sec(s) Train Acc: 0.000000 Loss: 0.101413 | Val Acc: 0.000000 loss: 0.114285 | time to load: 1986.37\n"
     ]
    },
    {
     "name": "stderr",
     "output_type": "stream",
     "text": [
      "100%|██████████████████████████████████████████████████████████████████████████████| 4167/4167 [33:06<00:00,  2.10it/s]\n",
      "  0%|                                                                                         | 0/4167 [00:00<?, ?it/s]"
     ]
    },
    {
     "name": "stdout",
     "output_type": "stream",
     "text": [
      "[041/100] 2024.02 sec(s) Train Acc: 0.000000 Loss: 0.101241 | Val Acc: 0.000000 loss: 0.115487 | time to load: 1986.39\n"
     ]
    },
    {
     "name": "stderr",
     "output_type": "stream",
     "text": [
      "100%|██████████████████████████████████████████████████████████████████████████████| 4167/4167 [33:07<00:00,  2.10it/s]\n",
      "  0%|                                                                                         | 0/4167 [00:00<?, ?it/s]"
     ]
    },
    {
     "name": "stdout",
     "output_type": "stream",
     "text": [
      "[042/100] 2025.02 sec(s) Train Acc: 0.000000 Loss: 0.100999 | Val Acc: 0.000000 loss: 0.124971 | time to load: 1987.42\n"
     ]
    },
    {
     "name": "stderr",
     "output_type": "stream",
     "text": [
      "100%|██████████████████████████████████████████████████████████████████████████████| 4167/4167 [33:08<00:00,  2.10it/s]\n",
      "  0%|                                                                                         | 0/4167 [00:00<?, ?it/s]"
     ]
    },
    {
     "name": "stdout",
     "output_type": "stream",
     "text": [
      "[043/100] 2025.42 sec(s) Train Acc: 0.000000 Loss: 0.100865 | Val Acc: 0.000000 loss: 0.109977 | time to load: 1987.74\n"
     ]
    },
    {
     "name": "stderr",
     "output_type": "stream",
     "text": [
      "100%|██████████████████████████████████████████████████████████████████████████████| 4167/4167 [33:09<00:00,  2.09it/s]\n",
      "  0%|                                                                                         | 0/4167 [00:00<?, ?it/s]"
     ]
    },
    {
     "name": "stdout",
     "output_type": "stream",
     "text": [
      "[044/100] 2026.63 sec(s) Train Acc: 0.000000 Loss: 0.100709 | Val Acc: 0.000000 loss: 0.106998 | time to load: 1988.94\n"
     ]
    },
    {
     "name": "stderr",
     "output_type": "stream",
     "text": [
      "100%|██████████████████████████████████████████████████████████████████████████████| 4167/4167 [33:14<00:00,  2.09it/s]\n",
      "  0%|                                                                                         | 0/4167 [00:00<?, ?it/s]"
     ]
    },
    {
     "name": "stdout",
     "output_type": "stream",
     "text": [
      "[045/100] 2031.63 sec(s) Train Acc: 0.000000 Loss: 0.100618 | Val Acc: 0.000000 loss: 0.117254 | time to load: 1993.91\n"
     ]
    },
    {
     "name": "stderr",
     "output_type": "stream",
     "text": [
      "100%|██████████████████████████████████████████████████████████████████████████████| 4167/4167 [33:13<00:00,  2.09it/s]\n",
      "  0%|                                                                                         | 0/4167 [00:00<?, ?it/s]"
     ]
    },
    {
     "name": "stdout",
     "output_type": "stream",
     "text": [
      "[046/100] 2031.22 sec(s) Train Acc: 0.000000 Loss: 0.100423 | Val Acc: 0.000000 loss: 0.121967 | time to load: 1993.57\n"
     ]
    },
    {
     "name": "stderr",
     "output_type": "stream",
     "text": [
      "100%|██████████████████████████████████████████████████████████████████████████████| 4167/4167 [33:09<00:00,  2.09it/s]\n",
      "  0%|                                                                                         | 0/4167 [00:00<?, ?it/s]"
     ]
    },
    {
     "name": "stdout",
     "output_type": "stream",
     "text": [
      "[047/100] 2027.23 sec(s) Train Acc: 0.000000 Loss: 0.100358 | Val Acc: 0.000000 loss: 0.116009 | time to load: 1989.60\n"
     ]
    },
    {
     "name": "stderr",
     "output_type": "stream",
     "text": [
      "100%|██████████████████████████████████████████████████████████████████████████████| 4167/4167 [33:07<00:00,  2.10it/s]\n",
      "  0%|                                                                                         | 0/4167 [00:00<?, ?it/s]"
     ]
    },
    {
     "name": "stdout",
     "output_type": "stream",
     "text": [
      "[048/100] 2025.17 sec(s) Train Acc: 0.000000 Loss: 0.100076 | Val Acc: 0.000000 loss: 0.117061 | time to load: 1987.55\n"
     ]
    },
    {
     "name": "stderr",
     "output_type": "stream",
     "text": [
      "100%|██████████████████████████████████████████████████████████████████████████████| 4167/4167 [33:06<00:00,  2.10it/s]\n",
      "  0%|                                                                                         | 0/4167 [00:00<?, ?it/s]"
     ]
    },
    {
     "name": "stdout",
     "output_type": "stream",
     "text": [
      "[049/100] 2024.23 sec(s) Train Acc: 0.000000 Loss: 0.100021 | Val Acc: 0.000000 loss: 0.147176 | time to load: 1986.63\n"
     ]
    },
    {
     "name": "stderr",
     "output_type": "stream",
     "text": [
      "100%|██████████████████████████████████████████████████████████████████████████████| 4167/4167 [33:06<00:00,  2.10it/s]\n",
      "  0%|                                                                                         | 0/4167 [00:00<?, ?it/s]"
     ]
    },
    {
     "name": "stdout",
     "output_type": "stream",
     "text": [
      "[050/100] 2023.97 sec(s) Train Acc: 0.000000 Loss: 0.099918 | Val Acc: 0.000000 loss: 0.113345 | time to load: 1986.42\n"
     ]
    },
    {
     "name": "stderr",
     "output_type": "stream",
     "text": [
      "100%|██████████████████████████████████████████████████████████████████████████████| 4167/4167 [33:05<00:00,  2.10it/s]\n",
      "  0%|                                                                                         | 0/4167 [00:00<?, ?it/s]"
     ]
    },
    {
     "name": "stdout",
     "output_type": "stream",
     "text": [
      "[051/100] 2022.60 sec(s) Train Acc: 0.000000 Loss: 0.099776 | Val Acc: 0.000000 loss: 0.122410 | time to load: 1985.09\n"
     ]
    },
    {
     "name": "stderr",
     "output_type": "stream",
     "text": [
      "100%|██████████████████████████████████████████████████████████████████████████████| 4167/4167 [33:04<00:00,  2.10it/s]\n",
      "  0%|                                                                                         | 0/4167 [00:00<?, ?it/s]"
     ]
    },
    {
     "name": "stdout",
     "output_type": "stream",
     "text": [
      "[052/100] 2021.84 sec(s) Train Acc: 0.000000 Loss: 0.099637 | Val Acc: 0.000000 loss: 0.126740 | time to load: 1984.36\n"
     ]
    },
    {
     "name": "stderr",
     "output_type": "stream",
     "text": [
      "100%|██████████████████████████████████████████████████████████████████████████████| 4167/4167 [33:04<00:00,  2.10it/s]\n",
      "  0%|                                                                                         | 0/4167 [00:00<?, ?it/s]"
     ]
    },
    {
     "name": "stdout",
     "output_type": "stream",
     "text": [
      "[053/100] 2021.69 sec(s) Train Acc: 0.000000 Loss: 0.099462 | Val Acc: 0.000000 loss: 0.115609 | time to load: 1984.17\n"
     ]
    },
    {
     "name": "stderr",
     "output_type": "stream",
     "text": [
      "100%|██████████████████████████████████████████████████████████████████████████████| 4167/4167 [33:05<00:00,  2.10it/s]\n",
      "  0%|                                                                                         | 0/4167 [00:00<?, ?it/s]"
     ]
    },
    {
     "name": "stdout",
     "output_type": "stream",
     "text": [
      "[054/100] 2022.76 sec(s) Train Acc: 0.000000 Loss: 0.099367 | Val Acc: 0.000000 loss: 0.103984 | time to load: 1985.19\n"
     ]
    },
    {
     "name": "stderr",
     "output_type": "stream",
     "text": [
      "100%|██████████████████████████████████████████████████████████████████████████████| 4167/4167 [33:04<00:00,  2.10it/s]\n",
      "  0%|                                                                                         | 0/4167 [00:00<?, ?it/s]"
     ]
    },
    {
     "name": "stdout",
     "output_type": "stream",
     "text": [
      "[055/100] 2021.29 sec(s) Train Acc: 0.000000 Loss: 0.099248 | Val Acc: 0.000000 loss: 0.105399 | time to load: 1983.75\n"
     ]
    },
    {
     "name": "stderr",
     "output_type": "stream",
     "text": [
      "100%|██████████████████████████████████████████████████████████████████████████████| 4167/4167 [33:05<00:00,  2.10it/s]\n",
      "  0%|                                                                                         | 0/4167 [00:00<?, ?it/s]"
     ]
    },
    {
     "name": "stdout",
     "output_type": "stream",
     "text": [
      "[056/100] 2022.48 sec(s) Train Acc: 0.000000 Loss: 0.099260 | Val Acc: 0.000000 loss: 0.102520 | time to load: 1984.92\n"
     ]
    },
    {
     "name": "stderr",
     "output_type": "stream",
     "text": [
      "100%|██████████████████████████████████████████████████████████████████████████████| 4167/4167 [33:05<00:00,  2.10it/s]\n",
      "  0%|                                                                                         | 0/4167 [00:00<?, ?it/s]"
     ]
    },
    {
     "name": "stdout",
     "output_type": "stream",
     "text": [
      "[057/100] 2023.10 sec(s) Train Acc: 0.000000 Loss: 0.098971 | Val Acc: 0.000000 loss: 0.102192 | time to load: 1985.59\n"
     ]
    },
    {
     "name": "stderr",
     "output_type": "stream",
     "text": [
      "100%|██████████████████████████████████████████████████████████████████████████████| 4167/4167 [33:04<00:00,  2.10it/s]\n",
      "  0%|                                                                                         | 0/4167 [00:00<?, ?it/s]"
     ]
    },
    {
     "name": "stdout",
     "output_type": "stream",
     "text": [
      "[058/100] 2021.68 sec(s) Train Acc: 0.000000 Loss: 0.098866 | Val Acc: 0.000000 loss: 0.102438 | time to load: 1984.21\n"
     ]
    },
    {
     "name": "stderr",
     "output_type": "stream",
     "text": [
      "100%|██████████████████████████████████████████████████████████████████████████████| 4167/4167 [33:04<00:00,  2.10it/s]\n",
      "  0%|                                                                                         | 0/4167 [00:00<?, ?it/s]"
     ]
    },
    {
     "name": "stdout",
     "output_type": "stream",
     "text": [
      "[059/100] 2021.72 sec(s) Train Acc: 0.000000 Loss: 0.098637 | Val Acc: 0.000000 loss: 0.102880 | time to load: 1984.19\n"
     ]
    },
    {
     "name": "stderr",
     "output_type": "stream",
     "text": [
      "100%|██████████████████████████████████████████████████████████████████████████████| 4167/4167 [33:05<00:00,  2.10it/s]\n",
      "  0%|                                                                                         | 0/4167 [00:00<?, ?it/s]"
     ]
    },
    {
     "name": "stdout",
     "output_type": "stream",
     "text": [
      "[060/100] 2022.54 sec(s) Train Acc: 0.000000 Loss: 0.098501 | Val Acc: 0.000000 loss: 0.102482 | time to load: 1984.99\n"
     ]
    },
    {
     "name": "stderr",
     "output_type": "stream",
     "text": [
      "100%|██████████████████████████████████████████████████████████████████████████████| 4167/4167 [33:05<00:00,  2.10it/s]\n",
      "  0%|                                                                                         | 0/4167 [00:00<?, ?it/s]"
     ]
    },
    {
     "name": "stdout",
     "output_type": "stream",
     "text": [
      "[061/100] 2022.76 sec(s) Train Acc: 0.000000 Loss: 0.098334 | Val Acc: 0.000000 loss: 0.102491 | time to load: 1985.22\n"
     ]
    },
    {
     "name": "stderr",
     "output_type": "stream",
     "text": [
      "100%|██████████████████████████████████████████████████████████████████████████████| 4167/4167 [33:06<00:00,  2.10it/s]\n",
      "  0%|                                                                                         | 0/4167 [00:00<?, ?it/s]"
     ]
    },
    {
     "name": "stdout",
     "output_type": "stream",
     "text": [
      "[062/100] 2024.17 sec(s) Train Acc: 0.000000 Loss: 0.098282 | Val Acc: 0.000000 loss: 0.102611 | time to load: 1986.55\n"
     ]
    },
    {
     "name": "stderr",
     "output_type": "stream",
     "text": [
      "100%|██████████████████████████████████████████████████████████████████████████████| 4167/4167 [32:58<00:00,  2.11it/s]\n",
      "  0%|                                                                                         | 0/4167 [00:00<?, ?it/s]"
     ]
    },
    {
     "name": "stdout",
     "output_type": "stream",
     "text": [
      "[063/100] 2015.32 sec(s) Train Acc: 0.000000 Loss: 0.098049 | Val Acc: 0.000000 loss: 0.103887 | time to load: 1977.74\n"
     ]
    },
    {
     "name": "stderr",
     "output_type": "stream",
     "text": [
      "100%|██████████████████████████████████████████████████████████████████████████████| 4167/4167 [32:57<00:00,  2.11it/s]\n",
      "  0%|                                                                                         | 0/4167 [00:00<?, ?it/s]"
     ]
    },
    {
     "name": "stdout",
     "output_type": "stream",
     "text": [
      "[064/100] 2014.91 sec(s) Train Acc: 0.000000 Loss: 0.097956 | Val Acc: 0.000000 loss: 0.105724 | time to load: 1977.36\n"
     ]
    },
    {
     "name": "stderr",
     "output_type": "stream",
     "text": [
      "100%|██████████████████████████████████████████████████████████████████████████████| 4167/4167 [32:56<00:00,  2.11it/s]\n",
      "  0%|                                                                                         | 0/4167 [00:00<?, ?it/s]"
     ]
    },
    {
     "name": "stdout",
     "output_type": "stream",
     "text": [
      "[065/100] 2014.09 sec(s) Train Acc: 0.000000 Loss: 0.097751 | Val Acc: 0.000000 loss: 0.106582 | time to load: 1976.58\n"
     ]
    },
    {
     "name": "stderr",
     "output_type": "stream",
     "text": [
      "100%|██████████████████████████████████████████████████████████████████████████████| 4167/4167 [32:56<00:00,  2.11it/s]\n",
      "  0%|                                                                                         | 0/4167 [00:00<?, ?it/s]"
     ]
    },
    {
     "name": "stdout",
     "output_type": "stream",
     "text": [
      "[066/100] 2013.53 sec(s) Train Acc: 0.000000 Loss: 0.097588 | Val Acc: 0.000000 loss: 0.141683 | time to load: 1975.99\n"
     ]
    },
    {
     "name": "stderr",
     "output_type": "stream",
     "text": [
      "100%|██████████████████████████████████████████████████████████████████████████████| 4167/4167 [32:57<00:00,  2.11it/s]\n",
      "  0%|                                                                                         | 0/4167 [00:00<?, ?it/s]"
     ]
    },
    {
     "name": "stdout",
     "output_type": "stream",
     "text": [
      "[067/100] 2014.37 sec(s) Train Acc: 0.000000 Loss: 0.097474 | Val Acc: 0.000000 loss: 0.133436 | time to load: 1976.92\n"
     ]
    },
    {
     "name": "stderr",
     "output_type": "stream",
     "text": [
      "100%|██████████████████████████████████████████████████████████████████████████████| 4167/4167 [32:59<00:00,  2.11it/s]\n",
      "  0%|                                                                                         | 0/4167 [00:00<?, ?it/s]"
     ]
    },
    {
     "name": "stdout",
     "output_type": "stream",
     "text": [
      "[068/100] 2016.61 sec(s) Train Acc: 0.000000 Loss: 0.097273 | Val Acc: 0.000000 loss: 0.124294 | time to load: 1979.17\n"
     ]
    },
    {
     "name": "stderr",
     "output_type": "stream",
     "text": [
      "100%|██████████████████████████████████████████████████████████████████████████████| 4167/4167 [32:58<00:00,  2.11it/s]\n",
      "  0%|                                                                                         | 0/4167 [00:00<?, ?it/s]"
     ]
    },
    {
     "name": "stdout",
     "output_type": "stream",
     "text": [
      "[069/100] 2015.48 sec(s) Train Acc: 0.000000 Loss: 0.097165 | Val Acc: 0.000000 loss: 0.146224 | time to load: 1977.95\n"
     ]
    },
    {
     "name": "stderr",
     "output_type": "stream",
     "text": [
      "100%|██████████████████████████████████████████████████████████████████████████████| 4167/4167 [32:56<00:00,  2.11it/s]\n",
      "  0%|                                                                                         | 0/4167 [00:00<?, ?it/s]"
     ]
    },
    {
     "name": "stdout",
     "output_type": "stream",
     "text": [
      "[070/100] 2014.03 sec(s) Train Acc: 0.000000 Loss: 0.096949 | Val Acc: 0.000000 loss: 0.104324 | time to load: 1976.56\n"
     ]
    },
    {
     "name": "stderr",
     "output_type": "stream",
     "text": [
      "100%|██████████████████████████████████████████████████████████████████████████████| 4167/4167 [32:58<00:00,  2.11it/s]\n",
      "  0%|                                                                                         | 0/4167 [00:00<?, ?it/s]"
     ]
    },
    {
     "name": "stdout",
     "output_type": "stream",
     "text": [
      "[071/100] 2015.54 sec(s) Train Acc: 0.000000 Loss: 0.096807 | Val Acc: 0.000000 loss: 0.103162 | time to load: 1978.01\n"
     ]
    },
    {
     "name": "stderr",
     "output_type": "stream",
     "text": [
      "100%|██████████████████████████████████████████████████████████████████████████████| 4167/4167 [33:01<00:00,  2.10it/s]\n",
      "  0%|                                                                                         | 0/4167 [00:00<?, ?it/s]"
     ]
    },
    {
     "name": "stdout",
     "output_type": "stream",
     "text": [
      "[072/100] 2018.65 sec(s) Train Acc: 0.000000 Loss: 0.096615 | Val Acc: 0.000000 loss: 0.122681 | time to load: 1981.10\n"
     ]
    },
    {
     "name": "stderr",
     "output_type": "stream",
     "text": [
      "100%|██████████████████████████████████████████████████████████████████████████████| 4167/4167 [33:02<00:00,  2.10it/s]\n",
      "  0%|                                                                                         | 0/4167 [00:00<?, ?it/s]"
     ]
    },
    {
     "name": "stdout",
     "output_type": "stream",
     "text": [
      "[073/100] 2019.37 sec(s) Train Acc: 0.000000 Loss: 0.096481 | Val Acc: 0.000000 loss: 0.123122 | time to load: 1981.81\n"
     ]
    },
    {
     "name": "stderr",
     "output_type": "stream",
     "text": [
      "100%|██████████████████████████████████████████████████████████████████████████████| 4167/4167 [33:03<00:00,  2.10it/s]\n",
      "  0%|                                                                                         | 0/4167 [00:00<?, ?it/s]"
     ]
    },
    {
     "name": "stdout",
     "output_type": "stream",
     "text": [
      "[074/100] 2020.56 sec(s) Train Acc: 0.000000 Loss: 0.096342 | Val Acc: 0.000000 loss: 0.107904 | time to load: 1982.99\n"
     ]
    },
    {
     "name": "stderr",
     "output_type": "stream",
     "text": [
      "100%|██████████████████████████████████████████████████████████████████████████████| 4167/4167 [33:05<00:00,  2.10it/s]\n",
      "  0%|                                                                                         | 0/4167 [00:00<?, ?it/s]"
     ]
    },
    {
     "name": "stdout",
     "output_type": "stream",
     "text": [
      "[075/100] 2022.94 sec(s) Train Acc: 0.000000 Loss: 0.096242 | Val Acc: 0.000000 loss: 0.110845 | time to load: 1985.18\n"
     ]
    },
    {
     "name": "stderr",
     "output_type": "stream",
     "text": [
      "100%|██████████████████████████████████████████████████████████████████████████████| 4167/4167 [33:04<00:00,  2.10it/s]\n",
      "  0%|                                                                                         | 0/4167 [00:00<?, ?it/s]"
     ]
    },
    {
     "name": "stdout",
     "output_type": "stream",
     "text": [
      "[076/100] 2021.30 sec(s) Train Acc: 0.000000 Loss: 0.096082 | Val Acc: 0.000000 loss: 0.106661 | time to load: 1983.72\n"
     ]
    },
    {
     "name": "stderr",
     "output_type": "stream",
     "text": [
      "100%|██████████████████████████████████████████████████████████████████████████████| 4167/4167 [33:03<00:00,  2.10it/s]\n",
      "  0%|                                                                                         | 0/4167 [00:00<?, ?it/s]"
     ]
    },
    {
     "name": "stdout",
     "output_type": "stream",
     "text": [
      "[077/100] 2020.68 sec(s) Train Acc: 0.000000 Loss: 0.095806 | Val Acc: 0.000000 loss: 0.116485 | time to load: 1983.09\n"
     ]
    },
    {
     "name": "stderr",
     "output_type": "stream",
     "text": [
      "100%|██████████████████████████████████████████████████████████████████████████████| 4167/4167 [33:03<00:00,  2.10it/s]\n",
      "  0%|                                                                                         | 0/4167 [00:00<?, ?it/s]"
     ]
    },
    {
     "name": "stdout",
     "output_type": "stream",
     "text": [
      "[078/100] 2020.43 sec(s) Train Acc: 0.000000 Loss: 0.095670 | Val Acc: 0.000000 loss: 0.107753 | time to load: 1982.83\n"
     ]
    },
    {
     "name": "stderr",
     "output_type": "stream",
     "text": [
      "100%|██████████████████████████████████████████████████████████████████████████████| 4167/4167 [33:03<00:00,  2.10it/s]\n",
      "  0%|                                                                                         | 0/4167 [00:00<?, ?it/s]"
     ]
    },
    {
     "name": "stdout",
     "output_type": "stream",
     "text": [
      "[079/100] 2020.27 sec(s) Train Acc: 0.000000 Loss: 0.095564 | Val Acc: 0.000000 loss: 0.128911 | time to load: 1982.74\n"
     ]
    },
    {
     "name": "stderr",
     "output_type": "stream",
     "text": [
      "100%|██████████████████████████████████████████████████████████████████████████████| 4167/4167 [33:04<00:00,  2.10it/s]\n",
      "  0%|                                                                                         | 0/4167 [00:00<?, ?it/s]"
     ]
    },
    {
     "name": "stdout",
     "output_type": "stream",
     "text": [
      "[080/100] 2022.02 sec(s) Train Acc: 0.000000 Loss: 0.095379 | Val Acc: 0.000000 loss: 0.108497 | time to load: 1984.47\n"
     ]
    },
    {
     "name": "stderr",
     "output_type": "stream",
     "text": [
      "100%|██████████████████████████████████████████████████████████████████████████████| 4167/4167 [33:03<00:00,  2.10it/s]\n",
      "  0%|                                                                                         | 0/4167 [00:00<?, ?it/s]"
     ]
    },
    {
     "name": "stdout",
     "output_type": "stream",
     "text": [
      "[081/100] 2020.77 sec(s) Train Acc: 0.000000 Loss: 0.095268 | Val Acc: 0.000000 loss: 0.152495 | time to load: 1983.21\n"
     ]
    },
    {
     "name": "stderr",
     "output_type": "stream",
     "text": [
      "100%|██████████████████████████████████████████████████████████████████████████████| 4167/4167 [33:05<00:00,  2.10it/s]\n",
      "  0%|                                                                                         | 0/4167 [00:00<?, ?it/s]"
     ]
    },
    {
     "name": "stdout",
     "output_type": "stream",
     "text": [
      "[082/100] 2022.92 sec(s) Train Acc: 0.000000 Loss: 0.095013 | Val Acc: 0.000000 loss: 0.110065 | time to load: 1985.31\n"
     ]
    },
    {
     "name": "stderr",
     "output_type": "stream",
     "text": [
      "100%|██████████████████████████████████████████████████████████████████████████████| 4167/4167 [33:06<00:00,  2.10it/s]\n",
      "  0%|                                                                                         | 0/4167 [00:00<?, ?it/s]"
     ]
    },
    {
     "name": "stdout",
     "output_type": "stream",
     "text": [
      "[083/100] 2024.22 sec(s) Train Acc: 0.000000 Loss: 0.094942 | Val Acc: 0.000000 loss: 0.126570 | time to load: 1986.58\n"
     ]
    },
    {
     "name": "stderr",
     "output_type": "stream",
     "text": [
      "100%|██████████████████████████████████████████████████████████████████████████████| 4167/4167 [33:06<00:00,  2.10it/s]\n",
      "  0%|                                                                                         | 0/4167 [00:00<?, ?it/s]"
     ]
    },
    {
     "name": "stdout",
     "output_type": "stream",
     "text": [
      "[084/100] 2023.71 sec(s) Train Acc: 0.000000 Loss: 0.094722 | Val Acc: 0.000000 loss: 0.122952 | time to load: 1986.08\n"
     ]
    },
    {
     "name": "stderr",
     "output_type": "stream",
     "text": [
      "100%|██████████████████████████████████████████████████████████████████████████████| 4167/4167 [33:06<00:00,  2.10it/s]\n",
      "  0%|                                                                                         | 0/4167 [00:00<?, ?it/s]"
     ]
    },
    {
     "name": "stdout",
     "output_type": "stream",
     "text": [
      "[085/100] 2024.08 sec(s) Train Acc: 0.000000 Loss: 0.094597 | Val Acc: 0.000000 loss: 0.138946 | time to load: 1986.48\n"
     ]
    },
    {
     "name": "stderr",
     "output_type": "stream",
     "text": [
      "100%|██████████████████████████████████████████████████████████████████████████████| 4167/4167 [33:07<00:00,  2.10it/s]\n",
      "  0%|                                                                                         | 0/4167 [00:00<?, ?it/s]"
     ]
    },
    {
     "name": "stdout",
     "output_type": "stream",
     "text": [
      "[086/100] 2025.13 sec(s) Train Acc: 0.000000 Loss: 0.094435 | Val Acc: 0.000000 loss: 0.144010 | time to load: 1987.54\n"
     ]
    },
    {
     "name": "stderr",
     "output_type": "stream",
     "text": [
      "100%|██████████████████████████████████████████████████████████████████████████████| 4167/4167 [33:09<00:00,  2.09it/s]\n",
      "  0%|                                                                                         | 0/4167 [00:00<?, ?it/s]"
     ]
    },
    {
     "name": "stdout",
     "output_type": "stream",
     "text": [
      "[087/100] 2026.79 sec(s) Train Acc: 0.000000 Loss: 0.094148 | Val Acc: 0.000000 loss: 0.130716 | time to load: 1988.94\n"
     ]
    },
    {
     "name": "stderr",
     "output_type": "stream",
     "text": [
      "100%|██████████████████████████████████████████████████████████████████████████████| 4167/4167 [33:08<00:00,  2.10it/s]\n",
      "  0%|                                                                                         | 0/4167 [00:00<?, ?it/s]"
     ]
    },
    {
     "name": "stdout",
     "output_type": "stream",
     "text": [
      "[088/100] 2025.98 sec(s) Train Acc: 0.000000 Loss: 0.094029 | Val Acc: 0.000000 loss: 0.211710 | time to load: 1988.31\n"
     ]
    },
    {
     "name": "stderr",
     "output_type": "stream",
     "text": [
      "100%|██████████████████████████████████████████████████████████████████████████████| 4167/4167 [33:06<00:00,  2.10it/s]\n",
      "  0%|                                                                                         | 0/4167 [00:00<?, ?it/s]"
     ]
    },
    {
     "name": "stdout",
     "output_type": "stream",
     "text": [
      "[089/100] 2023.47 sec(s) Train Acc: 0.000000 Loss: 0.093888 | Val Acc: 0.000000 loss: 0.173838 | time to load: 1985.81\n"
     ]
    },
    {
     "name": "stderr",
     "output_type": "stream",
     "text": [
      "100%|██████████████████████████████████████████████████████████████████████████████| 4167/4167 [33:02<00:00,  2.10it/s]\n",
      "  0%|                                                                                         | 0/4167 [00:00<?, ?it/s]"
     ]
    },
    {
     "name": "stdout",
     "output_type": "stream",
     "text": [
      "[090/100] 2020.02 sec(s) Train Acc: 0.000000 Loss: 0.093722 | Val Acc: 0.000000 loss: 0.153140 | time to load: 1982.36\n"
     ]
    },
    {
     "name": "stderr",
     "output_type": "stream",
     "text": [
      "100%|██████████████████████████████████████████████████████████████████████████████| 4167/4167 [33:05<00:00,  2.10it/s]\n",
      "  0%|                                                                                         | 0/4167 [00:00<?, ?it/s]"
     ]
    },
    {
     "name": "stdout",
     "output_type": "stream",
     "text": [
      "[091/100] 2022.73 sec(s) Train Acc: 0.000000 Loss: 0.093583 | Val Acc: 0.000000 loss: 0.133397 | time to load: 1985.22\n"
     ]
    },
    {
     "name": "stderr",
     "output_type": "stream",
     "text": [
      "100%|██████████████████████████████████████████████████████████████████████████████| 4167/4167 [33:07<00:00,  2.10it/s]\n",
      "  0%|                                                                                         | 0/4167 [00:00<?, ?it/s]"
     ]
    },
    {
     "name": "stdout",
     "output_type": "stream",
     "text": [
      "[092/100] 2024.97 sec(s) Train Acc: 0.000000 Loss: 0.093425 | Val Acc: 0.000000 loss: 0.106849 | time to load: 1987.43\n"
     ]
    },
    {
     "name": "stderr",
     "output_type": "stream",
     "text": [
      "100%|██████████████████████████████████████████████████████████████████████████████| 4167/4167 [33:01<00:00,  2.10it/s]\n",
      "  0%|                                                                                         | 0/4167 [00:00<?, ?it/s]"
     ]
    },
    {
     "name": "stdout",
     "output_type": "stream",
     "text": [
      "[093/100] 2019.23 sec(s) Train Acc: 0.000000 Loss: 0.093212 | Val Acc: 0.000000 loss: 0.110956 | time to load: 1981.57\n"
     ]
    },
    {
     "name": "stderr",
     "output_type": "stream",
     "text": [
      "100%|██████████████████████████████████████████████████████████████████████████████| 4167/4167 [32:58<00:00,  2.11it/s]\n",
      "  0%|                                                                                         | 0/4167 [00:00<?, ?it/s]"
     ]
    },
    {
     "name": "stdout",
     "output_type": "stream",
     "text": [
      "[094/100] 2015.99 sec(s) Train Acc: 0.000000 Loss: 0.093187 | Val Acc: 0.000000 loss: 0.111095 | time to load: 1978.39\n"
     ]
    },
    {
     "name": "stderr",
     "output_type": "stream",
     "text": [
      "100%|██████████████████████████████████████████████████████████████████████████████| 4167/4167 [32:57<00:00,  2.11it/s]\n",
      "  0%|                                                                                         | 0/4167 [00:00<?, ?it/s]"
     ]
    },
    {
     "name": "stdout",
     "output_type": "stream",
     "text": [
      "[095/100] 2014.90 sec(s) Train Acc: 0.000000 Loss: 0.092878 | Val Acc: 0.000000 loss: 0.127064 | time to load: 1977.34\n"
     ]
    },
    {
     "name": "stderr",
     "output_type": "stream",
     "text": [
      "100%|██████████████████████████████████████████████████████████████████████████████| 4167/4167 [32:58<00:00,  2.11it/s]\n",
      "  0%|                                                                                         | 0/4167 [00:00<?, ?it/s]"
     ]
    },
    {
     "name": "stdout",
     "output_type": "stream",
     "text": [
      "[096/100] 2015.80 sec(s) Train Acc: 0.000000 Loss: 0.092854 | Val Acc: 0.000000 loss: 0.123173 | time to load: 1978.26\n"
     ]
    },
    {
     "name": "stderr",
     "output_type": "stream",
     "text": [
      "100%|██████████████████████████████████████████████████████████████████████████████| 4167/4167 [33:01<00:00,  2.10it/s]\n",
      "  0%|                                                                                         | 0/4167 [00:00<?, ?it/s]"
     ]
    },
    {
     "name": "stdout",
     "output_type": "stream",
     "text": [
      "[097/100] 2018.94 sec(s) Train Acc: 0.000000 Loss: 0.092602 | Val Acc: 0.000000 loss: 0.154698 | time to load: 1981.40\n"
     ]
    },
    {
     "name": "stderr",
     "output_type": "stream",
     "text": [
      "100%|██████████████████████████████████████████████████████████████████████████████| 4167/4167 [32:59<00:00,  2.10it/s]\n",
      "  0%|                                                                                         | 0/4167 [00:00<?, ?it/s]"
     ]
    },
    {
     "name": "stdout",
     "output_type": "stream",
     "text": [
      "[098/100] 2016.76 sec(s) Train Acc: 0.000000 Loss: 0.092491 | Val Acc: 0.000000 loss: 0.109584 | time to load: 1979.27\n"
     ]
    },
    {
     "name": "stderr",
     "output_type": "stream",
     "text": [
      "100%|██████████████████████████████████████████████████████████████████████████████| 4167/4167 [33:00<00:00,  2.10it/s]\n",
      "  0%|                                                                                         | 0/4167 [00:00<?, ?it/s]"
     ]
    },
    {
     "name": "stdout",
     "output_type": "stream",
     "text": [
      "[099/100] 2017.39 sec(s) Train Acc: 0.000000 Loss: 0.092295 | Val Acc: 0.000000 loss: 0.107555 | time to load: 1979.85\n"
     ]
    },
    {
     "name": "stderr",
     "output_type": "stream",
     "text": [
      "100%|██████████████████████████████████████████████████████████████████████████████| 4167/4167 [33:00<00:00,  2.10it/s]\n"
     ]
    },
    {
     "name": "stdout",
     "output_type": "stream",
     "text": [
      "[100/100] 2018.00 sec(s) Train Acc: 0.000000 Loss: 0.092148 | Val Acc: 0.000000 loss: 0.106866 | time to load: 1980.48\n"
     ]
    }
   ],
   "source": [
    "\"\"\"\n",
    "    Training\n",
    "\"\"\"\n",
    "#training 時做 data augmentation\n",
    "# 官方說明\n",
    "# https://pytorch.org/docs/stable/torchvision/transforms.html#module-torchvision.transforms.functional\n",
    "# 中文說明(有解釋)\n",
    "# https://wizardforcel.gitbooks.io/learn-dl-with-pytorch-liaoxingyu/4.7.1.html\n",
    "\n",
    "#model = Classifier().cuda()\n",
    "\n",
    "\n",
    "## Optimizer\n",
    "optimizer = torch.optim.Adam(model.parameters(), lr=0.0001, betas=(0.9, 0.999), eps=1e-08, weight_decay=0, amsgrad=False)\n",
    "# optimizer 必須要吃到 model 的參數\n",
    "#據說 SGD+momentum test 表現好\n",
    "#optimizer = torch.optim.SGD(model.parameters(), lr=0.001, momentum=0.9)\n",
    "\n",
    "num_epoch = 100\n",
    "best_val_loss = 1e+9\n",
    "\n",
    "train_loss_history = []\n",
    "val_loss_history = []\n",
    "\n",
    "for epoch in range(num_epoch):\n",
    "    epoch_start_time = time.time()\n",
    "    iter_data_time = time.time()\n",
    "    train_acc = 0.0\n",
    "    train_loss = 0.0\n",
    "    val_acc = 0.0\n",
    "    val_loss = 0.0\n",
    "    \n",
    "    model.train() # 確保 model 是在 train model (開啟 Dropout 等...)\n",
    "    for i, data in enumerate(tqdm(train_loader)):\n",
    "        iter_start_time = time.time()\n",
    "        # time to load data\n",
    "        t_data = iter_start_time - iter_data_time\n",
    "\n",
    "        # 確保歸零，不然會累積\n",
    "        optimizer.zero_grad() # 用 optimizer 將 model 參數的 gradient 歸零\n",
    "        pred_class, train_pred = model(data[0].cuda()) # 利用 model 得到預測的機率分佈 這邊實際上就是去呼叫 model 的 forward 函數\n",
    "        #print(train_pred.size(), data[1].size())\n",
    "        \n",
    "        real_B_enc = encode_ab_ind(data[1][:, :, ::4, ::4])\n",
    "        \n",
    "        # 計算 loss （注意 prediction 跟 label 必須同時在 CPU 或是 GPU 上）\n",
    "        loss_L1_reg = lossL1(train_pred.type(torch.cuda.FloatTensor), data[1].type(torch.cuda.FloatTensor).cuda())\n",
    "        loss_CE = lossCE(pred_class.type(torch.cuda.FloatTensor), real_B_enc[:, 0, :, :].type(torch.cuda.LongTensor).cuda())\n",
    "        batch_loss = loss_L1_reg + loss_CE\n",
    "        batch_loss.backward() # 利用 back propagation 算出每個參數的 gradient\n",
    "        optimizer.step() # 以 optimizer 用 gradient 更新參數值\n",
    "\n",
    "        train_acc += np.sum(np.argmax(train_pred.cpu().data.numpy(), axis=1) == data[1].numpy())\n",
    "        train_loss += batch_loss.item()\n",
    "    \n",
    "    model.eval()\n",
    "    with torch.no_grad():\n",
    "        for i, data in enumerate(val_loader):\n",
    "            pred_class, val_pred = model(data[0].cuda())\n",
    "            #batch_loss = loss(val_pred, data[1].cuda())\n",
    "            real_B_enc = encode_ab_ind(data[1][:, :, ::4, ::4])\n",
    "            loss_L1_reg = lossL1(val_pred.type(torch.cuda.FloatTensor), data[1].type(torch.cuda.FloatTensor).cuda())\n",
    "            loss_CE = lossCE(pred_class.type(torch.cuda.FloatTensor), real_B_enc[:, 0, :, :].type(torch.cuda.LongTensor).cuda())\n",
    "            batch_loss = loss_L1_reg + loss_CE\n",
    "            if(i == 1):\n",
    "                L = data[0][6].cpu().numpy().transpose(1, 2, 0)\n",
    "                realAB = data[1][6].cpu().numpy().transpose(1, 2, 0)\n",
    "                predAB = val_pred[6].cpu().numpy().transpose(1, 2, 0)\n",
    "                realImg = (np.concatenate((L, realAB), axis=2) * 255).astype(np.uint8)\n",
    "                fakeImg = (np.concatenate((L, predAB), axis=2) * 255).astype(np.uint8)\n",
    "                # opencv 用 datatype 判斷圖片\n",
    "                realImg = cv2.cvtColor(realImg, cv2.COLOR_LAB2BGR)\n",
    "                fakeImg = cv2.cvtColor(fakeImg, cv2.COLOR_LAB2BGR) \n",
    "                #print(realImg)\n",
    "                #plt.imshow(realImg)\n",
    "                #plt.show()\n",
    "                cv2.imwrite(str(epoch + 1) + \"_real\" + \".png\"  , realImg)\n",
    "                cv2.imwrite(str(epoch + 1) + \"_fake\" + \".png\"  , fakeImg)\n",
    "            val_acc += np.sum(np.argmax(val_pred.cpu().data.numpy(), axis=1) == data[1].numpy())\n",
    "            val_loss += batch_loss.item()\n",
    "        \n",
    "        # 只 save parameters (建議的方式)\n",
    "        torch.save(model.state_dict(), str(epoch + 1) + \"_res_model\")\n",
    "        \n",
    "        #if val_loss < best_val_loss:\n",
    "        #    best_val_loss = val_loss\n",
    "        #    torch.save(model, \"best_model\")\n",
    "        #將結果 print 出來\n",
    "        print('[%03d/%03d] %2.2f sec(s) Train Acc: %3.6f Loss: %3.6f | Val Acc: %3.6f loss: %3.6f | time to load: %2.2f' % \\\n",
    "            (epoch + 1, num_epoch, time.time()-epoch_start_time, \\\n",
    "             train_acc/train_set.__len__(), train_loss/train_set.__len__(), val_acc/val_set.__len__(), val_loss/val_set.__len__(), t_data))\n",
    "        \n",
    "        train_loss_history.append(train_loss/train_set.__len__())\n",
    "        val_loss_history.append(val_loss/val_set.__len__())\n",
    "        "
   ]
  },
  {
   "cell_type": "code",
   "execution_count": 13,
   "metadata": {},
   "outputs": [
    {
     "data": {
      "text/plain": [
       "[<matplotlib.lines.Line2D at 0x2b4cd28b108>]"
      ]
     },
     "execution_count": 13,
     "metadata": {},
     "output_type": "execute_result"
    },
    {
     "data": {
      "image/png": "[encoded data removed]",
      "text/plain": [
       "<Figure size 432x288 with 1 Axes>"
      ]
     },
     "metadata": {
      "needs_background": "light"
     },
     "output_type": "display_data"
    }
   ],
   "source": [
    "plt.plot(range(len(train_loss_history)), train_loss_history)\n",
    "plt.plot(range(len(val_loss_history)), val_loss_history)"
   ]
  },
  {
   "cell_type": "code",
   "execution_count": 14,
   "metadata": {},
   "outputs": [],
   "source": [
    "np.save(\"res_stage1_train_loss\", np.array(train_loss_history))\n",
    "np.save(\"res_stage1_val_loss\", np.array(val_loss_history))"
   ]
  },
  {
   "cell_type": "code",
   "execution_count": 15,
   "metadata": {},
   "outputs": [
    {
     "name": "stderr",
     "output_type": "stream",
     "text": [
      "  0%|                                                                                         | 0/4167 [00:00<?, ?it/s]C:\\Users\\USER\\Miniconda3\\envs\\testJ\\lib\\site-packages\\ipykernel_launcher.py:39: DeprecationWarning: elementwise comparison failed; this will raise an error in the future.\n",
      "100%|██████████████████████████████████████████████████████████████████████████████| 4167/4167 [33:15<00:00,  2.09it/s]\n",
      "C:\\Users\\USER\\Miniconda3\\envs\\testJ\\lib\\site-packages\\ipykernel_launcher.py:66: DeprecationWarning: elementwise comparison failed; this will raise an error in the future.\n",
      "  0%|                                                                                         | 0/4167 [00:00<?, ?it/s]"
     ]
    },
    {
     "name": "stdout",
     "output_type": "stream",
     "text": [
      "[001/100] 2032.91 sec(s) Train Acc: 0.000000 Loss: 0.091295 | Val Acc: 0.000000 loss: 0.105469 | time to load: 1995.24\n"
     ]
    },
    {
     "name": "stderr",
     "output_type": "stream",
     "text": [
      "100%|██████████████████████████████████████████████████████████████████████████████| 4167/4167 [32:58<00:00,  2.11it/s]\n",
      "  0%|                                                                                         | 0/4167 [00:00<?, ?it/s]"
     ]
    },
    {
     "name": "stdout",
     "output_type": "stream",
     "text": [
      "[002/100] 2015.20 sec(s) Train Acc: 0.000000 Loss: 0.091282 | Val Acc: 0.000000 loss: 0.106860 | time to load: 1977.73\n"
     ]
    },
    {
     "name": "stderr",
     "output_type": "stream",
     "text": [
      "100%|██████████████████████████████████████████████████████████████████████████████| 4167/4167 [32:57<00:00,  2.11it/s]\n",
      "  0%|                                                                                         | 0/4167 [00:00<?, ?it/s]"
     ]
    },
    {
     "name": "stdout",
     "output_type": "stream",
     "text": [
      "[003/100] 2015.00 sec(s) Train Acc: 0.000000 Loss: 0.091265 | Val Acc: 0.000000 loss: 0.106307 | time to load: 1977.57\n"
     ]
    },
    {
     "name": "stderr",
     "output_type": "stream",
     "text": [
      "100%|██████████████████████████████████████████████████████████████████████████████| 4167/4167 [32:58<00:00,  2.11it/s]\n",
      "  0%|                                                                                         | 0/4167 [00:00<?, ?it/s]"
     ]
    },
    {
     "name": "stdout",
     "output_type": "stream",
     "text": [
      "[004/100] 2015.74 sec(s) Train Acc: 0.000000 Loss: 0.091280 | Val Acc: 0.000000 loss: 0.107763 | time to load: 1978.13\n"
     ]
    },
    {
     "name": "stderr",
     "output_type": "stream",
     "text": [
      "100%|██████████████████████████████████████████████████████████████████████████████| 4167/4167 [32:59<00:00,  2.11it/s]\n",
      "  0%|                                                                                         | 0/4167 [00:00<?, ?it/s]"
     ]
    },
    {
     "name": "stdout",
     "output_type": "stream",
     "text": [
      "[005/100] 2016.46 sec(s) Train Acc: 0.000000 Loss: 0.091279 | Val Acc: 0.000000 loss: 0.105925 | time to load: 1978.83\n"
     ]
    },
    {
     "name": "stderr",
     "output_type": "stream",
     "text": [
      "100%|██████████████████████████████████████████████████████████████████████████████| 4167/4167 [33:00<00:00,  2.10it/s]\n",
      "  0%|                                                                                         | 0/4167 [00:00<?, ?it/s]"
     ]
    },
    {
     "name": "stdout",
     "output_type": "stream",
     "text": [
      "[006/100] 2017.55 sec(s) Train Acc: 0.000000 Loss: 0.091275 | Val Acc: 0.000000 loss: 0.107909 | time to load: 1979.77\n"
     ]
    },
    {
     "name": "stderr",
     "output_type": "stream",
     "text": [
      "100%|██████████████████████████████████████████████████████████████████████████████| 4167/4167 [33:03<00:00,  2.10it/s]\n",
      "  0%|                                                                                         | 0/4167 [00:00<?, ?it/s]"
     ]
    },
    {
     "name": "stdout",
     "output_type": "stream",
     "text": [
      "[007/100] 2021.18 sec(s) Train Acc: 0.000000 Loss: 0.091246 | Val Acc: 0.000000 loss: 0.105513 | time to load: 1983.34\n"
     ]
    },
    {
     "name": "stderr",
     "output_type": "stream",
     "text": [
      "100%|██████████████████████████████████████████████████████████████████████████████| 4167/4167 [33:04<00:00,  2.10it/s]\n",
      "  0%|                                                                                         | 0/4167 [00:00<?, ?it/s]"
     ]
    },
    {
     "name": "stdout",
     "output_type": "stream",
     "text": [
      "[008/100] 2021.48 sec(s) Train Acc: 0.000000 Loss: 0.091269 | Val Acc: 0.000000 loss: 0.108815 | time to load: 1983.73\n"
     ]
    },
    {
     "name": "stderr",
     "output_type": "stream",
     "text": [
      "100%|██████████████████████████████████████████████████████████████████████████████| 4167/4167 [33:04<00:00,  2.10it/s]\n",
      "  0%|                                                                                         | 0/4167 [00:00<?, ?it/s]"
     ]
    },
    {
     "name": "stdout",
     "output_type": "stream",
     "text": [
      "[009/100] 2021.75 sec(s) Train Acc: 0.000000 Loss: 0.091247 | Val Acc: 0.000000 loss: 0.107739 | time to load: 1984.03\n"
     ]
    },
    {
     "name": "stderr",
     "output_type": "stream",
     "text": [
      "100%|██████████████████████████████████████████████████████████████████████████████| 4167/4167 [33:03<00:00,  2.10it/s]\n",
      "  0%|                                                                                         | 0/4167 [00:00<?, ?it/s]"
     ]
    },
    {
     "name": "stdout",
     "output_type": "stream",
     "text": [
      "[010/100] 2021.01 sec(s) Train Acc: 0.000000 Loss: 0.091290 | Val Acc: 0.000000 loss: 0.106756 | time to load: 1983.40\n"
     ]
    },
    {
     "name": "stderr",
     "output_type": "stream",
     "text": [
      "100%|██████████████████████████████████████████████████████████████████████████████| 4167/4167 [33:04<00:00,  2.10it/s]\n",
      "  0%|                                                                                         | 0/4167 [00:00<?, ?it/s]"
     ]
    },
    {
     "name": "stdout",
     "output_type": "stream",
     "text": [
      "[011/100] 2021.85 sec(s) Train Acc: 0.000000 Loss: 0.091284 | Val Acc: 0.000000 loss: 0.108760 | time to load: 1984.15\n"
     ]
    },
    {
     "name": "stderr",
     "output_type": "stream",
     "text": [
      "100%|██████████████████████████████████████████████████████████████████████████████| 4167/4167 [33:04<00:00,  2.10it/s]\n",
      "  0%|                                                                                         | 0/4167 [00:00<?, ?it/s]"
     ]
    },
    {
     "name": "stdout",
     "output_type": "stream",
     "text": [
      "[012/100] 2021.96 sec(s) Train Acc: 0.000000 Loss: 0.091268 | Val Acc: 0.000000 loss: 0.105160 | time to load: 1984.27\n"
     ]
    },
    {
     "name": "stderr",
     "output_type": "stream",
     "text": [
      "100%|██████████████████████████████████████████████████████████████████████████████| 4167/4167 [33:04<00:00,  2.10it/s]\n",
      "  0%|                                                                                         | 0/4167 [00:00<?, ?it/s]"
     ]
    },
    {
     "name": "stdout",
     "output_type": "stream",
     "text": [
      "[013/100] 2021.59 sec(s) Train Acc: 0.000000 Loss: 0.091210 | Val Acc: 0.000000 loss: 0.105540 | time to load: 1983.91\n"
     ]
    },
    {
     "name": "stderr",
     "output_type": "stream",
     "text": [
      "100%|██████████████████████████████████████████████████████████████████████████████| 4167/4167 [33:05<00:00,  2.10it/s]\n",
      "  0%|                                                                                         | 0/4167 [00:00<?, ?it/s]"
     ]
    },
    {
     "name": "stdout",
     "output_type": "stream",
     "text": [
      "[014/100] 2022.44 sec(s) Train Acc: 0.000000 Loss: 0.091251 | Val Acc: 0.000000 loss: 0.106034 | time to load: 1984.91\n"
     ]
    },
    {
     "name": "stderr",
     "output_type": "stream",
     "text": [
      "100%|██████████████████████████████████████████████████████████████████████████████| 4167/4167 [33:05<00:00,  2.10it/s]\n",
      "  0%|                                                                                         | 0/4167 [00:00<?, ?it/s]"
     ]
    },
    {
     "name": "stdout",
     "output_type": "stream",
     "text": [
      "[015/100] 2022.93 sec(s) Train Acc: 0.000000 Loss: 0.091275 | Val Acc: 0.000000 loss: 0.108808 | time to load: 1985.37\n"
     ]
    },
    {
     "name": "stderr",
     "output_type": "stream",
     "text": [
      "100%|██████████████████████████████████████████████████████████████████████████████| 4167/4167 [33:04<00:00,  2.10it/s]\n",
      "  0%|                                                                                         | 0/4167 [00:00<?, ?it/s]"
     ]
    },
    {
     "name": "stdout",
     "output_type": "stream",
     "text": [
      "[016/100] 2021.84 sec(s) Train Acc: 0.000000 Loss: 0.091264 | Val Acc: 0.000000 loss: 0.106422 | time to load: 1984.28\n"
     ]
    },
    {
     "name": "stderr",
     "output_type": "stream",
     "text": [
      " 55%|██████████████████████████████████████████▊                                   | 2287/4167 [18:11<14:57,  2.09it/s]\n"
     ]
    },
    {
     "ename": "KeyboardInterrupt",
     "evalue": "",
     "output_type": "error",
     "traceback": [
      "\u001b[1;31m---------------------------------------------------------------------------\u001b[0m",
      "\u001b[1;31mKeyboardInterrupt\u001b[0m                         Traceback (most recent call last)",
      "\u001b[1;32m<ipython-input-15-2e369d11de62>\u001b[0m in \u001b[0;36m<module>\u001b[1;34m\u001b[0m\n\u001b[0;32m     30\u001b[0m \u001b[1;33m\u001b[0m\u001b[0m\n\u001b[0;32m     31\u001b[0m         \u001b[1;31m# 計算 loss （注意 prediction 跟 label 必須同時在 CPU 或是 GPU 上）\u001b[0m\u001b[1;33m\u001b[0m\u001b[1;33m\u001b[0m\u001b[1;33m\u001b[0m\u001b[0m\n\u001b[1;32m---> 32\u001b[1;33m         \u001b[0mloss_L1_reg\u001b[0m \u001b[1;33m=\u001b[0m \u001b[0mlossL1\u001b[0m\u001b[1;33m(\u001b[0m\u001b[0mtrain_pred\u001b[0m\u001b[1;33m.\u001b[0m\u001b[0mtype\u001b[0m\u001b[1;33m(\u001b[0m\u001b[0mtorch\u001b[0m\u001b[1;33m.\u001b[0m\u001b[0mcuda\u001b[0m\u001b[1;33m.\u001b[0m\u001b[0mFloatTensor\u001b[0m\u001b[1;33m)\u001b[0m\u001b[1;33m,\u001b[0m \u001b[0mdata\u001b[0m\u001b[1;33m[\u001b[0m\u001b[1;36m1\u001b[0m\u001b[1;33m]\u001b[0m\u001b[1;33m.\u001b[0m\u001b[0mtype\u001b[0m\u001b[1;33m(\u001b[0m\u001b[0mtorch\u001b[0m\u001b[1;33m.\u001b[0m\u001b[0mcuda\u001b[0m\u001b[1;33m.\u001b[0m\u001b[0mFloatTensor\u001b[0m\u001b[1;33m)\u001b[0m\u001b[1;33m.\u001b[0m\u001b[0mcuda\u001b[0m\u001b[1;33m(\u001b[0m\u001b[1;33m)\u001b[0m\u001b[1;33m)\u001b[0m\u001b[1;33m\u001b[0m\u001b[1;33m\u001b[0m\u001b[0m\n\u001b[0m\u001b[0;32m     33\u001b[0m         \u001b[0mloss_CE\u001b[0m \u001b[1;33m=\u001b[0m \u001b[0mlossCE\u001b[0m\u001b[1;33m(\u001b[0m\u001b[0mpred_class\u001b[0m\u001b[1;33m.\u001b[0m\u001b[0mtype\u001b[0m\u001b[1;33m(\u001b[0m\u001b[0mtorch\u001b[0m\u001b[1;33m.\u001b[0m\u001b[0mcuda\u001b[0m\u001b[1;33m.\u001b[0m\u001b[0mFloatTensor\u001b[0m\u001b[1;33m)\u001b[0m\u001b[1;33m,\u001b[0m \u001b[0mreal_B_enc\u001b[0m\u001b[1;33m[\u001b[0m\u001b[1;33m:\u001b[0m\u001b[1;33m,\u001b[0m \u001b[1;36m0\u001b[0m\u001b[1;33m,\u001b[0m \u001b[1;33m:\u001b[0m\u001b[1;33m,\u001b[0m \u001b[1;33m:\u001b[0m\u001b[1;33m]\u001b[0m\u001b[1;33m.\u001b[0m\u001b[0mtype\u001b[0m\u001b[1;33m(\u001b[0m\u001b[0mtorch\u001b[0m\u001b[1;33m.\u001b[0m\u001b[0mcuda\u001b[0m\u001b[1;33m.\u001b[0m\u001b[0mLongTensor\u001b[0m\u001b[1;33m)\u001b[0m\u001b[1;33m.\u001b[0m\u001b[0mcuda\u001b[0m\u001b[1;33m(\u001b[0m\u001b[1;33m)\u001b[0m\u001b[1;33m)\u001b[0m\u001b[1;33m\u001b[0m\u001b[1;33m\u001b[0m\u001b[0m\n\u001b[0;32m     34\u001b[0m         \u001b[1;31m# 自動 one-hot encoding\u001b[0m\u001b[1;33m\u001b[0m\u001b[1;33m\u001b[0m\u001b[1;33m\u001b[0m\u001b[0m\n",
      "\u001b[1;31mKeyboardInterrupt\u001b[0m: "
     ]
    }
   ],
   "source": [
    "# train regression\n",
    "PATH = \"./100_res_model\"\n",
    "\n",
    "optimizer = torch.optim.Adam(model.parameters(), lr=0.00001, betas=(0.9, 0.999), eps=1e-08, weight_decay=0, amsgrad=False)\n",
    "num_epoch = 15\n",
    "model = resUnet(in_channels=1, out_channels=2, classification=False).cuda()\n",
    "model.load_state_dict(torch.load(PATH))\n",
    "\n",
    "\n",
    "for epoch in range(num_epoch):\n",
    "    epoch_start_time = time.time()\n",
    "    iter_data_time = time.time()\n",
    "    train_acc = 0.0\n",
    "    train_loss = 0.0\n",
    "    val_acc = 0.0\n",
    "    val_loss = 0.0\n",
    "    \n",
    "    model.train() # 確保 model 是在 train model (開啟 Dropout 等...)\n",
    "    for i, data in enumerate(tqdm(train_loader)):\n",
    "        iter_start_time = time.time()\n",
    "        # time to load data\n",
    "        t_data = iter_start_time - iter_data_time\n",
    "\n",
    "        # 確保歸零，不然會累積\n",
    "        optimizer.zero_grad() # 用 optimizer 將 model 參數的 gradient 歸零\n",
    "        pred_class, train_pred = model(data[0].cuda()) # 利用 model 得到預測的機率分佈 這邊實際上就是去呼叫 model 的 forward 函數\n",
    "        #print(train_pred.size(), data[1].size())\n",
    "        \n",
    "        real_B_enc = encode_ab_ind(data[1][:, :, ::4, ::4])\n",
    "        \n",
    "        # 計算 loss （注意 prediction 跟 label 必須同時在 CPU 或是 GPU 上）\n",
    "        loss_L1_reg = lossL1(train_pred.type(torch.cuda.FloatTensor), data[1].type(torch.cuda.FloatTensor).cuda())\n",
    "        loss_CE = lossCE(pred_class.type(torch.cuda.FloatTensor), real_B_enc[:, 0, :, :].type(torch.cuda.LongTensor).cuda())\n",
    "        # 自動 one-hot encoding\n",
    "        batch_loss = loss_L1_reg + loss_CE\n",
    "        batch_loss.backward() # 利用 back propagation 算出每個參數的 gradient\n",
    "        optimizer.step() # 以 optimizer 用 gradient 更新參數值\n",
    "\n",
    "        train_acc += np.sum(np.argmax(train_pred.cpu().data.numpy(), axis=1) == data[1].numpy())\n",
    "        train_loss += batch_loss.item()\n",
    "    \n",
    "    model.eval() #model 變成測試模式\n",
    "    with torch.no_grad():\n",
    "        for i, data in enumerate(val_loader):\n",
    "            pred_class, val_pred = model(data[0].cuda())\n",
    "            #batch_loss = loss(val_pred, data[1].cuda())\n",
    "            real_B_enc = encode_ab_ind(data[1][:, :, ::4, ::4])\n",
    "            loss_L1_reg = lossL1(val_pred.type(torch.cuda.FloatTensor), data[1].type(torch.cuda.FloatTensor).cuda())\n",
    "            loss_CE = lossCE(pred_class.type(torch.cuda.FloatTensor), real_B_enc[:, 0, :, :].type(torch.cuda.LongTensor).cuda())\n",
    "            batch_loss = loss_L1_reg + loss_CE\n",
    "            \n",
    "            if(i == 1):\n",
    "                L = data[0][6].cpu().numpy().transpose(1, 2, 0)\n",
    "                realAB = data[1][6].cpu().numpy().transpose(1, 2, 0)\n",
    "                predAB = val_pred[6].cpu().numpy().transpose(1, 2, 0)\n",
    "                realImg = (np.concatenate((L, realAB), axis=2) * 255).astype(np.uint8)\n",
    "                fakeImg = (np.concatenate((L, predAB), axis=2) * 255).astype(np.uint8)\n",
    "                # opencv 用 datatype 判斷圖片\n",
    "                realImg = cv2.cvtColor(realImg, cv2.COLOR_LAB2BGR)\n",
    "                fakeImg = cv2.cvtColor(fakeImg, cv2.COLOR_LAB2BGR) \n",
    "                #print(realImg)\n",
    "                #plt.imshow(realImg)\n",
    "                #plt.show()\n",
    "                cv2.imwrite(str(epoch + 1) + \"_stage2_real\" + \".png\"  , realImg)\n",
    "                cv2.imwrite(str(epoch + 1) + \"_stage2_fake\" + \".png\"  , fakeImg)\n",
    "            val_acc += np.sum(np.argmax(val_pred.cpu().data.numpy(), axis=1) == data[1].numpy())\n",
    "            val_loss += batch_loss.item()\n",
    "        \n",
    "        # 只 save parameters (建議的方式)\n",
    "        torch.save(model.state_dict(), str(epoch + 1) +  \"_stage2_res_model\")\n",
    "        \n",
    "        #if val_loss < best_val_loss:\n",
    "        #    best_val_loss = val_loss\n",
    "        #    torch.save(model, \"best_model\")\n",
    "        #將結果 print 出來\n",
    "        print('[%03d/%03d] %2.2f sec(s) Train Acc: %3.6f Loss: %3.6f | Val Acc: %3.6f loss: %3.6f | time to load: %2.2f' % \\\n",
    "            (epoch + 1, num_epoch, time.time()-epoch_start_time, \\\n",
    "             train_acc/train_set.__len__(), train_loss/train_set.__len__(), val_acc/val_set.__len__(), val_loss/val_set.__len__(), t_data))\n",
    "        \n",
    "        train_loss_history.append(train_loss/train_set.__len__())\n",
    "        val_loss_history.append(val_loss/val_set.__len__())"
   ]
  },
  {
   "cell_type": "code",
   "execution_count": 16,
   "metadata": {},
   "outputs": [
    {
     "data": {
      "text/plain": [
       "[<matplotlib.lines.Line2D at 0x2af9d9be4c8>]"
      ]
     },
     "execution_count": 16,
     "metadata": {},
     "output_type": "execute_result"
    },
    {
     "data": {
      "image/png": "[encoded data removed]",
      "text/plain": [
       "<Figure size 432x288 with 1 Axes>"
      ]
     },
     "metadata": {
      "needs_background": "light"
     },
     "output_type": "display_data"
    }
   ],
   "source": [
    "plt.plot(range(len(train_loss_history)), train_loss_history)\n",
    "plt.plot(range(len(val_loss_history)), val_loss_history)"
   ]
  },
  {
   "cell_type": "code",
   "execution_count": 19,
   "metadata": {},
   "outputs": [],
   "source": [
    "np.save(\"./stage2/res_stage2_train_loss\", np.array(train_loss_history))\n",
    "np.save(\"./stage2/res_stage2_val_loss\", np.array(val_loss_history))"
   ]
  },
  {
   "cell_type": "code",
   "execution_count": 15,
   "metadata": {},
   "outputs": [],
   "source": [
    "\"\"\"\n",
    "    stage 3\n",
    "\"\"\"\n",
    "train_loss_history = list(np.load('./stage2/res_stage2_train_loss.npy')) #back to list\n",
    "val_loss_history = list(np.load('./stage2/res_stage2_val_loss.npy'))"
   ]
  },
  {
   "cell_type": "code",
   "execution_count": 16,
   "metadata": {},
   "outputs": [
    {
     "name": "stderr",
     "output_type": "stream",
     "text": [
      "  0%|                                                                                         | 0/4167 [00:00<?, ?it/s]C:\\Users\\USER\\Miniconda3\\envs\\testJ\\lib\\site-packages\\ipykernel_launcher.py:41: DeprecationWarning: elementwise comparison failed; this will raise an error in the future.\n",
      "100%|██████████████████████████████████████████████████████████████████████████████| 4167/4167 [33:12<00:00,  2.09it/s]\n",
      "C:\\Users\\USER\\Miniconda3\\envs\\testJ\\lib\\site-packages\\ipykernel_launcher.py:68: DeprecationWarning: elementwise comparison failed; this will raise an error in the future.\n",
      "  0%|                                                                                         | 0/4167 [00:00<?, ?it/s]"
     ]
    },
    {
     "name": "stdout",
     "output_type": "stream",
     "text": [
      "[001/005] 2029.85 sec(s) Train Acc: 0.000000 Loss: 0.091222 | Val Acc: 0.000000 loss: 0.106256 | time to load: 1991.97\n"
     ]
    },
    {
     "name": "stderr",
     "output_type": "stream",
     "text": [
      "100%|██████████████████████████████████████████████████████████████████████████████| 4167/4167 [34:55<00:00,  1.99it/s]\n",
      "  0%|                                                                                         | 0/4167 [00:00<?, ?it/s]"
     ]
    },
    {
     "name": "stdout",
     "output_type": "stream",
     "text": [
      "[002/005] 2136.09 sec(s) Train Acc: 0.000000 Loss: 0.091295 | Val Acc: 0.000000 loss: 0.106511 | time to load: 2095.25\n"
     ]
    },
    {
     "name": "stderr",
     "output_type": "stream",
     "text": [
      "100%|██████████████████████████████████████████████████████████████████████████████| 4167/4167 [35:49<00:00,  1.94it/s]\n",
      "  0%|                                                                                         | 0/4167 [00:00<?, ?it/s]"
     ]
    },
    {
     "name": "stdout",
     "output_type": "stream",
     "text": [
      "[003/005] 2189.87 sec(s) Train Acc: 0.000000 Loss: 0.091208 | Val Acc: 0.000000 loss: 0.107181 | time to load: 2149.17\n"
     ]
    },
    {
     "name": "stderr",
     "output_type": "stream",
     "text": [
      "100%|██████████████████████████████████████████████████████████████████████████████| 4167/4167 [35:50<00:00,  1.94it/s]\n",
      "  0%|                                                                                         | 0/4167 [00:00<?, ?it/s]"
     ]
    },
    {
     "name": "stdout",
     "output_type": "stream",
     "text": [
      "[004/005] 2191.16 sec(s) Train Acc: 0.000000 Loss: 0.091231 | Val Acc: 0.000000 loss: 0.108392 | time to load: 2150.40\n"
     ]
    },
    {
     "name": "stderr",
     "output_type": "stream",
     "text": [
      "100%|██████████████████████████████████████████████████████████████████████████████| 4167/4167 [35:51<00:00,  1.94it/s]\n"
     ]
    },
    {
     "name": "stdout",
     "output_type": "stream",
     "text": [
      "[005/005] 2191.90 sec(s) Train Acc: 0.000000 Loss: 0.091285 | Val Acc: 0.000000 loss: 0.108271 | time to load: 2151.10\n"
     ]
    }
   ],
   "source": [
    "# train regression\n",
    "localPath = \"./stage3/\"\n",
    "PATH = \"./stage2/16_stage2_res_model\"\n",
    "\n",
    "# lr = 1e-6\n",
    "optimizer = torch.optim.Adam(model.parameters(), lr=0.000001, betas=(0.9, 0.999), eps=1e-08, weight_decay=0, amsgrad=False)\n",
    "num_epoch = 5\n",
    "model = resUnet(in_channels=1, out_channels=2, classification=False).cuda()\n",
    "model.load_state_dict(torch.load(PATH))\n",
    "\n",
    "\n",
    "for epoch in range(num_epoch):\n",
    "    epoch_start_time = time.time()\n",
    "    iter_data_time = time.time()\n",
    "    train_acc = 0.0\n",
    "    train_loss = 0.0\n",
    "    val_acc = 0.0\n",
    "    val_loss = 0.0\n",
    "    \n",
    "    model.train() # 確保 model 是在 train model (開啟 Dropout 等...)\n",
    "    for i, data in enumerate(tqdm(train_loader)):\n",
    "        iter_start_time = time.time()\n",
    "        # time to load data\n",
    "        t_data = iter_start_time - iter_data_time\n",
    "\n",
    "        # 確保歸零，不然會累積\n",
    "        optimizer.zero_grad() # 用 optimizer 將 model 參數的 gradient 歸零\n",
    "        pred_class, train_pred = model(data[0].cuda()) # 利用 model 得到預測的機率分佈 這邊實際上就是去呼叫 model 的 forward 函數\n",
    "        #print(train_pred.size(), data[1].size())\n",
    "        \n",
    "        real_B_enc = encode_ab_ind(data[1][:, :, ::4, ::4])\n",
    "        \n",
    "        # 計算 loss （注意 prediction 跟 label 必須同時在 CPU 或是 GPU 上）\n",
    "        loss_L1_reg = lossL1(train_pred.type(torch.cuda.FloatTensor), data[1].type(torch.cuda.FloatTensor).cuda())\n",
    "        loss_CE = lossCE(pred_class.type(torch.cuda.FloatTensor), real_B_enc[:, 0, :, :].type(torch.cuda.LongTensor).cuda())\n",
    "        # 自動 one-hot encoding\n",
    "        batch_loss = loss_L1_reg + loss_CE\n",
    "        batch_loss.backward() # 利用 back propagation 算出每個參數的 gradient\n",
    "        optimizer.step() # 以 optimizer 用 gradient 更新參數值\n",
    "\n",
    "        train_acc += np.sum(np.argmax(train_pred.cpu().data.numpy(), axis=1) == data[1].numpy())\n",
    "        train_loss += batch_loss.item()\n",
    "    \n",
    "    model.eval() #model 變成測試模式\n",
    "    with torch.no_grad():\n",
    "        for i, data in enumerate(val_loader):\n",
    "            pred_class, val_pred = model(data[0].cuda())\n",
    "            #batch_loss = loss(val_pred, data[1].cuda())\n",
    "            real_B_enc = encode_ab_ind(data[1][:, :, ::4, ::4])\n",
    "            loss_L1_reg = lossL1(val_pred.type(torch.cuda.FloatTensor), data[1].type(torch.cuda.FloatTensor).cuda())\n",
    "            loss_CE = lossCE(pred_class.type(torch.cuda.FloatTensor), real_B_enc[:, 0, :, :].type(torch.cuda.LongTensor).cuda())\n",
    "            batch_loss = loss_L1_reg + loss_CE\n",
    "            \n",
    "            if(i == 1):\n",
    "                L = data[0][6].cpu().numpy().transpose(1, 2, 0)\n",
    "                realAB = data[1][6].cpu().numpy().transpose(1, 2, 0)\n",
    "                predAB = val_pred[6].cpu().numpy().transpose(1, 2, 0)\n",
    "                realImg = (np.concatenate((L, realAB), axis=2) * 255).astype(np.uint8)\n",
    "                fakeImg = (np.concatenate((L, predAB), axis=2) * 255).astype(np.uint8)\n",
    "                # opencv 用 datatype 判斷圖片\n",
    "                realImg = cv2.cvtColor(realImg, cv2.COLOR_LAB2BGR)\n",
    "                fakeImg = cv2.cvtColor(fakeImg, cv2.COLOR_LAB2BGR) \n",
    "                #print(realImg)\n",
    "                #plt.imshow(realImg)\n",
    "                #plt.show()\n",
    "                cv2.imwrite(localPath + str(epoch + 1) + \"_stage3_real\" + \".png\"  , realImg)\n",
    "                cv2.imwrite(localPath + str(epoch + 1) + \"_stage3_fake\" + \".png\"  , fakeImg)\n",
    "            val_acc += np.sum(np.argmax(val_pred.cpu().data.numpy(), axis=1) == data[1].numpy())\n",
    "            val_loss += batch_loss.item()\n",
    "        \n",
    "        # 只 save parameters (建議的方式)\n",
    "        torch.save(model.state_dict(), localPath + str(epoch + 1) +  \"_stage3_res_model\")\n",
    "        \n",
    "        #if val_loss < best_val_loss:\n",
    "        #    best_val_loss = val_loss\n",
    "        #    torch.save(model, \"best_model\")\n",
    "        #將結果 print 出來\n",
    "        print('[%03d/%03d] %2.2f sec(s) Train Acc: %3.6f Loss: %3.6f | Val Acc: %3.6f loss: %3.6f | time to load: %2.2f' % \\\n",
    "            (epoch + 1, num_epoch, time.time()-epoch_start_time, \\\n",
    "             train_acc/train_set.__len__(), train_loss/train_set.__len__(), val_acc/val_set.__len__(), val_loss/val_set.__len__(), t_data))\n",
    "        \n",
    "        train_loss_history.append(train_loss/train_set.__len__())\n",
    "        val_loss_history.append(val_loss/val_set.__len__())"
   ]
  },
  {
   "cell_type": "code",
   "execution_count": 17,
   "metadata": {},
   "outputs": [
    {
     "data": {
      "text/plain": [
       "[<matplotlib.lines.Line2D at 0x24b48c47f08>]"
      ]
     },
     "execution_count": 17,
     "metadata": {},
     "output_type": "execute_result"
    },
    {
     "data": {
      "image/png": "[encoded data removed]",
      "text/plain": [
       "<Figure size 432x288 with 1 Axes>"
      ]
     },
     "metadata": {
      "needs_background": "light"
     },
     "output_type": "display_data"
    }
   ],
   "source": [
    "plt.plot(range(len(train_loss_history)), train_loss_history)\n",
    "plt.plot(range(len(val_loss_history)), val_loss_history)"
   ]
  },
  {
   "cell_type": "code",
   "execution_count": 23,
   "metadata": {},
   "outputs": [
    {
     "ename": "IndexError",
     "evalue": "index 8 is out of bounds for dimension 0 with size 8",
     "output_type": "error",
     "traceback": [
      "\u001b[1;31m---------------------------------------------------------------------------\u001b[0m",
      "\u001b[1;31mIndexError\u001b[0m                                Traceback (most recent call last)",
      "\u001b[1;32m<ipython-input-23-eed32fbf0412>\u001b[0m in \u001b[0;36m<module>\u001b[1;34m\u001b[0m\n\u001b[0;32m     37\u001b[0m \u001b[1;33m\u001b[0m\u001b[0m\n\u001b[0;32m     38\u001b[0m         \u001b[1;32mfor\u001b[0m \u001b[0mj\u001b[0m \u001b[1;32min\u001b[0m \u001b[0mrange\u001b[0m\u001b[1;33m(\u001b[0m\u001b[0mbatch_size\u001b[0m\u001b[1;33m)\u001b[0m\u001b[1;33m:\u001b[0m\u001b[1;33m\u001b[0m\u001b[1;33m\u001b[0m\u001b[0m\n\u001b[1;32m---> 39\u001b[1;33m             \u001b[0mL\u001b[0m \u001b[1;33m=\u001b[0m \u001b[0mdata\u001b[0m\u001b[1;33m[\u001b[0m\u001b[1;36m0\u001b[0m\u001b[1;33m]\u001b[0m\u001b[1;33m[\u001b[0m\u001b[0mj\u001b[0m\u001b[1;33m]\u001b[0m\u001b[1;33m.\u001b[0m\u001b[0mcpu\u001b[0m\u001b[1;33m(\u001b[0m\u001b[1;33m)\u001b[0m\u001b[1;33m.\u001b[0m\u001b[0mnumpy\u001b[0m\u001b[1;33m(\u001b[0m\u001b[1;33m)\u001b[0m\u001b[1;33m.\u001b[0m\u001b[0mtranspose\u001b[0m\u001b[1;33m(\u001b[0m\u001b[1;36m1\u001b[0m\u001b[1;33m,\u001b[0m \u001b[1;36m2\u001b[0m\u001b[1;33m,\u001b[0m \u001b[1;36m0\u001b[0m\u001b[1;33m)\u001b[0m\u001b[1;33m\u001b[0m\u001b[1;33m\u001b[0m\u001b[0m\n\u001b[0m\u001b[0;32m     40\u001b[0m             \u001b[0mpredAB\u001b[0m \u001b[1;33m=\u001b[0m \u001b[0mval_pred\u001b[0m\u001b[1;33m[\u001b[0m\u001b[0mj\u001b[0m\u001b[1;33m]\u001b[0m\u001b[1;33m.\u001b[0m\u001b[0mcpu\u001b[0m\u001b[1;33m(\u001b[0m\u001b[1;33m)\u001b[0m\u001b[1;33m.\u001b[0m\u001b[0mnumpy\u001b[0m\u001b[1;33m(\u001b[0m\u001b[1;33m)\u001b[0m\u001b[1;33m.\u001b[0m\u001b[0mtranspose\u001b[0m\u001b[1;33m(\u001b[0m\u001b[1;36m1\u001b[0m\u001b[1;33m,\u001b[0m \u001b[1;36m2\u001b[0m\u001b[1;33m,\u001b[0m \u001b[1;36m0\u001b[0m\u001b[1;33m)\u001b[0m\u001b[1;33m\u001b[0m\u001b[1;33m\u001b[0m\u001b[0m\n\u001b[0;32m     41\u001b[0m             \u001b[0mfakeImg\u001b[0m \u001b[1;33m=\u001b[0m \u001b[1;33m(\u001b[0m\u001b[0mnp\u001b[0m\u001b[1;33m.\u001b[0m\u001b[0mconcatenate\u001b[0m\u001b[1;33m(\u001b[0m\u001b[1;33m(\u001b[0m\u001b[0mL\u001b[0m\u001b[1;33m,\u001b[0m \u001b[0mpredAB\u001b[0m\u001b[1;33m)\u001b[0m\u001b[1;33m,\u001b[0m \u001b[0maxis\u001b[0m\u001b[1;33m=\u001b[0m\u001b[1;36m2\u001b[0m\u001b[1;33m)\u001b[0m \u001b[1;33m*\u001b[0m \u001b[1;36m255\u001b[0m\u001b[1;33m)\u001b[0m\u001b[1;33m.\u001b[0m\u001b[0mastype\u001b[0m\u001b[1;33m(\u001b[0m\u001b[0mnp\u001b[0m\u001b[1;33m.\u001b[0m\u001b[0muint8\u001b[0m\u001b[1;33m)\u001b[0m\u001b[1;33m\u001b[0m\u001b[1;33m\u001b[0m\u001b[0m\n",
      "\u001b[1;31mIndexError\u001b[0m: index 8 is out of bounds for dimension 0 with size 8"
     ]
    }
   ],
   "source": [
    "model.load_state_dict(torch.load(\"./stage1/60_res_model\"))\n",
    "\n",
    "model.eval() #model 變成測試模式\n",
    "#localPath = \"./result/\"\n",
    "localPath = \"./result2/\"\n",
    "indexCount = 0\n",
    "\n",
    "\n",
    "class valDataset(Dataset):\n",
    "    def __init__(self, x, y=None, transform=None):\n",
    "        self.x = x\n",
    "        # label is required to be a LongTensor\n",
    "        self.y = y\n",
    "\n",
    "        self.transform = transform\n",
    "    def __len__(self):\n",
    "        return len(self.x)\n",
    "    def __getitem__(self, index):\n",
    "        X = self.x[index]\n",
    "        Y = self.y[index]\n",
    "        if self.transform is not None:\n",
    "            X = self.transform(X)\n",
    "            Y = self.transform(Y)\n",
    "        return X, Y\n",
    "\n",
    "val_transform = transforms.Compose([\n",
    "    transforms.ToPILImage(),\n",
    "    transforms.ToTensor(),\n",
    "])\n",
    "\n",
    "val_set = valDataset(val_x, val_y, val_transform)\n",
    "val_loader = DataLoader(val_set, batch_size=batch_size, shuffle=False)\n",
    "\n",
    "with torch.no_grad():\n",
    "    for i, data in enumerate(val_loader):\n",
    "        pred_class, val_pred = model(data[0].cuda())\n",
    "\n",
    "        for j in range(batch_size):\n",
    "            L = data[0][j].cpu().numpy().transpose(1, 2, 0)\n",
    "            predAB = val_pred[j].cpu().numpy().transpose(1, 2, 0)\n",
    "            fakeImg = (np.concatenate((L, predAB), axis=2) * 255).astype(np.uint8)\n",
    "            # opencv 用 datatype 判斷圖片\n",
    "            fakeImg = cv2.cvtColor(fakeImg, cv2.COLOR_LAB2BGR) \n",
    "            #print(realImg)\n",
    "            #plt.imshow(realImg)\n",
    "            #plt.show()\n",
    "            cv2.imwrite(localPath + str(indexCount + 1) + \".png\"  , fakeImg)\n",
    "            indexCount += 1"
   ]
  },
  {
   "cell_type": "code",
   "execution_count": 15,
   "metadata": {},
   "outputs": [
    {
     "ename": "IndexError",
     "evalue": "index 8 is out of bounds for dimension 0 with size 8",
     "output_type": "error",
     "traceback": [
      "\u001b[1;31m---------------------------------------------------------------------------\u001b[0m",
      "\u001b[1;31mIndexError\u001b[0m                                Traceback (most recent call last)",
      "\u001b[1;32m<ipython-input-15-272b31722d4e>\u001b[0m in \u001b[0;36m<module>\u001b[1;34m\u001b[0m\n\u001b[0;32m     37\u001b[0m \u001b[1;33m\u001b[0m\u001b[0m\n\u001b[0;32m     38\u001b[0m         \u001b[1;32mfor\u001b[0m \u001b[0mj\u001b[0m \u001b[1;32min\u001b[0m \u001b[0mrange\u001b[0m\u001b[1;33m(\u001b[0m\u001b[0mbatch_size\u001b[0m\u001b[1;33m)\u001b[0m\u001b[1;33m:\u001b[0m\u001b[1;33m\u001b[0m\u001b[1;33m\u001b[0m\u001b[0m\n\u001b[1;32m---> 39\u001b[1;33m             \u001b[0mL\u001b[0m \u001b[1;33m=\u001b[0m \u001b[0mdata\u001b[0m\u001b[1;33m[\u001b[0m\u001b[1;36m0\u001b[0m\u001b[1;33m]\u001b[0m\u001b[1;33m[\u001b[0m\u001b[0mj\u001b[0m\u001b[1;33m]\u001b[0m\u001b[1;33m.\u001b[0m\u001b[0mcpu\u001b[0m\u001b[1;33m(\u001b[0m\u001b[1;33m)\u001b[0m\u001b[1;33m.\u001b[0m\u001b[0mnumpy\u001b[0m\u001b[1;33m(\u001b[0m\u001b[1;33m)\u001b[0m\u001b[1;33m.\u001b[0m\u001b[0mtranspose\u001b[0m\u001b[1;33m(\u001b[0m\u001b[1;36m1\u001b[0m\u001b[1;33m,\u001b[0m \u001b[1;36m2\u001b[0m\u001b[1;33m,\u001b[0m \u001b[1;36m0\u001b[0m\u001b[1;33m)\u001b[0m\u001b[1;33m\u001b[0m\u001b[1;33m\u001b[0m\u001b[0m\n\u001b[0m\u001b[0;32m     40\u001b[0m             \u001b[0mpredAB\u001b[0m \u001b[1;33m=\u001b[0m \u001b[0mval_pred\u001b[0m\u001b[1;33m[\u001b[0m\u001b[0mj\u001b[0m\u001b[1;33m]\u001b[0m\u001b[1;33m.\u001b[0m\u001b[0mcpu\u001b[0m\u001b[1;33m(\u001b[0m\u001b[1;33m)\u001b[0m\u001b[1;33m.\u001b[0m\u001b[0mnumpy\u001b[0m\u001b[1;33m(\u001b[0m\u001b[1;33m)\u001b[0m\u001b[1;33m.\u001b[0m\u001b[0mtranspose\u001b[0m\u001b[1;33m(\u001b[0m\u001b[1;36m1\u001b[0m\u001b[1;33m,\u001b[0m \u001b[1;36m2\u001b[0m\u001b[1;33m,\u001b[0m \u001b[1;36m0\u001b[0m\u001b[1;33m)\u001b[0m\u001b[1;33m\u001b[0m\u001b[1;33m\u001b[0m\u001b[0m\n\u001b[0;32m     41\u001b[0m             \u001b[0mfakeImg\u001b[0m \u001b[1;33m=\u001b[0m \u001b[1;33m(\u001b[0m\u001b[0mnp\u001b[0m\u001b[1;33m.\u001b[0m\u001b[0mconcatenate\u001b[0m\u001b[1;33m(\u001b[0m\u001b[1;33m(\u001b[0m\u001b[0mL\u001b[0m\u001b[1;33m,\u001b[0m \u001b[0mpredAB\u001b[0m\u001b[1;33m)\u001b[0m\u001b[1;33m,\u001b[0m \u001b[0maxis\u001b[0m\u001b[1;33m=\u001b[0m\u001b[1;36m2\u001b[0m\u001b[1;33m)\u001b[0m \u001b[1;33m*\u001b[0m \u001b[1;36m255\u001b[0m\u001b[1;33m)\u001b[0m\u001b[1;33m.\u001b[0m\u001b[0mastype\u001b[0m\u001b[1;33m(\u001b[0m\u001b[0mnp\u001b[0m\u001b[1;33m.\u001b[0m\u001b[0muint8\u001b[0m\u001b[1;33m)\u001b[0m\u001b[1;33m\u001b[0m\u001b[1;33m\u001b[0m\u001b[0m\n",
      "\u001b[1;31mIndexError\u001b[0m: index 8 is out of bounds for dimension 0 with size 8"
     ]
    }
   ],
   "source": [
    "#model.load_state_dict(torch.load(\"./stage3/5_stage3_res_model\"))\n",
    "model.load_state_dict(torch.load(\"./stage1/60_res_model\"))\n",
    "\n",
    "model.eval() #model 變成測試模式\n",
    "localPath = \"./test2/\"\n",
    "indexCount = 0\n",
    "batch_size = 32\n",
    "\n",
    "class valDataset(Dataset):\n",
    "    def __init__(self, x, y=None, transform=None):\n",
    "        self.x = x\n",
    "        # label is required to be a LongTensor\n",
    "        self.y = y\n",
    "\n",
    "        self.transform = transform\n",
    "    def __len__(self):\n",
    "        return len(self.x)\n",
    "    def __getitem__(self, index):\n",
    "        X = self.x[index]\n",
    "        Y = self.y[index]\n",
    "        if self.transform is not None:\n",
    "            X = self.transform(X)\n",
    "            Y = self.transform(Y)\n",
    "        return X, Y\n",
    "\n",
    "val_transform = transforms.Compose([\n",
    "    transforms.ToPILImage(),\n",
    "    transforms.ToTensor(),\n",
    "])\n",
    "\n",
    "val_set = valDataset( test_x ,  test_y , val_transform)\n",
    "val_loader = DataLoader(val_set, batch_size=batch_size, shuffle=False)\n",
    "\n",
    "with torch.no_grad():\n",
    "    for i, data in enumerate(val_loader):\n",
    "        pred_class, val_pred = model(data[0].cuda())\n",
    "\n",
    "        for j in range(batch_size):\n",
    "            L = data[0][j].cpu().numpy().transpose(1, 2, 0)\n",
    "            predAB = val_pred[j].cpu().numpy().transpose(1, 2, 0)\n",
    "            fakeImg = (np.concatenate((L, predAB), axis=2) * 255).astype(np.uint8)\n",
    "            # opencv 用 datatype 判斷圖片\n",
    "            fakeImg = cv2.cvtColor(fakeImg, cv2.COLOR_LAB2BGR) \n",
    "            #print(realImg)\n",
    "            #plt.imshow(realImg)\n",
    "            #plt.show()\n",
    "            cv2.imwrite(localPath + str(indexCount + 1) + \".png\"  , fakeImg)\n",
    "            indexCount += 1"
   ]
  },
  {
   "cell_type": "code",
   "execution_count": 11,
   "metadata": {},
   "outputs": [],
   "source": [
    "\"\"\"\n",
    "    Final Result\n",
    "\"\"\"\n",
    "def readPredResult(path, imgRow=256, imgCol=256):\n",
    "    # label 是 csv file 在 ./ 下的名稱，有提供則回傳 y\n",
    "    image_dir = sorted(os.listdir(path), key=lambda x:int(x[:-4]))\n",
    "    #print(image_dir[:20])\n",
    "    i = 0\n",
    "    predResult = np.zeros((len(image_dir), imgRow, imgCol, 3), dtype=np.uint8)\n",
    "    \n",
    "    for file in tqdm(image_dir):\n",
    "        img = cv2.imread(os.path.join(path, file))\n",
    "        predResult[i, :, :, :] = img\n",
    "        i += 1\n",
    "            \n",
    "    return predResult"
   ]
  },
  {
   "cell_type": "code",
   "execution_count": 12,
   "metadata": {},
   "outputs": [
    {
     "name": "stderr",
     "output_type": "stream",
     "text": [
      "  1%|▉                                                                              | 59/5000 [00:00<00:08, 579.98it/s]"
     ]
    },
    {
     "name": "stdout",
     "output_type": "stream",
     "text": [
      "read pred img\n"
     ]
    },
    {
     "name": "stderr",
     "output_type": "stream",
     "text": [
      "100%|█████████████████████████████████████████████████████████████████████████████| 5000/5000 [00:08<00:00, 576.43it/s]\n",
      "  1%|▉                                                                              | 63/5000 [00:00<00:16, 307.62it/s]"
     ]
    },
    {
     "name": "stdout",
     "output_type": "stream",
     "text": [
      "caculate PSNR\n"
     ]
    },
    {
     "name": "stderr",
     "output_type": "stream",
     "text": [
      "100%|█████████████████████████████████████████████████████████████████████████████| 5000/5000 [00:16<00:00, 307.51it/s]"
     ]
    },
    {
     "name": "stdout",
     "output_type": "stream",
     "text": [
      "23.5841895786079\n"
     ]
    },
    {
     "name": "stderr",
     "output_type": "stream",
     "text": [
      "\n"
     ]
    }
   ],
   "source": [
    "# calculate psnr\n",
    "# https://en.wikipedia.org/wiki/Peak_signal-to-noise_ratio\n",
    "fakeImgPath = \"./result/\"\n",
    "print(\"read pred img\")\n",
    "fakeImgs = readPredResult(path=fakeImgPath, imgRow=val_x[0].shape[0], imgCol=val_x[0].shape[1])\n",
    "\n",
    "print(\"caculate PSNR\")\n",
    "resultPsnr = 0.\n",
    "length = len(val_x)\n",
    "for i in tqdm( range(length) ):\n",
    "    realImg = (np.concatenate((val_x[i], val_y[i]), axis=2)).astype(np.uint8)\n",
    "    realImg = cv2.cvtColor(realImg, cv2.COLOR_LAB2BGR) \n",
    "    resultPsnr += calculate_psnr_np(fakeImgs[i], realImg)\n",
    "\n",
    "print(resultPsnr / length)"
   ]
  },
  {
   "cell_type": "code",
   "execution_count": 13,
   "metadata": {},
   "outputs": [
    {
     "name": "stderr",
     "output_type": "stream",
     "text": [
      "  1%|▉                                                                              | 59/5000 [00:00<00:08, 585.72it/s]"
     ]
    },
    {
     "name": "stdout",
     "output_type": "stream",
     "text": [
      "read pred img\n"
     ]
    },
    {
     "name": "stderr",
     "output_type": "stream",
     "text": [
      "100%|█████████████████████████████████████████████████████████████████████████████| 5000/5000 [00:08<00:00, 587.15it/s]\n",
      "  1%|▍                                                                              | 28/5000 [00:00<00:18, 272.57it/s]"
     ]
    },
    {
     "name": "stdout",
     "output_type": "stream",
     "text": [
      "caculate PSNR\n"
     ]
    },
    {
     "name": "stderr",
     "output_type": "stream",
     "text": [
      "100%|█████████████████████████████████████████████████████████████████████████████| 5000/5000 [00:15<00:00, 313.63it/s]"
     ]
    },
    {
     "name": "stdout",
     "output_type": "stream",
     "text": [
      "23.872329923483708\n"
     ]
    },
    {
     "name": "stderr",
     "output_type": "stream",
     "text": [
      "\n"
     ]
    }
   ],
   "source": [
    "fakeImgPath = \"./result2/\"\n",
    "print(\"read pred img\")\n",
    "fakeImgs = readPredResult(path=fakeImgPath, imgRow=val_x[0].shape[0], imgCol=val_x[0].shape[1])\n",
    "\n",
    "print(\"caculate PSNR\")\n",
    "resultPsnr = 0.\n",
    "length = len(val_x)\n",
    "for i in tqdm( range(length) ):\n",
    "    realImg = (np.concatenate((val_x[i], val_y[i]), axis=2)).astype(np.uint8)\n",
    "    realImg = cv2.cvtColor(realImg, cv2.COLOR_LAB2BGR) \n",
    "    resultPsnr += calculate_psnr_np(fakeImgs[i], realImg)\n",
    "\n",
    "print(resultPsnr / length)"
   ]
  },
  {
   "cell_type": "code",
   "execution_count": 14,
   "metadata": {},
   "outputs": [
    {
     "name": "stderr",
     "output_type": "stream",
     "text": [
      "  1%|▊                                                                              | 48/5000 [00:00<00:10, 479.27it/s]"
     ]
    },
    {
     "name": "stdout",
     "output_type": "stream",
     "text": [
      "read pred img\n"
     ]
    },
    {
     "name": "stderr",
     "output_type": "stream",
     "text": [
      "100%|█████████████████████████████████████████████████████████████████████████████| 5000/5000 [00:10<00:00, 456.71it/s]\n",
      "  1%|▉                                                                              | 56/5000 [00:00<00:18, 272.91it/s]"
     ]
    },
    {
     "name": "stdout",
     "output_type": "stream",
     "text": [
      "caculate PSNR\n"
     ]
    },
    {
     "name": "stderr",
     "output_type": "stream",
     "text": [
      "100%|█████████████████████████████████████████████████████████████████████████████| 5000/5000 [00:16<00:00, 312.49it/s]"
     ]
    },
    {
     "name": "stdout",
     "output_type": "stream",
     "text": [
      "23.628412153260726\n"
     ]
    },
    {
     "name": "stderr",
     "output_type": "stream",
     "text": [
      "\n"
     ]
    }
   ],
   "source": [
    "# calculate psnr\n",
    "# https://en.wikipedia.org/wiki/Peak_signal-to-noise_ratio\n",
    "fakeImgPath = \"./test/\"\n",
    "print(\"read pred img\")\n",
    "fakeImgs = readPredResult(path=fakeImgPath, imgRow=val_x[0].shape[0], imgCol=val_x[0].shape[1])\n",
    "\n",
    "print(\"caculate PSNR\")\n",
    "resultPsnr = 0.\n",
    "length = len(val_x)\n",
    "for i in tqdm( range(length) ):\n",
    "    realImg = (np.concatenate((test_x[i], test_y[i]), axis=2)).astype(np.uint8)\n",
    "    realImg = cv2.cvtColor(realImg, cv2.COLOR_LAB2BGR) \n",
    "    resultPsnr += calculate_psnr_np(fakeImgs[i], realImg)\n",
    "\n",
    "print(resultPsnr / length)"
   ]
  },
  {
   "cell_type": "code",
   "execution_count": 16,
   "metadata": {},
   "outputs": [
    {
     "name": "stderr",
     "output_type": "stream",
     "text": [
      "  1%|▋                                                                              | 43/5000 [00:00<00:11, 427.50it/s]"
     ]
    },
    {
     "name": "stdout",
     "output_type": "stream",
     "text": [
      "read pred img\n"
     ]
    },
    {
     "name": "stderr",
     "output_type": "stream",
     "text": [
      "100%|█████████████████████████████████████████████████████████████████████████████| 5000/5000 [00:10<00:00, 454.75it/s]\n",
      "  1%|▉                                                                              | 59/5000 [00:00<00:17, 280.65it/s]"
     ]
    },
    {
     "name": "stdout",
     "output_type": "stream",
     "text": [
      "caculate PSNR\n"
     ]
    },
    {
     "name": "stderr",
     "output_type": "stream",
     "text": [
      "100%|█████████████████████████████████████████████████████████████████████████████| 5000/5000 [00:15<00:00, 317.51it/s]"
     ]
    },
    {
     "name": "stdout",
     "output_type": "stream",
     "text": [
      "23.9765140914666\n"
     ]
    },
    {
     "name": "stderr",
     "output_type": "stream",
     "text": [
      "\n"
     ]
    }
   ],
   "source": [
    "# calculate psnr\n",
    "# https://en.wikipedia.org/wiki/Peak_signal-to-noise_ratio\n",
    "fakeImgPath = \"./test2/\"\n",
    "print(\"read pred img\")\n",
    "fakeImgs = readPredResult(path=fakeImgPath, imgRow=val_x[0].shape[0], imgCol=val_x[0].shape[1])\n",
    "\n",
    "print(\"caculate PSNR\")\n",
    "resultPsnr = 0.\n",
    "length = len(val_x)\n",
    "for i in tqdm( range(length) ):\n",
    "    realImg = (np.concatenate((test_x[i], test_y[i]), axis=2)).astype(np.uint8)\n",
    "    realImg = cv2.cvtColor(realImg, cv2.COLOR_LAB2BGR) \n",
    "    resultPsnr += calculate_psnr_np(fakeImgs[i], realImg)\n",
    "\n",
    "print(resultPsnr / length)"
   ]
  },
  {
   "cell_type": "code",
   "execution_count": null,
   "metadata": {},
   "outputs": [],
   "source": []
  }
 ],
 "metadata": {
  "kernelspec": {
   "display_name": "Python 3",
   "language": "python",
   "name": "python3"
  },
  "language_info": {
   "codemirror_mode": {
    "name": "ipython",
    "version": 3
   },
   "file_extension": ".py",
   "mimetype": "text/x-python",
   "name": "python",
   "nbconvert_exporter": "python",
   "pygments_lexer": "ipython3",
   "version": "3.7.7"
  }
 },
 "nbformat": 4,
 "nbformat_minor": 2
}
